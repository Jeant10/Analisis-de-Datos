{
 "cells": [
  {
   "cell_type": "code",
   "execution_count": 1,
   "id": "6b862b9a",
   "metadata": {},
   "outputs": [
    {
     "name": "stdout",
     "output_type": "stream",
     "text": [
      "Defaulting to user installation because normal site-packages is not writeable\n",
      "Requirement already satisfied: pandas in c:\\program files\\arcgis\\pro\\bin\\python\\envs\\arcgispro-py3\\lib\\site-packages (1.2.3)\n",
      "Requirement already satisfied: pytz>=2017.3 in c:\\program files\\arcgis\\pro\\bin\\python\\envs\\arcgispro-py3\\lib\\site-packages\\pytz-2020.1-py3.7.egg (from pandas) (2020.1)\n",
      "Requirement already satisfied: numpy>=1.16.5 in c:\\program files\\arcgis\\pro\\bin\\python\\envs\\arcgispro-py3\\lib\\site-packages (from pandas) (1.20.1)\n",
      "Requirement already satisfied: python-dateutil>=2.7.3 in c:\\program files\\arcgis\\pro\\bin\\python\\envs\\arcgispro-py3\\lib\\site-packages (from pandas) (2.8.1)\n",
      "Requirement already satisfied: six>=1.5 in c:\\program files\\arcgis\\pro\\bin\\python\\envs\\arcgispro-py3\\lib\\site-packages (from python-dateutil>=2.7.3->pandas) (1.15.0)\n"
     ]
    }
   ],
   "source": [
    "!pip install pandas"
   ]
  },
  {
   "cell_type": "code",
   "execution_count": 79,
   "id": "1fa87c39",
   "metadata": {},
   "outputs": [
    {
     "data": {
      "text/plain": [
       "10"
      ]
     },
     "execution_count": 79,
     "metadata": {},
     "output_type": "execute_result"
    }
   ],
   "source": [
    "import pandas as pd\n",
    "\n",
    "s = pd.Series([1,1,1,1,3,3,3,5,4,4])\n",
    "s.count()"
   ]
  },
  {
   "cell_type": "code",
   "execution_count": 6,
   "id": "b988eea3",
   "metadata": {},
   "outputs": [
    {
     "data": {
      "text/plain": [
       "26"
      ]
     },
     "execution_count": 6,
     "metadata": {},
     "output_type": "execute_result"
    }
   ],
   "source": [
    "s.sum()"
   ]
  },
  {
   "cell_type": "code",
   "execution_count": 7,
   "id": "1ff8b4e7",
   "metadata": {},
   "outputs": [
    {
     "data": {
      "text/plain": [
       "0     1\n",
       "1     2\n",
       "2     3\n",
       "3     4\n",
       "4     7\n",
       "5    10\n",
       "6    13\n",
       "7    18\n",
       "8    22\n",
       "9    26\n",
       "dtype: int64"
      ]
     },
     "execution_count": 7,
     "metadata": {},
     "output_type": "execute_result"
    }
   ],
   "source": [
    "s.cumsum()"
   ]
  },
  {
   "cell_type": "code",
   "execution_count": 8,
   "id": "2193d086",
   "metadata": {},
   "outputs": [
    {
     "data": {
      "text/plain": [
       "1    4\n",
       "3    3\n",
       "4    2\n",
       "5    1\n",
       "dtype: int64"
      ]
     },
     "execution_count": 8,
     "metadata": {},
     "output_type": "execute_result"
    }
   ],
   "source": [
    "s.value_counts()"
   ]
  },
  {
   "cell_type": "code",
   "execution_count": 9,
   "id": "cfe97919",
   "metadata": {},
   "outputs": [
    {
     "data": {
      "text/plain": [
       "1    0.4\n",
       "3    0.3\n",
       "4    0.2\n",
       "5    0.1\n",
       "dtype: float64"
      ]
     },
     "execution_count": 9,
     "metadata": {},
     "output_type": "execute_result"
    }
   ],
   "source": [
    "s.value_counts(normalize = True)"
   ]
  },
  {
   "cell_type": "code",
   "execution_count": 10,
   "id": "f4b02320",
   "metadata": {},
   "outputs": [
    {
     "name": "stdout",
     "output_type": "stream",
     "text": [
      "Min 1\n",
      "Max 5\n",
      "Media 2.6\n"
     ]
    }
   ],
   "source": [
    "print(\"Min\",s.min())\n",
    "print(\"Max\",s.max())\n",
    "print(\"Media\",s.mean())"
   ]
  },
  {
   "cell_type": "code",
   "execution_count": 11,
   "id": "e0a7d269",
   "metadata": {},
   "outputs": [
    {
     "name": "stdout",
     "output_type": "stream",
     "text": [
      "0    1\n",
      "1    1\n",
      "2    1\n",
      "3    1\n",
      "4    3\n",
      "5    3\n",
      "6    3\n",
      "8    4\n",
      "9    4\n",
      "7    5\n",
      "dtype: int64\n",
      "9    4\n",
      "8    4\n",
      "7    5\n",
      "6    3\n",
      "5    3\n",
      "4    3\n",
      "3    1\n",
      "2    1\n",
      "1    1\n",
      "0    1\n",
      "dtype: int64\n"
     ]
    }
   ],
   "source": [
    "print(s.sort_values())\n",
    "print(s.sort_index(ascending=False))"
   ]
  },
  {
   "cell_type": "code",
   "execution_count": 13,
   "id": "42cca7d8",
   "metadata": {},
   "outputs": [
    {
     "name": "stdout",
     "output_type": "stream",
     "text": [
      "Desviacion estandar 1.5055453054181622\n"
     ]
    }
   ],
   "source": [
    "print(\"Desviacion estandar\", s.std())"
   ]
  },
  {
   "cell_type": "code",
   "execution_count": 14,
   "id": "10e2e9c9",
   "metadata": {},
   "outputs": [
    {
     "data": {
      "text/plain": [
       "count    10.000000\n",
       "mean      2.600000\n",
       "std       1.505545\n",
       "min       1.000000\n",
       "25%       1.000000\n",
       "50%       3.000000\n",
       "75%       3.750000\n",
       "max       5.000000\n",
       "dtype: float64"
      ]
     },
     "execution_count": 14,
     "metadata": {},
     "output_type": "execute_result"
    }
   ],
   "source": [
    "s.describe()"
   ]
  },
  {
   "cell_type": "code",
   "execution_count": 16,
   "id": "879e0d03",
   "metadata": {},
   "outputs": [
    {
     "name": "stdout",
     "output_type": "stream",
     "text": [
      "0    3\n",
      "1    4\n",
      "2    5\n",
      "3    6\n",
      "4    7\n",
      "dtype: int64\n"
     ]
    }
   ],
   "source": [
    "s = pd.Series([1,2,3,4,5])\n",
    "print(s+2)"
   ]
  },
  {
   "cell_type": "code",
   "execution_count": 18,
   "id": "d3219e25",
   "metadata": {},
   "outputs": [
    {
     "name": "stdout",
     "output_type": "stream",
     "text": [
      "0    1\n",
      "1    2\n",
      "2    3\n",
      "3    4\n",
      "4    5\n",
      "dtype: int64\n",
      "Factorial de  5 es 120\n"
     ]
    }
   ],
   "source": [
    "from math import *\n",
    "s.apply(log)\n",
    "print(s)\n",
    "\n",
    "print(\"Factorial de\",s[4], \"es\", factorial(s[4]))"
   ]
  },
  {
   "cell_type": "code",
   "execution_count": 20,
   "id": "e1cab858",
   "metadata": {},
   "outputs": [
    {
     "data": {
      "text/plain": [
       "0    aa\n",
       "1    bb\n",
       "2    cc\n",
       "dtype: object"
      ]
     },
     "execution_count": 20,
     "metadata": {},
     "output_type": "execute_result"
    }
   ],
   "source": [
    "s2 = pd.Series(['a','b','c'])\n",
    "s2*2"
   ]
  },
  {
   "cell_type": "code",
   "execution_count": 24,
   "id": "83f7966b",
   "metadata": {},
   "outputs": [
    {
     "data": {
      "text/plain": [
       "0    a\n",
       "1    b\n",
       "3    c\n",
       "5    d\n",
       "dtype: object"
      ]
     },
     "execution_count": 24,
     "metadata": {},
     "output_type": "execute_result"
    }
   ],
   "source": [
    "import numpy as np\n",
    "s=pd.Series(['a','b',None,'c',np.NaN,'d'])\n",
    "s.dropna()"
   ]
  },
  {
   "cell_type": "code",
   "execution_count": 28,
   "id": "08e19dfd",
   "metadata": {},
   "outputs": [
    {
     "name": "stdout",
     "output_type": "stream",
     "text": [
      "Segundo\n"
     ]
    }
   ],
   "source": [
    "s = pd.Series(['Primero','Segundo','Tercero'],[0,2,3])\n",
    "print(s[2])"
   ]
  },
  {
   "cell_type": "code",
   "execution_count": 29,
   "id": "69d9edbc",
   "metadata": {},
   "outputs": [
    {
     "name": "stdout",
     "output_type": "stream",
     "text": [
      "2    Segundo\n",
      "3    Tercero\n",
      "dtype: object\n"
     ]
    }
   ],
   "source": [
    "w = pd.Series(['Matematicas','Historia','Economia','Programacion','Ingles'],dtype='string')\n",
    "print(s[1:3])"
   ]
  },
  {
   "cell_type": "code",
   "execution_count": 32,
   "id": "1dbf3a14",
   "metadata": {},
   "outputs": [
    {
     "name": "stdout",
     "output_type": "stream",
     "text": [
      "BDD             8.0\n",
      "Programacion    8.5\n",
      "Estadistica     8.5\n",
      "dtype: float64\n"
     ]
    }
   ],
   "source": [
    "s=pd.Series({'BDD':8.0,'Programacion':8.5,'Estadistica':8.5})\n",
    "print(s)"
   ]
  },
  {
   "cell_type": "code",
   "execution_count": 33,
   "id": "1990b493",
   "metadata": {},
   "outputs": [
    {
     "name": "stdout",
     "output_type": "stream",
     "text": [
      "Ejemplo 1 --> 8.5\n",
      "Ejemplo 2 --> 8.5\n"
     ]
    }
   ],
   "source": [
    "print(\"Ejemplo 1 -->\",s['Programacion'])\n",
    "print(\"Ejemplo 2 -->\",s['Estadistica'])"
   ]
  },
  {
   "cell_type": "code",
   "execution_count": 34,
   "id": "6975585e",
   "metadata": {},
   "outputs": [
    {
     "name": "stdout",
     "output_type": "stream",
     "text": [
      "Matematicas     6.0\n",
      "Programacion    8.5\n",
      "dtype: float64\n"
     ]
    }
   ],
   "source": [
    "s=pd.Series({'Matematicas':6.0,'Economia':4.5,'Programacion':8.5})\n",
    "print(s[s>5])"
   ]
  },
  {
   "cell_type": "code",
   "execution_count": 35,
   "id": "c3ecf5c0",
   "metadata": {},
   "outputs": [
    {
     "data": {
      "text/plain": [
       "a    1\n",
       "b    2\n",
       "c    3\n",
       "dtype: int64"
      ]
     },
     "execution_count": 35,
     "metadata": {},
     "output_type": "execute_result"
    }
   ],
   "source": [
    "etiquetas = ['a','b','c']\n",
    "datos = [1,2,3]\n",
    "pd.Series(data = datos, index = etiquetas)"
   ]
  },
  {
   "cell_type": "code",
   "execution_count": 36,
   "id": "e1472992",
   "metadata": {},
   "outputs": [
    {
     "data": {
      "text/plain": [
       "venta-1    5\n",
       "venta-2    6\n",
       "venta-3    7\n",
       "dtype: int32"
      ]
     },
     "execution_count": 36,
     "metadata": {},
     "output_type": "execute_result"
    }
   ],
   "source": [
    "array = np.arange(5,8)\n",
    "etiquetas2 = ['venta-1','venta-2','venta-3']\n",
    "pd.Series(array,etiquetas2)"
   ]
  },
  {
   "cell_type": "code",
   "execution_count": 38,
   "id": "21db0f50",
   "metadata": {},
   "outputs": [
    {
     "name": "stdout",
     "output_type": "stream",
     "text": [
      "venta-1     5.0\n",
      "venta-2    10.0\n",
      "venta-3     8.0\n",
      "venta-4     NaN\n",
      "dtype: float64\n"
     ]
    }
   ],
   "source": [
    "serie1= pd.Series([1,2,3,4],['venta-1','venta-2','venta-3','venta-4'])\n",
    "serie2 = pd.Series([4,8,5],['venta-1','venta-2','venta-3'])\n",
    "suma = serie1+serie2\n",
    "print(suma)"
   ]
  },
  {
   "cell_type": "code",
   "execution_count": 40,
   "id": "740200ac",
   "metadata": {},
   "outputs": [
    {
     "name": "stdout",
     "output_type": "stream",
     "text": [
      "   nombre  edad         grado            correo\n",
      "0   Maria    18      Economia   maria@gmail.com\n",
      "1    Luis    22      Medicina     luis@yahoo.es\n",
      "2  Carmen    30  Arquitectura  carmen@gmail.com\n"
     ]
    }
   ],
   "source": [
    "datos = {'nombre':['Maria','Luis','Carmen'],\n",
    "        'edad':[18,22,30],\n",
    "        'grado':['Economia','Medicina','Arquitectura'],\n",
    "        'correo':['maria@gmail.com','luis@yahoo.es','carmen@gmail.com']\n",
    "        }\n",
    "\n",
    "df = pd.DataFrame(datos)\n",
    "print(df)"
   ]
  },
  {
   "cell_type": "code",
   "execution_count": 41,
   "id": "10c3d159",
   "metadata": {},
   "outputs": [
    {
     "name": "stdout",
     "output_type": "stream",
     "text": [
      "  Nombre  Edad\n",
      "0  Maria    18\n",
      "1  Maria    22\n",
      "2  Maria    20\n"
     ]
    }
   ],
   "source": [
    "df = pd.DataFrame([['Maria',18],\n",
    "                  ['Maria',22],\n",
    "                  ['Maria',20]], columns = ['Nombre','Edad'])\n",
    "print(df)"
   ]
  },
  {
   "cell_type": "code",
   "execution_count": 73,
   "id": "2705a2bb",
   "metadata": {},
   "outputs": [
    {
     "name": "stdout",
     "output_type": "stream",
     "text": [
      "   Nombre  Edad\n",
      "0   Maria  18.0\n",
      "1    Luis  22.0\n",
      "2  Carmen   NaN\n"
     ]
    }
   ],
   "source": [
    "df = pd.DataFrame([{'Nombre':'Maria','Edad':18},{'Nombre':'Luis','Edad':22},{'Nombre':'Carmen'}])\n",
    "print(df)"
   ]
  },
  {
   "cell_type": "code",
   "execution_count": 56,
   "id": "0cf6c7cf",
   "metadata": {},
   "outputs": [
    {
     "name": "stdout",
     "output_type": "stream",
     "text": [
      "          a         b         c\n",
      "0 -2.412818 -0.836981  0.071509\n",
      "1  1.160225 -2.711972  0.640858\n",
      "2  0.282141  0.727053  1.708267\n",
      "3  0.689929  0.340865 -0.035675\n"
     ]
    }
   ],
   "source": [
    "df = pd.DataFrame(np.random.randn(4,3),columns=['a','b','c'])\n",
    "print(df)"
   ]
  },
  {
   "cell_type": "code",
   "execution_count": 59,
   "id": "b1e133bf",
   "metadata": {},
   "outputs": [
    {
     "name": "stdout",
     "output_type": "stream",
     "text": [
      "<class 'pandas.core.frame.DataFrame'>\n",
      "RangeIndex: 3 entries, 0 to 2\n",
      "Data columns (total 2 columns):\n",
      " #   Column  Non-Null Count  Dtype  \n",
      "---  ------  --------------  -----  \n",
      " 0   Nombre  3 non-null      object \n",
      " 1   Edad    2 non-null      float64\n",
      "dtypes: float64(1), object(1)\n",
      "memory usage: 176.0+ bytes\n"
     ]
    }
   ],
   "source": [
    "df.info()"
   ]
  },
  {
   "cell_type": "code",
   "execution_count": 61,
   "id": "43b3c1f1",
   "metadata": {},
   "outputs": [
    {
     "data": {
      "text/plain": [
       "(3, 2)"
      ]
     },
     "execution_count": 61,
     "metadata": {},
     "output_type": "execute_result"
    }
   ],
   "source": [
    "df.shape"
   ]
  },
  {
   "cell_type": "code",
   "execution_count": 62,
   "id": "f6637220",
   "metadata": {},
   "outputs": [
    {
     "data": {
      "text/plain": [
       "6"
      ]
     },
     "execution_count": 62,
     "metadata": {},
     "output_type": "execute_result"
    }
   ],
   "source": [
    "df.size"
   ]
  },
  {
   "cell_type": "code",
   "execution_count": 63,
   "id": "dfd5de18",
   "metadata": {},
   "outputs": [
    {
     "data": {
      "text/plain": [
       "Index(['Nombre', 'Edad'], dtype='object')"
      ]
     },
     "execution_count": 63,
     "metadata": {},
     "output_type": "execute_result"
    }
   ],
   "source": [
    "df.columns"
   ]
  },
  {
   "cell_type": "code",
   "execution_count": 64,
   "id": "56ffa887",
   "metadata": {},
   "outputs": [
    {
     "data": {
      "text/plain": [
       "RangeIndex(start=0, stop=3, step=1)"
      ]
     },
     "execution_count": 64,
     "metadata": {},
     "output_type": "execute_result"
    }
   ],
   "source": [
    "df.index"
   ]
  },
  {
   "cell_type": "code",
   "execution_count": 65,
   "id": "66ecda13",
   "metadata": {},
   "outputs": [
    {
     "data": {
      "text/plain": [
       "Nombre     object\n",
       "Edad      float64\n",
       "dtype: object"
      ]
     },
     "execution_count": 65,
     "metadata": {},
     "output_type": "execute_result"
    }
   ],
   "source": [
    "df.dtypes"
   ]
  },
  {
   "cell_type": "code",
   "execution_count": 67,
   "id": "dc124037",
   "metadata": {},
   "outputs": [
    {
     "data": {
      "text/html": [
       "<div>\n",
       "<style scoped>\n",
       "    .dataframe tbody tr th:only-of-type {\n",
       "        vertical-align: middle;\n",
       "    }\n",
       "\n",
       "    .dataframe tbody tr th {\n",
       "        vertical-align: top;\n",
       "    }\n",
       "\n",
       "    .dataframe thead th {\n",
       "        text-align: right;\n",
       "    }\n",
       "</style>\n",
       "<table border=\"1\" class=\"dataframe\">\n",
       "  <thead>\n",
       "    <tr style=\"text-align: right;\">\n",
       "      <th></th>\n",
       "      <th>Nombre</th>\n",
       "      <th>Edad</th>\n",
       "    </tr>\n",
       "  </thead>\n",
       "  <tbody>\n",
       "    <tr>\n",
       "      <th>0</th>\n",
       "      <td>Maria</td>\n",
       "      <td>18.0</td>\n",
       "    </tr>\n",
       "    <tr>\n",
       "      <th>1</th>\n",
       "      <td>Luis</td>\n",
       "      <td>22.0</td>\n",
       "    </tr>\n",
       "  </tbody>\n",
       "</table>\n",
       "</div>"
      ],
      "text/plain": [
       "  Nombre  Edad\n",
       "0  Maria  18.0\n",
       "1   Luis  22.0"
      ]
     },
     "execution_count": 67,
     "metadata": {},
     "output_type": "execute_result"
    }
   ],
   "source": [
    "df.head(2)"
   ]
  },
  {
   "cell_type": "code",
   "execution_count": 68,
   "id": "9b2d2263",
   "metadata": {},
   "outputs": [
    {
     "data": {
      "text/html": [
       "<div>\n",
       "<style scoped>\n",
       "    .dataframe tbody tr th:only-of-type {\n",
       "        vertical-align: middle;\n",
       "    }\n",
       "\n",
       "    .dataframe tbody tr th {\n",
       "        vertical-align: top;\n",
       "    }\n",
       "\n",
       "    .dataframe thead th {\n",
       "        text-align: right;\n",
       "    }\n",
       "</style>\n",
       "<table border=\"1\" class=\"dataframe\">\n",
       "  <thead>\n",
       "    <tr style=\"text-align: right;\">\n",
       "      <th></th>\n",
       "      <th>Nombre</th>\n",
       "      <th>Edad</th>\n",
       "    </tr>\n",
       "  </thead>\n",
       "  <tbody>\n",
       "    <tr>\n",
       "      <th>1</th>\n",
       "      <td>Luis</td>\n",
       "      <td>22.0</td>\n",
       "    </tr>\n",
       "    <tr>\n",
       "      <th>2</th>\n",
       "      <td>Carmen</td>\n",
       "      <td>NaN</td>\n",
       "    </tr>\n",
       "  </tbody>\n",
       "</table>\n",
       "</div>"
      ],
      "text/plain": [
       "   Nombre  Edad\n",
       "1    Luis  22.0\n",
       "2  Carmen   NaN"
      ]
     },
     "execution_count": 68,
     "metadata": {},
     "output_type": "execute_result"
    }
   ],
   "source": [
    "df.tail(2)"
   ]
  },
  {
   "cell_type": "code",
   "execution_count": 72,
   "id": "3b126fec",
   "metadata": {},
   "outputs": [
    {
     "data": {
      "text/html": [
       "<div>\n",
       "<style scoped>\n",
       "    .dataframe tbody tr th:only-of-type {\n",
       "        vertical-align: middle;\n",
       "    }\n",
       "\n",
       "    .dataframe tbody tr th {\n",
       "        vertical-align: top;\n",
       "    }\n",
       "\n",
       "    .dataframe thead th {\n",
       "        text-align: right;\n",
       "    }\n",
       "</style>\n",
       "<table border=\"1\" class=\"dataframe\">\n",
       "  <thead>\n",
       "    <tr style=\"text-align: right;\">\n",
       "      <th></th>\n",
       "      <th>Nombre</th>\n",
       "      <th>Edad</th>\n",
       "    </tr>\n",
       "  </thead>\n",
       "  <tbody>\n",
       "    <tr>\n",
       "      <th>0</th>\n",
       "      <td>Maria</td>\n",
       "      <td>18.0</td>\n",
       "    </tr>\n",
       "    <tr>\n",
       "      <th>1</th>\n",
       "      <td>Luis</td>\n",
       "      <td>22.0</td>\n",
       "    </tr>\n",
       "  </tbody>\n",
       "</table>\n",
       "</div>"
      ],
      "text/plain": [
       "  Nombre  Edad\n",
       "0  Maria  18.0\n",
       "1   Luis  22.0"
      ]
     },
     "execution_count": 72,
     "metadata": {},
     "output_type": "execute_result"
    }
   ],
   "source": [
    "df.dropna()"
   ]
  },
  {
   "cell_type": "code",
   "execution_count": 74,
   "id": "f4035d0d",
   "metadata": {},
   "outputs": [
    {
     "data": {
      "text/html": [
       "<div>\n",
       "<style scoped>\n",
       "    .dataframe tbody tr th:only-of-type {\n",
       "        vertical-align: middle;\n",
       "    }\n",
       "\n",
       "    .dataframe tbody tr th {\n",
       "        vertical-align: top;\n",
       "    }\n",
       "\n",
       "    .dataframe thead th {\n",
       "        text-align: right;\n",
       "    }\n",
       "</style>\n",
       "<table border=\"1\" class=\"dataframe\">\n",
       "  <thead>\n",
       "    <tr style=\"text-align: right;\">\n",
       "      <th></th>\n",
       "      <th>Nombre</th>\n",
       "      <th>Edad</th>\n",
       "    </tr>\n",
       "  </thead>\n",
       "  <tbody>\n",
       "    <tr>\n",
       "      <th>0</th>\n",
       "      <td>Maria</td>\n",
       "      <td>18.0</td>\n",
       "    </tr>\n",
       "    <tr>\n",
       "      <th>1</th>\n",
       "      <td>Luis</td>\n",
       "      <td>22.0</td>\n",
       "    </tr>\n",
       "    <tr>\n",
       "      <th>2</th>\n",
       "      <td>Carmen</td>\n",
       "      <td>19.0</td>\n",
       "    </tr>\n",
       "  </tbody>\n",
       "</table>\n",
       "</div>"
      ],
      "text/plain": [
       "   Nombre  Edad\n",
       "0   Maria  18.0\n",
       "1    Luis  22.0\n",
       "2  Carmen  19.0"
      ]
     },
     "execution_count": 74,
     "metadata": {},
     "output_type": "execute_result"
    }
   ],
   "source": [
    "df.fillna(value=19)"
   ]
  },
  {
   "cell_type": "code",
   "execution_count": 76,
   "id": "272dcecb",
   "metadata": {},
   "outputs": [
    {
     "data": {
      "text/plain": [
       "Nombre    3\n",
       "Edad      2\n",
       "dtype: int64"
      ]
     },
     "execution_count": 76,
     "metadata": {},
     "output_type": "execute_result"
    }
   ],
   "source": [
    "df.nunique()"
   ]
  },
  {
   "cell_type": "code",
   "execution_count": null,
   "id": "0db8c42a",
   "metadata": {},
   "outputs": [],
   "source": [
    "inicio = int(input('Ingrese el año inicial: '))\n",
    "fin = int(input('Ingrese el año final: '))\n",
    "\n",
    "ventas = {}\n",
    "\n",
    "for i in range(inicio,fin+1):\n",
    "    ventas[i] = float(input('Ingrese las ventas del año: ' + str(i) + ': '))\n",
    "ventas = pd.Series(ventas)\n",
    "conDescuento = ventas*0.2\n",
    "\n",
    "print(\"\\nVentas sin descuento\\n\", ventas)\n",
    "print(\"\\nVentas con descuento\\n\", ventas-conDescuento)"
   ]
  },
  {
   "cell_type": "code",
   "execution_count": null,
   "id": "333c9bb7",
   "metadata": {},
   "outputs": [],
   "source": [
    "def estadistica_notas(notas):\n",
    "    estadisticos = pd.Series([notas.min(),notas.max(),notas.mean(),notas.std()], index = ['Min','Max','Media','Dst'])\n",
    "    return estadisticos\n",
    "\n",
    "notas = {'Juan':9,'Maria':6.5,'Pedro':4,'Carmen':8.5,'Luis':5,'Isabel':7}\n",
    "serieNotas = pd.Series(notas)\n",
    "print(estadistica_notas(serieNotas).round(2))"
   ]
  },
  {
   "cell_type": "code",
   "execution_count": null,
   "id": "0415ab14",
   "metadata": {},
   "outputs": [],
   "source": []
  }
 ],
 "metadata": {
  "kernelspec": {
   "display_name": "Python 3 (ipykernel)",
   "language": "python",
   "name": "python3"
  },
  "language_info": {
   "codemirror_mode": {
    "name": "ipython",
    "version": 3
   },
   "file_extension": ".py",
   "mimetype": "text/x-python",
   "name": "python",
   "nbconvert_exporter": "python",
   "pygments_lexer": "ipython3",
   "version": "3.9.12"
  },
  "vscode": {
   "interpreter": {
    "hash": "cbd79b8f809d5e445bcbf2d2989ad0693d156a1c4690214d67def296041609a7"
   }
  }
 },
 "nbformat": 4,
 "nbformat_minor": 5
}
