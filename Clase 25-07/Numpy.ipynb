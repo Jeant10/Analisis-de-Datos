{
 "cells": [
  {
   "cell_type": "code",
   "execution_count": 4,
   "id": "aaab7660",
   "metadata": {},
   "outputs": [],
   "source": [
    "import numpy as np\n"
   ]
  },
  {
   "cell_type": "code",
   "execution_count": 6,
   "id": "9c75a8dc",
   "metadata": {},
   "outputs": [
    {
     "name": "stdout",
     "output_type": "stream",
     "text": [
      "[[1 2 3]\n",
      " [4 5 6]]\n"
     ]
    }
   ],
   "source": [
    "lista = [1,2,3,4]\n",
    "lista2 = np.array([[1,2,3],[4,5,6]])\n",
    "print(lista2)"
   ]
  },
  {
   "cell_type": "code",
   "execution_count": 13,
   "id": "f45cc467",
   "metadata": {},
   "outputs": [
    {
     "data": {
      "text/plain": [
       "array([[    0,     0,     0,     0],\n",
       "       [    0,     0,     0,     0],\n",
       "       [    0,     0,  1364,     0],\n",
       "       [    0,    93,     0, 32767]])"
      ]
     },
     "execution_count": 13,
     "metadata": {},
     "output_type": "execute_result"
    }
   ],
   "source": [
    "np.empty([4,4],dtype=int)"
   ]
  },
  {
   "cell_type": "code",
   "execution_count": 14,
   "id": "55a771f9",
   "metadata": {},
   "outputs": [
    {
     "data": {
      "text/plain": [
       "array([[0., 0., 0., 0.],\n",
       "       [0., 0., 0., 0.],\n",
       "       [0., 0., 0., 0.],\n",
       "       [0., 0., 0., 0.]])"
      ]
     },
     "execution_count": 14,
     "metadata": {},
     "output_type": "execute_result"
    }
   ],
   "source": [
    "np.zeros([4,4])"
   ]
  },
  {
   "cell_type": "code",
   "execution_count": 55,
   "id": "cd88ca7f",
   "metadata": {},
   "outputs": [
    {
     "data": {
      "text/plain": [
       "array([[1., 1., 1., 1.],\n",
       "       [1., 1., 1., 1.],\n",
       "       [1., 1., 1., 1.],\n",
       "       [1., 1., 1., 1.]])"
      ]
     },
     "execution_count": 55,
     "metadata": {},
     "output_type": "execute_result"
    }
   ],
   "source": [
    "np.ones([4,4])"
   ]
  },
  {
   "cell_type": "code",
   "execution_count": 56,
   "id": "9cad29a9",
   "metadata": {},
   "outputs": [
    {
     "data": {
      "text/plain": [
       "array([[2.3, 2.3, 2.3, 2.3],\n",
       "       [2.3, 2.3, 2.3, 2.3],\n",
       "       [2.3, 2.3, 2.3, 2.3],\n",
       "       [2.3, 2.3, 2.3, 2.3]])"
      ]
     },
     "execution_count": 56,
     "metadata": {},
     "output_type": "execute_result"
    }
   ],
   "source": [
    "np.full([4,4],2.3)"
   ]
  },
  {
   "cell_type": "code",
   "execution_count": 57,
   "id": "86cb4369",
   "metadata": {},
   "outputs": [
    {
     "data": {
      "text/plain": [
       "array([[0.47565611, 0.68772542, 0.14376177, 0.72439286],\n",
       "       [0.9235087 , 0.25789288, 0.23774097, 0.21237328],\n",
       "       [0.91436205, 0.14316857, 0.4262889 , 0.90641392],\n",
       "       [0.82788722, 0.23421667, 0.37631969, 0.08734577]])"
      ]
     },
     "execution_count": 57,
     "metadata": {},
     "output_type": "execute_result"
    }
   ],
   "source": [
    "np.random.random([4,4])"
   ]
  },
  {
   "cell_type": "code",
   "execution_count": 19,
   "id": "b9afb761",
   "metadata": {},
   "outputs": [
    {
     "data": {
      "text/plain": [
       "array([41, 27, 11, 27, 38])"
      ]
     },
     "execution_count": 19,
     "metadata": {},
     "output_type": "execute_result"
    }
   ],
   "source": [
    "np.random.randint(1,50,5)"
   ]
  },
  {
   "cell_type": "code",
   "execution_count": 58,
   "id": "3b982f05",
   "metadata": {},
   "outputs": [
    {
     "data": {
      "text/plain": [
       "array([[1., 0., 0., 0., 0.],\n",
       "       [0., 1., 0., 0., 0.],\n",
       "       [0., 0., 1., 0., 0.],\n",
       "       [0., 0., 0., 1., 0.],\n",
       "       [0., 0., 0., 0., 1.]])"
      ]
     },
     "execution_count": 58,
     "metadata": {},
     "output_type": "execute_result"
    }
   ],
   "source": [
    "np.identity(5)"
   ]
  },
  {
   "cell_type": "code",
   "execution_count": 16,
   "id": "76de9e63",
   "metadata": {},
   "outputs": [
    {
     "data": {
      "text/plain": [
       "array([ 5,  7,  9, 11, 13, 15, 17, 19])"
      ]
     },
     "execution_count": 16,
     "metadata": {},
     "output_type": "execute_result"
    }
   ],
   "source": [
    "np.arange(5,20,2)"
   ]
  },
  {
   "cell_type": "code",
   "execution_count": 59,
   "id": "6985bedb",
   "metadata": {},
   "outputs": [
    {
     "data": {
      "text/plain": [
       "array([10., 24., 38., 52., 66., 80.])"
      ]
     },
     "execution_count": 59,
     "metadata": {},
     "output_type": "execute_result"
    }
   ],
   "source": [
    "np.linspace(10,80,6)"
   ]
  },
  {
   "cell_type": "code",
   "execution_count": 32,
   "id": "a975a006",
   "metadata": {},
   "outputs": [
    {
     "name": "stdout",
     "output_type": "stream",
     "text": [
      "[[ 1  2  3]\n",
      " [ 4  5  6]\n",
      " [ 7  8  9]\n",
      " [10 11 43]]\n",
      "(2, 6)\n",
      "(4, 3)\n"
     ]
    },
    {
     "data": {
      "text/plain": [
       "43"
      ]
     },
     "execution_count": 32,
     "metadata": {},
     "output_type": "execute_result"
    }
   ],
   "source": [
    "ejmA = np.array([[1,2,3,4,5,6],[7,8,9,10,11,43]])\n",
    "ejmB = np.reshape(ejmA,(4,3))\n",
    "print(ejmB)\n",
    "print(ejmA.shape)\n",
    "print(ejmB.shape)\n",
    "\n",
    "ejmA.max() \n",
    "ejmA.argmax() \n",
    "ejmA.min() \n",
    "ejmA.argmin() "
   ]
  },
  {
   "cell_type": "code",
   "execution_count": 34,
   "id": "1ba54aba",
   "metadata": {},
   "outputs": [
    {
     "data": {
      "text/plain": [
       "array([49, 48, 47, 46, 45, 44, 43, 42, 41, 40, 39, 38, 37, 36, 35, 34, 33,\n",
       "       32, 31, 30, 29, 28, 27, 26, 25, 24, 23, 22, 21, 20, 19, 18, 17, 16,\n",
       "       15, 14, 13, 12, 11, 10])"
      ]
     },
     "execution_count": 34,
     "metadata": {},
     "output_type": "execute_result"
    }
   ],
   "source": [
    "a = np.arange(10,50)\n",
    "\n",
    "a[::-1]\n"
   ]
  },
  {
   "cell_type": "code",
   "execution_count": 35,
   "id": "ea600d66",
   "metadata": {},
   "outputs": [
    {
     "data": {
      "text/plain": [
       "array([[0, 1, 2],\n",
       "       [3, 4, 5],\n",
       "       [6, 7, 8]])"
      ]
     },
     "execution_count": 35,
     "metadata": {},
     "output_type": "execute_result"
    }
   ],
   "source": [
    "np.arange(0,9).reshape(3,3)"
   ]
  },
  {
   "cell_type": "code",
   "execution_count": 37,
   "id": "1e119b3b",
   "metadata": {},
   "outputs": [
    {
     "name": "stdout",
     "output_type": "stream",
     "text": [
      "[[[0.70681684 0.35232309 0.9940939 ]\n",
      "  [0.18563125 0.11371766 0.44131475]\n",
      "  [0.84548183 0.50691213 0.29432107]]\n",
      "\n",
      " [[0.03735951 0.60794995 0.56322999]\n",
      "  [0.70243165 0.42923794 0.76750475]\n",
      "  [0.07783216 0.51104493 0.43240292]]\n",
      "\n",
      " [[0.62048318 0.18340952 0.29287271]\n",
      "  [0.66105071 0.97215871 0.54869227]\n",
      "  [0.88337939 0.76822933 0.79295572]]]\n"
     ]
    }
   ],
   "source": [
    "r = np.random.random((3,3,3))\n",
    "print(r)"
   ]
  },
  {
   "cell_type": "code",
   "execution_count": 50,
   "id": "2d7ef0d0",
   "metadata": {},
   "outputs": [
    {
     "name": "stdout",
     "output_type": "stream",
     "text": [
      "[[1. 1. 1. 1. 1. 1. 1. 1. 1. 1.]\n",
      " [1. 0. 0. 0. 0. 0. 0. 0. 0. 1.]\n",
      " [1. 0. 0. 0. 0. 0. 0. 0. 0. 1.]\n",
      " [1. 0. 0. 0. 0. 0. 0. 0. 0. 1.]\n",
      " [1. 0. 0. 0. 0. 0. 0. 0. 0. 1.]\n",
      " [1. 0. 0. 0. 0. 0. 0. 0. 0. 1.]\n",
      " [1. 0. 0. 0. 0. 0. 0. 0. 0. 1.]\n",
      " [1. 0. 0. 0. 0. 0. 0. 0. 0. 1.]\n",
      " [1. 0. 0. 0. 0. 0. 0. 0. 0. 1.]\n",
      " [1. 1. 1. 1. 1. 1. 1. 1. 1. 1.]]\n"
     ]
    }
   ],
   "source": [
    "z = np.ones((10,10))\n",
    "z[1:-1,1:-1] = 0\n",
    "print(z)"
   ]
  },
  {
   "cell_type": "code",
   "execution_count": 54,
   "id": "f761d749",
   "metadata": {},
   "outputs": [
    {
     "data": {
      "text/plain": [
       "array([[0, 1, 2, 3, 4],\n",
       "       [0, 1, 2, 3, 4],\n",
       "       [0, 1, 2, 3, 4],\n",
       "       [0, 1, 2, 3, 4],\n",
       "       [0, 1, 2, 3, 4]])"
      ]
     },
     "execution_count": 54,
     "metadata": {},
     "output_type": "execute_result"
    }
   ],
   "source": [
    "np.tile(np.arange(0,5),5).reshape(5,5)"
   ]
  },
  {
   "cell_type": "code",
   "execution_count": 53,
   "id": "fdbacfa8",
   "metadata": {},
   "outputs": [
    {
     "name": "stdout",
     "output_type": "stream",
     "text": [
      "[[0.10561669 0.9896002  0.56290168]\n",
      " [0.74329338 0.43598615 0.72709786]\n",
      " [0.55019915 0.01047818 0.65475435]]\n",
      "[[0.95525825 0.17956091 0.07107024]\n",
      " [0.87573173 0.30440399 0.09164729]\n",
      " [0.43114483 0.47640536 0.16739333]]\n"
     ]
    },
    {
     "data": {
      "text/plain": [
       "array([[False, False, False],\n",
       "       [False, False, False],\n",
       "       [False, False, False]])"
      ]
     },
     "execution_count": 53,
     "metadata": {},
     "output_type": "execute_result"
    }
   ],
   "source": [
    "a = np.random.random((3,3))\n",
    "b = np.random.random((3,3))\n",
    "print(a)\n",
    "print(b)\n",
    "a == b"
   ]
  },
  {
   "cell_type": "code",
   "execution_count": null,
   "id": "19fac1be",
   "metadata": {},
   "outputs": [],
   "source": []
  }
 ],
 "metadata": {
  "kernelspec": {
   "display_name": "Python 3.9.12 ('base')",
   "language": "python",
   "name": "python3"
  },
  "language_info": {
   "codemirror_mode": {
    "name": "ipython",
    "version": 3
   },
   "file_extension": ".py",
   "mimetype": "text/x-python",
   "name": "python",
   "nbconvert_exporter": "python",
   "pygments_lexer": "ipython3",
   "version": "3.9.12"
  },
  "vscode": {
   "interpreter": {
    "hash": "cbd79b8f809d5e445bcbf2d2989ad0693d156a1c4690214d67def296041609a7"
   }
  }
 },
 "nbformat": 4,
 "nbformat_minor": 5
}
