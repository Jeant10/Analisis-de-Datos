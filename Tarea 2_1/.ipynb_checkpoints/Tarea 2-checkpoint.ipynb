{
 "cells": [
  {
   "cell_type": "code",
   "execution_count": 142,
   "id": "5dfc3a10",
   "metadata": {},
   "outputs": [
    {
     "name": "stdout",
     "output_type": "stream",
     "text": [
      "[3, 10, 8]\n"
     ]
    }
   ],
   "source": [
    "\"\"\"Dadas dos lista de números, sumar los elementos entre ambas listas y mostrar en resultado en una nueva lista. \n",
    "Ej., lista1=[1,2,3]; lista2=[5,8,2]; resultado=[3,10,8]. \n",
    "Realice el ejercicio usando FOR, MAP y LAMBDA.\"\"\"\n",
    "\n",
    "\n",
    "\n",
    "a=[1,2,3]\n",
    "b=[5,8,2]\n",
    " \n",
    "suma=[]\n",
    "\n",
    "x=1\n",
    "\n",
    "for i in range(len(a)):\n",
    "    suma.append(a[i]+b[len(b)-x])\n",
    "    x = x + 1\n",
    "    \n",
    "print(suma)"
   ]
  },
  {
   "cell_type": "code",
   "execution_count": 137,
   "id": "fbd80d7b",
   "metadata": {},
   "outputs": [
    {
     "name": "stdout",
     "output_type": "stream",
     "text": [
      "[3, 10, 8]\n"
     ]
    }
   ],
   "source": [
    "#Uso de map - lambda\n",
    "b.reverse()\n",
    "\n",
    "resultado = list(map(lambda x,y: x + y, a, b))\n",
    "print(resultado)"
   ]
  },
  {
   "cell_type": "code",
   "execution_count": 120,
   "id": "a6431d2e",
   "metadata": {},
   "outputs": [
    {
     "name": "stdout",
     "output_type": "stream",
     "text": [
      "[6, 4, 3, 2, 1]\n"
     ]
    }
   ],
   "source": [
    "\"\"\"Dada la lista números = [2, 0, 0, 4, 6, 1, 0, 0, 0, 3, 0], mostrar en pantalla los valores diferentes a 0 ordenados de forma \n",
    "descendente. El valor 0 podría compararse con None (sugerencia). Usar la función FILTER.\"\"\"\n",
    "\n",
    "numeros = [2, 0, 0, 4, 6, 1, 0, 0, 0, 3, 0]\n",
    "\n",
    "\n",
    "def eliminar_ceros(numeros):\n",
    "    numeros.sort(reverse = True)\n",
    "    nuevo = []\n",
    "    for dato in numeros:\n",
    "        if dato != 0:\n",
    "            nuevo.append(dato)\n",
    "    return nuevo\n",
    "\n",
    "a = eliminar_ceros(numeros)\n",
    "\n",
    "print(a)\n"
   ]
  },
  {
   "cell_type": "code",
   "execution_count": 77,
   "id": "ffbcd310",
   "metadata": {},
   "outputs": [
    {
     "name": "stdout",
     "output_type": "stream",
     "text": [
      "[6, 4, 3, 2, 1]\n"
     ]
    }
   ],
   "source": [
    "def eliminar(dato):\n",
    "    if dato != 0:\n",
    "        return dato\n",
    "        \n",
    "a = list(filter(eliminar, numeros))\n",
    "a.sort(reverse = True)\n",
    "\n",
    "print(a)"
   ]
  },
  {
   "cell_type": "code",
   "execution_count": 57,
   "id": "67927b3b",
   "metadata": {},
   "outputs": [
    {
     "name": "stdout",
     "output_type": "stream",
     "text": [
      "{'uno': '3.0', 'dos': '4.5', 'tres': '6.0'}\n"
     ]
    }
   ],
   "source": [
    "\"\"\"Calcular el área del triángulo 𝑏𝑥ℎ 2 de los elementos del diccionario= {‘uno’:[2,3], ‘dos’:[3,3], ‘tres’:[4,3]}. \n",
    "Implemente las funciones de usuario, map y map-lambda.\"\"\"\n",
    "\n",
    "\n",
    "diccionario= {'uno':[2,3], 'dos':[3,3], 'tres':[4,3]}\n",
    "\n",
    "diccionario2 = {}\n",
    "\n",
    "import math\n",
    "\n",
    "def mostrar_area(diccionario):\n",
    "    for dato in diccionario.items():\n",
    "        diccionario2[dato[0]] = f\"{(dato[1][0]*dato[1][1])/2}\"\n",
    "    return diccionario2\n",
    "\n",
    "print(mostrar_area(diccionario))\n"
   ]
  },
  {
   "cell_type": "code",
   "execution_count": 67,
   "id": "6f9323b2",
   "metadata": {},
   "outputs": [
    {
     "name": "stdout",
     "output_type": "stream",
     "text": [
      "['3.0', '4.5', '6.0']\n"
     ]
    }
   ],
   "source": [
    "def mostrar_area2(dic):\n",
    "    return f\"{(dic[1][0]*dic[1][1])/2}\"\n",
    "    \n",
    "    \n",
    "resultado = list(map(mostrar_area2, diccionario.items()))\n",
    "print(resultado)"
   ]
  },
  {
   "cell_type": "code",
   "execution_count": 68,
   "id": "50b910c6",
   "metadata": {},
   "outputs": [
    {
     "name": "stdout",
     "output_type": "stream",
     "text": [
      "['3.0', '4.5', '6.0']\n"
     ]
    }
   ],
   "source": [
    "#Uso de map - lambda\n",
    "\n",
    "resultado = list(map(lambda dic: f\"{(dic[1][0]*dic[1][1])/2}\", diccionario.items()))\n",
    "print(resultado)"
   ]
  },
  {
   "cell_type": "code",
   "execution_count": null,
   "id": "efc8c477",
   "metadata": {},
   "outputs": [],
   "source": []
  }
 ],
 "metadata": {
  "kernelspec": {
   "display_name": "Python 3 (ipykernel)",
   "language": "python",
   "name": "python3"
  },
  "language_info": {
   "codemirror_mode": {
    "name": "ipython",
    "version": 3
   },
   "file_extension": ".py",
   "mimetype": "text/x-python",
   "name": "python",
   "nbconvert_exporter": "python",
   "pygments_lexer": "ipython3",
   "version": "3.9.12"
  }
 },
 "nbformat": 4,
 "nbformat_minor": 5
}
