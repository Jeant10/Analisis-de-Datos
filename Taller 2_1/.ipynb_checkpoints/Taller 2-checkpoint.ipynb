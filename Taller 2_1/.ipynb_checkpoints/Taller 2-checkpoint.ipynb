{
 "cells": [
  {
   "cell_type": "code",
   "execution_count": 16,
   "id": "bea99cc5",
   "metadata": {},
   "outputs": [
    {
     "name": "stdout",
     "output_type": "stream",
     "text": [
      "Ingrese el valor 1:3\n",
      "Ingrese el valor 2:4\n",
      "Ingrese el valor 3:5\n",
      "Lista ordenada: \n",
      "3\n",
      "4\n",
      "5\n",
      "Lista reordenada: \n",
      "5\n",
      "4\n",
      "3\n"
     ]
    }
   ],
   "source": [
    "'''Dada una cadena de números, comparar los dígitos e \n",
    "indicar cuantos de ellos son pares y cuantos\n",
    "son impares. \n",
    "'''\n",
    "\n",
    "c = \"7,4,8,5,6,7,8,9,11\"\n",
    "\n",
    "def comparar(cadena):\n",
    "    \n",
    "    lista=cadena.split(\",\")\n",
    "    \n",
    "    c1=0\n",
    "    c2=0\n",
    "    i=0\n",
    "    \n",
    "    for i in range(i,len(lista)):\n",
    "        n=int(lista[i])    \n",
    "        if (n%2==0):\n",
    "            c1=c1+1\n",
    "        elif (n%2!=0):\n",
    "            c2=c2+1    \n",
    "        \n",
    "    print(\"existen \",c1, \"numero pares\")\n",
    "    print(\"existen \",c2, \"numero impares\")\n",
    "    \n",
    "\n",
    "comparar(c)"
   ]
  },
  {
   "cell_type": "code",
   "execution_count": null,
   "id": "264f98ec",
   "metadata": {},
   "outputs": [],
   "source": [
    "'''Ingresar 3 valores por teclado y almacenarlos en una lista, ordenarlos, mostrarlos y reordenarlos.\n",
    "Realice una función para cada actividad solicitada(ingresar,ordenar,mostrar y reordenar).\n",
    "Para su ejecución debe invocar la función de usuario ingresar.\n",
    "'''\n",
    "\n",
    "lista = []\n",
    "\n",
    "\n",
    "def ingresar():\n",
    "    i = 0\n",
    "    while (i < 3):\n",
    "        valor = int(input(f\"Ingrese el valor {i+1}:\"))\n",
    "        lista.append(valor)\n",
    "        i = i + 1\n",
    "    print(\"Lista ordenada: \")\n",
    "    ordenar(lista)\n",
    "    mostrar(lista)\n",
    "    print(\"Lista reordenada: \")\n",
    "    reordenar(lista)\n",
    "    mostrar(lista)\n",
    "    \n",
    "\n",
    "def ordenar(lista):\n",
    "    lista.sort()\n",
    "\n",
    "def mostrar(lista):\n",
    "    for valor in lista:\n",
    "        print(valor)\n",
    "\n",
    "def reordenar(lista):\n",
    "    lista.sort(reverse = True)\n",
    "\n",
    "ingresar()"
   ]
  },
  {
   "cell_type": "code",
   "execution_count": 29,
   "id": "a2ba20ca",
   "metadata": {},
   "outputs": [
    {
     "name": "stdout",
     "output_type": "stream",
     "text": [
      "Ingrese el numero de empleados: 2\n",
      "Empleado 1:\n",
      "Nombre: Juan\n",
      "Sueldo: 480\n"
     ]
    },
    {
     "ename": "TypeError",
     "evalue": "'tuple' object does not support item assignment",
     "output_type": "error",
     "traceback": [
      "\u001b[1;31m---------------------------------------------------------------------------\u001b[0m",
      "\u001b[1;31mTypeError\u001b[0m                                 Traceback (most recent call last)",
      "Input \u001b[1;32mIn [29]\u001b[0m, in \u001b[0;36m<cell line: 23>\u001b[1;34m()\u001b[0m\n\u001b[0;32m     20\u001b[0m         \u001b[38;5;28;01mif\u001b[39;00m tupla[i] \u001b[38;5;241m>\u001b[39m mayor:\n\u001b[0;32m     21\u001b[0m             mayor \u001b[38;5;241m=\u001b[39m tupla[i]\n\u001b[1;32m---> 23\u001b[0m \u001b[43mingresar_persona\u001b[49m\u001b[43m(\u001b[49m\u001b[43m)\u001b[49m\n\u001b[0;32m     24\u001b[0m \u001b[38;5;28mprint\u001b[39m(tupla)\n",
      "Input \u001b[1;32mIn [29]\u001b[0m, in \u001b[0;36mingresar_persona\u001b[1;34m()\u001b[0m\n\u001b[0;32m     13\u001b[0m nombre \u001b[38;5;241m=\u001b[39m \u001b[38;5;28minput\u001b[39m(\u001b[38;5;124m\"\u001b[39m\u001b[38;5;124mNombre: \u001b[39m\u001b[38;5;124m\"\u001b[39m)\n\u001b[0;32m     14\u001b[0m sueldo \u001b[38;5;241m=\u001b[39m \u001b[38;5;28mint\u001b[39m(\u001b[38;5;28minput\u001b[39m(\u001b[38;5;124m\"\u001b[39m\u001b[38;5;124mSueldo: \u001b[39m\u001b[38;5;124m\"\u001b[39m))\n\u001b[1;32m---> 15\u001b[0m tupla[i] \u001b[38;5;241m=\u001b[39m [nombre, sueldo]\n\u001b[0;32m     16\u001b[0m i \u001b[38;5;241m=\u001b[39m i \u001b[38;5;241m+\u001b[39m \u001b[38;5;241m1\u001b[39m\n",
      "\u001b[1;31mTypeError\u001b[0m: 'tuple' object does not support item assignment"
     ]
    }
   ],
   "source": [
    "'''Realizar una función que almacene el nombre y sueldo de una persona, utilizar una tupla.\n",
    "Crear otra función para devolver que empleado tiene un sueldo con mayor valor.\n",
    "'''\n",
    "\n",
    "tupla = ()\n",
    "mayor = 0\n",
    "\n",
    "def ingresar_persona():\n",
    "    i = 0\n",
    "    empleados = int(input(\"Ingrese el numero de empleados: \"))\n",
    "    while(i < empleados):\n",
    "        print(f\"Empleado {i+1}:\")\n",
    "        nombre = input(\"Nombre: \")\n",
    "        sueldo = int(input(\"Sueldo: \"))\n",
    "        tupla[i] = [nombre, sueldo]\n",
    "        i = i + 1\n",
    "\n",
    "def mayor_sueldo(tupla):\n",
    "    for i in range(0,len(tupla)):\n",
    "        if tupla[i] > mayor:\n",
    "            mayor = tupla[i]\n",
    "        \n",
    "ingresar_persona()\n",
    "print(tupla)"
   ]
  },
  {
   "cell_type": "code",
   "execution_count": null,
   "id": "ca2e3e59",
   "metadata": {},
   "outputs": [],
   "source": []
  }
 ],
 "metadata": {
  "kernelspec": {
   "display_name": "Python 3 (ipykernel)",
   "language": "python",
   "name": "python3"
  },
  "language_info": {
   "codemirror_mode": {
    "name": "ipython",
    "version": 3
   },
   "file_extension": ".py",
   "mimetype": "text/x-python",
   "name": "python",
   "nbconvert_exporter": "python",
   "pygments_lexer": "ipython3",
   "version": "3.9.12"
  }
 },
 "nbformat": 4,
 "nbformat_minor": 5
}
