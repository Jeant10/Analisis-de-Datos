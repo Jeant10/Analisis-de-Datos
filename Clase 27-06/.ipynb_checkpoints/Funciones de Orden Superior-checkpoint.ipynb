{
 "cells": [
  {
   "cell_type": "code",
   "execution_count": 7,
   "id": "2f26233e",
   "metadata": {},
   "outputs": [
    {
     "name": "stdout",
     "output_type": "stream",
     "text": [
      "['MANGO', 'FRESA', 'MORA', 'PERA']\n",
      "['MANGO', 'FRESA', 'MORA', 'PERA']\n",
      "['MANGO', 'FRESA', 'MORA', 'PERA']\n"
     ]
    }
   ],
   "source": [
    "#transformar a mayusculas el contenido de la siguiente cadena\n",
    "\n",
    "listaFrutas = [\"mango\", \"fresa\", \"mora\", \"pera\"]\n",
    "\n",
    "listaMayusculas = []\n",
    "\n",
    "#Uso de Bucles\n",
    "for fr in listaFrutas:\n",
    "    listaMayusculas.append(fr.upper())\n",
    "\n",
    "print(listaMayusculas)\n",
    "\n",
    "#funcion MAP (no debo usar bucles)\n",
    "def convertirMayuscula(lfr):\n",
    "    return lfr.upper()\n",
    "\n",
    "print(list(map(convertirMayuscula,listaFrutas)))\n",
    "\n",
    "#Funcion Lambda (no uso bucles, ni funciones extras)\n",
    "\n",
    "listafinal = list(map(lambda listfr: listfr.upper(), listaFrutas))\n",
    "\n",
    "print(listafinal)\n"
   ]
  },
  {
   "cell_type": "code",
   "execution_count": null,
   "id": "9f0add85",
   "metadata": {},
   "outputs": [],
   "source": [
    "#elevar al cuadrado los elementos de la lista\n",
    "listaOriginalNumeros = [2,4,8,8,8,2,1,4,8]\n",
    "lisnuevanumeros = []\n",
    "\n",
    "#Usando bucles\n",
    "for a in listaOriginalNumeros:\n",
    "    lisnuevanumeros.append(a **2)\n",
    "    \n",
    "print(lisnuevanumeros)\n",
    "\n"
   ]
  },
  {
   "cell_type": "code",
   "execution_count": null,
   "id": "d3163f3e",
   "metadata": {},
   "outputs": [],
   "source": [
    "#Uso de MAP\n",
    "def mostrar_cuadrado(lista):\n",
    "    retunr lista **2\n",
    "\n",
    "resultado = list(map(mostrar_cuadrado, listaOriginalNumeros))\n",
    "\n"
   ]
  },
  {
   "cell_type": "code",
   "execution_count": null,
   "id": "c8a7b13b",
   "metadata": {},
   "outputs": [],
   "source": []
  }
 ],
 "metadata": {
  "kernelspec": {
   "display_name": "Python 3",
   "language": "python",
   "name": "python3"
  },
  "language_info": {
   "codemirror_mode": {
    "name": "ipython",
    "version": 3
   },
   "file_extension": ".py",
   "mimetype": "text/x-python",
   "name": "python",
   "nbconvert_exporter": "python",
   "pygments_lexer": "ipython3",
   "version": "3.7.11"
  }
 },
 "nbformat": 4,
 "nbformat_minor": 5
}
