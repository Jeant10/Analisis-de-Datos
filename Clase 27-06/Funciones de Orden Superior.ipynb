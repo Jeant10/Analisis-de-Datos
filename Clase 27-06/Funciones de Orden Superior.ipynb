{
 "cells": [
  {
   "cell_type": "code",
   "execution_count": 7,
   "id": "d7b3e67f",
   "metadata": {},
   "outputs": [
    {
     "name": "stdout",
     "output_type": "stream",
     "text": [
      "['MANGO', 'FRESA', 'MORA', 'PERA']\n",
      "['MANGO', 'FRESA', 'MORA', 'PERA']\n",
      "['MANGO', 'FRESA', 'MORA', 'PERA']\n"
     ]
    }
   ],
   "source": [
    "#transformar a mayusculas el contenido de la siguiente cadena\n",
    "\n",
    "listaFrutas = [\"mango\", \"fresa\", \"mora\", \"pera\"]\n",
    "\n",
    "listaMayusculas = []\n",
    "\n",
    "#Uso de Bucles\n",
    "for fr in listaFrutas:\n",
    "    listaMayusculas.append(fr.upper())\n",
    "\n",
    "print(listaMayusculas)\n",
    "\n",
    "#funcion MAP (no debo usar bucles)\n",
    "def convertirMayuscula(lfr):\n",
    "    return lfr.upper()\n",
    "\n",
    "print(list(map(convertirMayuscula,listaFrutas)))\n",
    "\n",
    "#Funcion Lambda (no uso bucles, ni funciones extras)\n",
    "\n",
    "listafinal = list(map(lambda listfr: listfr.upper(), listaFrutas))\n",
    "\n",
    "print(listafinal)\n"
   ]
  },
  {
   "cell_type": "code",
   "execution_count": 8,
   "id": "205cea8b",
   "metadata": {},
   "outputs": [
    {
     "name": "stdout",
     "output_type": "stream",
     "text": [
      "[4, 16, 64, 64, 64, 4, 1, 16, 64]\n"
     ]
    }
   ],
   "source": [
    "#elevar al cuadrado los elementos de la lista\n",
    "listaOriginalNumeros = [2,4,8,8,8,2,1,4,8]\n",
    "lisNuevaNumeros = []\n",
    "\n",
    "#Usando bucles\n",
    "for x in listaOriginalNumeros:\n",
    "    lisNuevaNumeros.append(x **2)\n",
    "    \n",
    "print(lisNuevaNumeros)\n",
    "\n"
   ]
  },
  {
   "cell_type": "code",
   "execution_count": 9,
   "id": "5deef1f2",
   "metadata": {},
   "outputs": [
    {
     "name": "stdout",
     "output_type": "stream",
     "text": [
      "[4, 16, 64, 64, 64, 4, 1, 16, 64]\n"
     ]
    }
   ],
   "source": [
    "#Uso de MAP\n",
    "def mostrar_cuadrado(lista):\n",
    "    return lista ** 2\n",
    "\n",
    "resultado = list(map(mostrar_cuadrado, listaOriginalNumeros))\n",
    "\n",
    "print(resultado)"
   ]
  },
  {
   "cell_type": "code",
   "execution_count": 10,
   "id": "9f5b5780",
   "metadata": {},
   "outputs": [
    {
     "name": "stdout",
     "output_type": "stream",
     "text": [
      "[4, 16, 64, 64, 64, 4, 1, 16, 64]\n"
     ]
    }
   ],
   "source": [
    "#Uso de lambda\n",
    "\n",
    "print(list(map(lambda dato: dato ** 2, listaOriginalNumeros)))"
   ]
  },
  {
   "cell_type": "code",
   "execution_count": 14,
   "id": "66a96e4b",
   "metadata": {},
   "outputs": [
    {
     "name": "stdout",
     "output_type": "stream",
     "text": [
      "True\n",
      "10\n",
      "[1, 4, 9, 16, 25, 36, 49, 64, 81, 100]\n"
     ]
    }
   ],
   "source": [
    "impar = lambda num: (num%2 != 0)\n",
    "\n",
    "print(impar(7))\n",
    "\n",
    "suma = lambda a,b: a + b\n",
    "\n",
    "print(suma(3,7))\n",
    "\n",
    "cuadrado = list(map(lambda n: n*n, range(1,11)))\n",
    "\n",
    "print(cuadrado)"
   ]
  },
  {
   "cell_type": "code",
   "execution_count": 15,
   "id": "37200873",
   "metadata": {},
   "outputs": [
    {
     "name": "stdout",
     "output_type": "stream",
     "text": [
      "[5, 7, 5, 3, 9, 11]\n",
      "[False, True, True, True, True, True, True]\n"
     ]
    },
    {
     "data": {
      "text/plain": [
       "[5, 7, 5, 3, 9, 11]"
      ]
     },
     "execution_count": 15,
     "metadata": {},
     "output_type": "execute_result"
    }
   ],
   "source": [
    "listaNumeros = [2,5,7,5,3,9,11]\n",
    "listaNueva = []\n",
    "#Uso de for\n",
    "\n",
    "for num in listaNumeros:\n",
    "    if num % 2 != 0:\n",
    "        listaNueva.append(num)\n",
    "print(listaNueva)\n",
    "\n",
    "#Uso de MAP.lambda\n",
    "\n",
    "resultado = list(map(lambda num: (num % 2 != 0), listaNumeros))\n",
    "print(resultado)\n",
    "\n",
    "#Uso de Filter\n",
    "\n",
    "def mostrarImpares(num):\n",
    "    if num % 2 != 0:\n",
    "        return num\n",
    "\n",
    "list(filter(mostrarImpares, listaNumeros))"
   ]
  },
  {
   "cell_type": "code",
   "execution_count": 16,
   "id": "e79216f1",
   "metadata": {},
   "outputs": [
    {
     "data": {
      "text/plain": [
       "[5, 7, 5, 3, 9, 11]"
      ]
     },
     "execution_count": 16,
     "metadata": {},
     "output_type": "execute_result"
    }
   ],
   "source": [
    "list(filter(lambda num: (num % 2 != 0), listaNumeros))"
   ]
  },
  {
   "cell_type": "markdown",
   "id": "245690e0",
   "metadata": {},
   "source": [
    "### EJERCICIOS DE ORDEN SUPERIOR"
   ]
  },
  {
   "cell_type": "code",
   "execution_count": null,
   "id": "ceb9efaf",
   "metadata": {},
   "outputs": [],
   "source": [
    "\"\"\"1. Dada una lista numérica filtrarla, tomando en cuenta únicamente los múltiplos de 5. Implemente las\n",
    "funciones filter y filter-lambda\"\"\""
   ]
  },
  {
   "cell_type": "code",
   "execution_count": 17,
   "id": "7ed64682",
   "metadata": {},
   "outputs": [
    {
     "name": "stdout",
     "output_type": "stream",
     "text": [
      "[5, 5]\n",
      "[5, 5]\n"
     ]
    }
   ],
   "source": [
    "listaNumeros = [2,5,7,5,3,9,11]\n",
    "\n",
    "#filter\n",
    "\n",
    "def ejercicio1(lista):\n",
    "    if lista % 5 == 0:\n",
    "        return lista\n",
    "    \n",
    "print(list(filter(ejercicio1, listaNumeros)))\n",
    "\n",
    "#filter - lambda\n",
    "\n",
    "resultado_ejr1 = list(filter(lambda datos: datos % 5 == 0, listaNumeros))\n",
    "\n",
    "print(resultado_ejr1)"
   ]
  },
  {
   "cell_type": "code",
   "execution_count": null,
   "id": "d98e7c19",
   "metadata": {},
   "outputs": [],
   "source": [
    "\"\"\"2. Dada una lista de String, mostrar las palabras que empiecen con vocales. Implemente las funciones filter\n",
    "y filter-lambda.\"\"\""
   ]
  },
  {
   "cell_type": "code",
   "execution_count": 23,
   "id": "14d4ed91",
   "metadata": {},
   "outputs": [
    {
     "name": "stdout",
     "output_type": "stream",
     "text": [
      "['Isabel', 'Ismael', 'Oscar', 'Alan']\n",
      "['Isabel', 'Ismael', 'Oscar', 'Alan']\n"
     ]
    },
    {
     "data": {
      "text/plain": [
       "['Isabel', 'Ismael', 'Oscar', 'Alan']"
      ]
     },
     "execution_count": 23,
     "metadata": {},
     "output_type": "execute_result"
    }
   ],
   "source": [
    "listaNombres = [\"Isabel\", \"Mayra\", \"Ismael\", \"Oscar\", \"Alan\", \"Monica\", \"Leonor\"]\n",
    "\n",
    "listaNombresVocales = []\n",
    "\n",
    "#Uso del for\n",
    "for nombre in listaNombres:\n",
    "    if nombre[0].lower() in \"aeiou\":\n",
    "        listaNombresVocales.append(nombre)\n",
    "        \n",
    "print(listaNombresVocales)\n",
    "\n",
    "#Uso filter\n",
    "\n",
    "def nombresVocales(lista):\n",
    "    return (lista[0].lower() in \"aeiou\")\n",
    "\n",
    "resultado = list(filter(nombresVocales, listaNombres))\n",
    "\n",
    "print(resultado)\n",
    "\n",
    "#Uso filter - lambda\n",
    "\n",
    "list(filter(lambda dato: (dato[0].lower() in \"aeiou\"), listaNombres))r\n"
   ]
  },
  {
   "cell_type": "code",
   "execution_count": null,
   "id": "4d92d77b",
   "metadata": {},
   "outputs": [],
   "source": [
    "\"\"\"3. Calcular el área del circulo (PI * R¨2)de los elementos del diccionario= {1:[\"uno\",2], 2:[\"dos\",3], 3:[\"tres\",4]}.\n",
    "Implemente las funciones de usuario, map y map-lambda.\"\"\""
   ]
  },
  {
   "cell_type": "code",
   "execution_count": 4,
   "id": "bd2aeb67",
   "metadata": {},
   "outputs": [
    {
     "name": "stdout",
     "output_type": "stream",
     "text": [
      "<built-in method index of tuple object at 0x0000016F2B371C40>\n",
      "<built-in method index of tuple object at 0x0000016F2B371980>\n",
      "<built-in method index of tuple object at 0x0000016F2B371C40>\n",
      "{1: 'uno 12.566370614359172', 2: 'dos 28.274333882308138', 3: 'tres 50.26548245743669'}\n"
     ]
    }
   ],
   "source": [
    "\n",
    "diccionario = {1:[\"uno\",2], 2:[\"dos\",3], 3:[\"tres\",4]}\n",
    "\n",
    "diccionario2 = {}\n",
    "\n",
    "import math\n",
    "\n",
    "def mostrar_area(diccionario):\n",
    "    for dato in diccionario.items():\n",
    "        diccionario2[dato[0]] = dato[1][0] + \" \" + str(math.pi*dato[1][1]**2)\n",
    "    return diccionario2\n",
    "\n",
    "\n",
    "print(mostrar_area(diccionario))\n",
    "        \n"
   ]
  },
  {
   "cell_type": "code",
   "execution_count": 3,
   "id": "61c12b91",
   "metadata": {},
   "outputs": [
    {
     "name": "stdout",
     "output_type": "stream",
     "text": [
      "['uno 12.566370614359172', 'dos 28.274333882308138', 'tres 50.26548245743669']\n"
     ]
    }
   ],
   "source": [
    "#Uso de Map \n",
    "\n",
    "def mostrar_area2(dic):\n",
    "    return dic[1][0] + \" \" + str(math.pi*dic[1][1]**2)\n",
    "    \n",
    "    \n",
    "resultado = list(map(mostrar_area2, diccionario.items()))\n",
    "print(resultado)"
   ]
  },
  {
   "cell_type": "code",
   "execution_count": 66,
   "id": "ed3bb40b",
   "metadata": {},
   "outputs": [
    {
     "name": "stdout",
     "output_type": "stream",
     "text": [
      "['uno 12.566370614359172', 'dos 28.274333882308138', 'tres 50.26548245743669']\n"
     ]
    }
   ],
   "source": [
    "#Uso de map - lambda\n",
    "\n",
    "resultado = list(map(lambda dic: dic[1][0] + \" \" + str(math.pi*dic[1][1]**2), diccionario.items()))\n",
    "print(resultado)"
   ]
  },
  {
   "cell_type": "code",
   "execution_count": null,
   "id": "44285458",
   "metadata": {},
   "outputs": [],
   "source": [
    "\"\"\"Sacar el binomio cuadrado perfecto (𝒂 + 𝒃)**𝟐 = 𝒂**𝟐+𝟐𝒂𝒃 + 𝒃**𝟐. Los valores a y b deben ser ingresados por\n",
    "teclado. Implemente las funciones de usuario y lambda.\"\"\""
   ]
  },
  {
   "cell_type": "code",
   "execution_count": null,
   "id": "b819cfe4",
   "metadata": {},
   "outputs": [],
   "source": [
    "def binomio(a,b):\n",
    "    return (a + b)**2 == a**2 + 2*a*b + b**2\n",
    "    \n",
    "print(binomio(3,4))"
   ]
  },
  {
   "cell_type": "code",
   "execution_count": null,
   "id": "43dba017",
   "metadata": {},
   "outputs": [],
   "source": [
    "resultado = lambda a,b: (a + b)**2 == a**2 + 2*a*b + b**2\n",
    "\n",
    "print(resultado(3,4))  "
   ]
  },
  {
   "cell_type": "code",
   "execution_count": null,
   "id": "3b9911d0",
   "metadata": {},
   "outputs": [],
   "source": []
  }
 ],
 "metadata": {
  "kernelspec": {
   "display_name": "Python 3 (ipykernel)",
   "language": "python",
   "name": "python3"
  },
  "language_info": {
   "codemirror_mode": {
    "name": "ipython",
    "version": 3
   },
   "file_extension": ".py",
   "mimetype": "text/x-python",
   "name": "python",
   "nbconvert_exporter": "python",
   "pygments_lexer": "ipython3",
   "version": "3.9.12"
  }
 },
 "nbformat": 4,
 "nbformat_minor": 5
}
