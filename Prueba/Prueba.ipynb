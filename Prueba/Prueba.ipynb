{
 "cells": [
  {
   "cell_type": "code",
   "execution_count": 2,
   "id": "d2fee89d",
   "metadata": {},
   "outputs": [
    {
     "name": "stdout",
     "output_type": "stream",
     "text": [
      "--------Menu--------\n",
      "1. Ejercicio 1\n",
      "2. Ejercicio 2\n",
      "3. Ejercicio 3\n",
      "4. Salir\n",
      "Eliga una opcion\n",
      "Introduce un numero entero: 1\n",
      "Opcion 1\n",
      "Ingrese la cantidad de numeros a ingresar: 2\n",
      "Ingrese el numero 1: 3\n",
      "Ingrese el numero 2: 4\n",
      "La suma de los números ingresados es: 7.0\n",
      "El promedio de los 2 números ingresados es: 3.5\n",
      "Valor mínimo: 3.0\n",
      "Valor máximo: 4.0\n",
      "--------Menu--------\n",
      "1. Ejercicio 1\n",
      "2. Ejercicio 2\n",
      "3. Ejercicio 3\n",
      "4. Salir\n",
      "Eliga una opcion\n",
      "Introduce un numero entero: 2\n",
      "Opcion 2\n",
      "--------Menu--------\n",
      "1. Ejercicio 1\n",
      "2. Ejercicio 2\n",
      "3. Ejercicio 3\n",
      "4. Salir\n",
      "Eliga una opcion\n",
      "Introduce un numero entero: 3\n",
      "Opcion 3\n",
      "--------Menu--------\n",
      "1. Ejercicio 1\n",
      "2. Ejercicio 2\n",
      "3. Ejercicio 3\n",
      "4. Salir\n",
      "Eliga una opcion\n",
      "Introduce un numero entero: 4\n",
      "Saliendo...\n"
     ]
    }
   ],
   "source": [
    "\"\"\"Realizar un algoritmo que tenga un MENÚ con las opciones 1, 2 y 3. Para el menú\n",
    "utilice un método de usuario con retorno. Debe controlar si ingresa datos diferentes a\n",
    "las opciones que existen, mostrando un mensaje\"\"\"\n",
    "\n",
    "def opcion():\n",
    " \n",
    "    correcto=False\n",
    "    num=0\n",
    "    while(not correcto):\n",
    "        try:\n",
    "            \n",
    "            num = int(input(\"Introduce un numero entero: \"))\n",
    "            correcto=True\n",
    "            \n",
    "        except ValueError:\n",
    "            \n",
    "            print('Error, introduce un numero entero')\n",
    "     \n",
    "    return num\n",
    " \n",
    "salir = False\n",
    "op = 0\n",
    " \n",
    "while not salir:\n",
    "    \n",
    "    print (\"--------Menu--------\")\n",
    "    print (\"1. Ejercicio 1\")\n",
    "    print (\"2. Ejercicio 2\")\n",
    "    print (\"3. Ejercicio 3\")\n",
    "    print (\"4. Salir\")\n",
    "     \n",
    "    print (\"Eliga una opcion\")\n",
    " \n",
    "    op = opcion()\n",
    " \n",
    "    if op == 1:\n",
    "        print(\"Opcion 1\")\n",
    "        opcion_1()\n",
    "    elif op == 2:\n",
    "        print(\"Opcion 2\")\n",
    "    elif op == 3:\n",
    "        print(\"Opcion 3\")\n",
    "    elif op == 4:\n",
    "        print(\"Saliendo...\")\n",
    "        salir = True\n",
    "    else:\n",
    "        print (\"Introduce un numero entre 1 y 3\")\n",
    "    "
   ]
  },
  {
   "cell_type": "code",
   "execution_count": 1,
   "id": "2ebee5f1",
   "metadata": {},
   "outputs": [],
   "source": [
    "\"\"\"A1. Realizar un programa que permita el ingreso de una cantidad n de números\n",
    "decimales por teclado, almacénelos en una lista. Muestre la suma y el promedio de\n",
    "datos de la lista. Además, del valor máximo y el mínimo. Los resultados deben\n",
    "imprimirse en 2 decimales. Los números ingresados estén entre 1 y 7. Ej.:\n",
    " Ingrese la cantidad de números a ingresar: 5\n",
    " Ingrese el número 1: 15,3456\n",
    " Ingrese el número 2: 18,64\n",
    " Ingrese el número 3: 19,44646\n",
    " Ingrese el número 4: 5,5456\n",
    " Ingrese el número 5: 6,45454\n",
    "Impresión:\n",
    "La suma de los números ingresados es: 65,43\n",
    "El promedio de los 5 números ingresados es: 13,09\n",
    "Valor mínimo: 5,454\n",
    "Valor máximo: 19,44\"\"\"\n",
    "\n",
    "def opcion_1():\n",
    "    \n",
    "    numeros = []\n",
    "\n",
    "    salir = True\n",
    "\n",
    "    i = 0\n",
    "\n",
    "    n = int(input(\"Ingrese la cantidad de numeros a ingresar: \"))\n",
    "\n",
    "    while(i < n):\n",
    "\n",
    "        numero = float(input(f\"Ingrese el numero {i+1}: \"))\n",
    "\n",
    "        if numero > 0 and numero <= 7:\n",
    "            numeros.append(numero)\n",
    "            i+=1\n",
    "        else:\n",
    "            print(\"FUERA DE RANGO!!!. Ingrese un numero entre 1 y 7\")\n",
    "\n",
    "    print(f\"La suma de los números ingresados es: {round(sum(numeros),2)}\")\n",
    "    print(f\"El promedio de los {len(numeros)} números ingresados es: { round(sum(numeros)/len(numeros),2)}\")\n",
    "    print(f\"Valor mínimo: {round(min(numeros),2)}\")\n",
    "    print(f\"Valor máximo: {round(max(numeros),2)}\")"
   ]
  },
  {
   "cell_type": "code",
   "execution_count": 9,
   "id": "17fe85df",
   "metadata": {},
   "outputs": [
    {
     "name": "stdout",
     "output_type": "stream",
     "text": [
      "Ingrese la fecha en el formato: (dd/mm/aa): 12/2/2022\n",
      "12 de Febrero de 2022\n"
     ]
    }
   ],
   "source": [
    "\"\"\"A2.Cree un diccionario cuya clave representa los meses del año en números y su valor\n",
    "es el mes del año en letras. Ingrese mediante teclado la fecha en el formato\n",
    "“dd/mm/aaaa”. Muestre la fecha “dd de <mes> de aaaa”. Ej.:\"\"\"\n",
    "\n",
    "diccionario = {1:'Enero',2:'Febrero',3:'Marzo',4:'Abril',5:'Mayo',6:'Junio',7:'Julio',8:'Agosto',9:'Septiembre',10:'Octubre',11:'Noviembre',12:'Diciembre'}\n",
    "\n",
    "fecha = input(\"Ingrese la fecha en el formato: (dd/mm/aa): \")\n",
    "\n",
    "nuevafecha = fecha.split(\"/\")\n",
    "\n",
    "print(nuevafecha[0], \"de\", diccionario[int(nuevafecha[1])], \"de\",nuevafecha[2])"
   ]
  },
  {
   "cell_type": "code",
   "execution_count": 6,
   "id": "05204e08",
   "metadata": {},
   "outputs": [
    {
     "data": {
      "text/plain": [
       "[6, 14, 24, 36, 50]"
      ]
     },
     "execution_count": 6,
     "metadata": {},
     "output_type": "execute_result"
    }
   ],
   "source": [
    "\"\"\"A3. Trasformar la siguiente expresión en un programa usando bucles y otro con el uso\n",
    "de función de orden superior map. Recuerde que map necesita como parámetros de\n",
    "entrada una función y las listas a evaluar.\"\"\"\n",
    "\n",
    "valores1 = [1,2,3,4,5]\n",
    "valores2 = [6,7,8,9,10]\n",
    "\n",
    "\n",
    "list(map(lambda x,y: x*y, valores1,valores2))"
   ]
  },
  {
   "cell_type": "code",
   "execution_count": 7,
   "id": "6687030a",
   "metadata": {},
   "outputs": [
    {
     "name": "stdout",
     "output_type": "stream",
     "text": [
      "[6, 14, 24, 36, 50]\n"
     ]
    }
   ],
   "source": [
    "multiplicar=[]\n",
    "\n",
    "x=1\n",
    "\n",
    "for i in range(len(valores1)):\n",
    "    multiplicar.append(valores1[i]*valores2[i])\n",
    "    x = x + 1\n",
    "    \n",
    "print(multiplicar)"
   ]
  },
  {
   "cell_type": "code",
   "execution_count": 8,
   "id": "df3fea75",
   "metadata": {},
   "outputs": [
    {
     "name": "stdout",
     "output_type": "stream",
     "text": [
      "[6, 14, 24, 36, 50]\n"
     ]
    }
   ],
   "source": [
    "def multiplicar(x,y):\n",
    "    return x*y\n",
    "\n",
    "ok = list(map(multiplicar,valores1,valores2))\n",
    "\n",
    "print(ok)"
   ]
  },
  {
   "cell_type": "code",
   "execution_count": null,
   "id": "6f10c434",
   "metadata": {},
   "outputs": [],
   "source": []
  }
 ],
 "metadata": {
  "kernelspec": {
   "display_name": "Python 3 (ipykernel)",
   "language": "python",
   "name": "python3"
  },
  "language_info": {
   "codemirror_mode": {
    "name": "ipython",
    "version": 3
   },
   "file_extension": ".py",
   "mimetype": "text/x-python",
   "name": "python",
   "nbconvert_exporter": "python",
   "pygments_lexer": "ipython3",
   "version": "3.9.12"
  }
 },
 "nbformat": 4,
 "nbformat_minor": 5
}
