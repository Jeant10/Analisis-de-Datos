{
 "cells": [
  {
   "cell_type": "markdown",
   "id": "fd31df2b",
   "metadata": {},
   "source": [
    "# Prueba 2"
   ]
  },
  {
   "cell_type": "code",
   "execution_count": 1,
   "id": "428f6e67",
   "metadata": {},
   "outputs": [
    {
     "name": "stdout",
     "output_type": "stream",
     "text": [
      "Requirement already satisfied: numpy in c:\\users\\jeant\\anaconda3\\lib\\site-packages (1.21.5)\n",
      "Requirement already satisfied: pandas in c:\\users\\jeant\\anaconda3\\lib\\site-packages (1.4.2)\n",
      "Requirement already satisfied: python-dateutil>=2.8.1 in c:\\users\\jeant\\anaconda3\\lib\\site-packages (from pandas) (2.8.2)\n",
      "Requirement already satisfied: pytz>=2020.1 in c:\\users\\jeant\\anaconda3\\lib\\site-packages (from pandas) (2021.3)\n",
      "Requirement already satisfied: numpy>=1.18.5 in c:\\users\\jeant\\anaconda3\\lib\\site-packages (from pandas) (1.21.5)\n",
      "Requirement already satisfied: six>=1.5 in c:\\users\\jeant\\anaconda3\\lib\\site-packages (from python-dateutil>=2.8.1->pandas) (1.16.0)\n",
      "Requirement already satisfied: sqlalchemy in c:\\users\\jeant\\anaconda3\\lib\\site-packages (1.4.32)\n",
      "Requirement already satisfied: greenlet!=0.4.17 in c:\\users\\jeant\\anaconda3\\lib\\site-packages (from sqlalchemy) (1.1.1)\n",
      "Collecting pysqlite3\n",
      "  Using cached pysqlite3-0.4.7.tar.gz (40 kB)\n",
      "Building wheels for collected packages: pysqlite3\n",
      "  Building wheel for pysqlite3 (setup.py): started\n",
      "  Building wheel for pysqlite3 (setup.py): finished with status 'done'\n",
      "  Running setup.py clean for pysqlite3\n",
      "Failed to build pysqlite3\n",
      "Installing collected packages: pysqlite3\n",
      "    Running setup.py install for pysqlite3: started\n",
      "    Running setup.py install for pysqlite3: finished with status 'done'\n",
      "Successfully installed pysqlite3\n"
     ]
    },
    {
     "name": "stderr",
     "output_type": "stream",
     "text": [
      "  WARNING: Legacy build of wheel for 'pysqlite3' created no files.\n",
      "  Command arguments: 'C:\\Users\\jeant\\anaconda3\\python.exe' -u -c 'import io, os, sys, setuptools, tokenize; sys.argv[0] = '\"'\"'C:\\\\Users\\\\jeant\\\\AppData\\\\Local\\\\Temp\\\\pip-install-mkedqk3b\\\\pysqlite3_04288820acc444acabcd26b264cb3ec2\\\\setup.py'\"'\"'; __file__='\"'\"'C:\\\\Users\\\\jeant\\\\AppData\\\\Local\\\\Temp\\\\pip-install-mkedqk3b\\\\pysqlite3_04288820acc444acabcd26b264cb3ec2\\\\setup.py'\"'\"';f = getattr(tokenize, '\"'\"'open'\"'\"', open)(__file__) if os.path.exists(__file__) else io.StringIO('\"'\"'from setuptools import setup; setup()'\"'\"');code = f.read().replace('\"'\"'\\r\\n'\"'\"', '\"'\"'\\n'\"'\"');f.close();exec(compile(code, __file__, '\"'\"'exec'\"'\"'))' bdist_wheel -d 'C:\\Users\\jeant\\AppData\\Local\\Temp\\pip-wheel-2gshlu6m'\n",
      "  Command output: [use --verbose to show]\n"
     ]
    },
    {
     "name": "stdout",
     "output_type": "stream",
     "text": [
      "Requirement already satisfied: requests in c:\\users\\jeant\\anaconda3\\lib\\site-packages (2.27.1)\n",
      "Requirement already satisfied: certifi>=2017.4.17 in c:\\users\\jeant\\anaconda3\\lib\\site-packages (from requests) (2021.10.8)\n",
      "Requirement already satisfied: charset-normalizer~=2.0.0 in c:\\users\\jeant\\anaconda3\\lib\\site-packages (from requests) (2.0.4)\n",
      "Requirement already satisfied: urllib3<1.27,>=1.21.1 in c:\\users\\jeant\\anaconda3\\lib\\site-packages (from requests) (1.26.9)\n",
      "Requirement already satisfied: idna<4,>=2.5 in c:\\users\\jeant\\anaconda3\\lib\\site-packages (from requests) (3.3)\n",
      "Requirement already satisfied: bs4 in c:\\users\\jeant\\anaconda3\\lib\\site-packages (0.0.1)\n",
      "Requirement already satisfied: beautifulsoup4 in c:\\users\\jeant\\anaconda3\\lib\\site-packages (from bs4) (4.11.1)\n",
      "Requirement already satisfied: soupsieve>1.2 in c:\\users\\jeant\\anaconda3\\lib\\site-packages (from beautifulsoup4->bs4) (2.3.1)\n",
      "Requirement already satisfied: lxml in c:\\users\\jeant\\anaconda3\\lib\\site-packages (4.8.0)\n",
      "Requirement already satisfied: unicode in c:\\users\\jeant\\anaconda3\\lib\\site-packages (2.9)\n"
     ]
    }
   ],
   "source": [
    "!pip install numpy\n",
    "!pip install pandas\n",
    "!pip install sqlalchemy\n",
    "!pip install pysqlite3\n",
    "!pip install requests\n",
    "!pip install bs4\n",
    "!pip install lxml\n",
    "!pip install unicode"
   ]
  },
  {
   "cell_type": "code",
   "execution_count": 2,
   "id": "222c813b",
   "metadata": {},
   "outputs": [],
   "source": [
    "import numpy as np\n",
    "import pandas as pd\n",
    "from sqlalchemy import create_engine\n",
    "import sqlite3\n",
    "import requests\n",
    "from bs4 import BeautifulSoup\n",
    "import csv\n",
    "from math import *"
   ]
  },
  {
   "cell_type": "code",
   "execution_count": 3,
   "id": "b596148f",
   "metadata": {},
   "outputs": [
    {
     "data": {
      "text/plain": [
       "[<td class=\"subtext\">\n",
       " <span class=\"score\" id=\"score_32862803\">457 points</span> by <a class=\"hnuser\" href=\"user?id=simonebrunozzi\">simonebrunozzi</a> <span class=\"age\" title=\"2022-09-16T06:29:03\"><a href=\"item?id=32862803\">1 day ago</a></span> <span id=\"unv_32862803\"></span> | <a href=\"hide?id=32862803&amp;goto=front\">hide</a> | <a href=\"item?id=32862803\">309 comments</a> </td>,\n",
       " <td class=\"subtext\">\n",
       " <span class=\"score\" id=\"score_32867737\">126 points</span> by <a class=\"hnuser\" href=\"user?id=mcilroy\">mcilroy</a> <span class=\"age\" title=\"2022-09-16T15:46:30\"><a href=\"item?id=32867737\">1 day ago</a></span> <span id=\"unv_32867737\"></span> | <a href=\"hide?id=32867737&amp;goto=front\">hide</a> | <a href=\"item?id=32867737\">46 comments</a> </td>,\n",
       " <td class=\"subtext\">\n",
       " <span class=\"score\" id=\"score_32867644\">170 points</span> by <a class=\"hnuser\" href=\"user?id=politician\">politician</a> <span class=\"age\" title=\"2022-09-16T15:41:41\"><a href=\"item?id=32867644\">1 day ago</a></span> <span id=\"unv_32867644\"></span> | <a href=\"hide?id=32867644&amp;goto=front\">hide</a> | <a href=\"item?id=32867644\">112 comments</a> </td>,\n",
       " <td class=\"subtext\">\n",
       " <span class=\"score\" id=\"score_32871392\">138 points</span> by <a class=\"hnuser\" href=\"user?id=jamesgpearce\">jamesgpearce</a> <span class=\"age\" title=\"2022-09-16T20:08:39\"><a href=\"item?id=32871392\">22 hours ago</a></span> <span id=\"unv_32871392\"></span> | <a href=\"hide?id=32871392&amp;goto=front\">hide</a> | <a href=\"item?id=32871392\">61 comments</a> </td>,\n",
       " <td class=\"subtext\">\n",
       " <span class=\"score\" id=\"score_32866892\">107 points</span> by <a class=\"hnuser\" href=\"user?id=Brajeshwar\">Brajeshwar</a> <span class=\"age\" title=\"2022-09-16T14:56:13\"><a href=\"item?id=32866892\">1 day ago</a></span> <span id=\"unv_32866892\"></span> | <a href=\"hide?id=32866892&amp;goto=front\">hide</a> | <a href=\"item?id=32866892\">41 comments</a> </td>,\n",
       " <td class=\"subtext\">\n",
       " <span class=\"score\" id=\"score_32859256\">610 points</span> by <a class=\"hnuser\" href=\"user?id=sudenmorsian\">sudenmorsian</a> <span class=\"age\" title=\"2022-09-15T22:29:27\"><a href=\"item?id=32859256\">1 day ago</a></span> <span id=\"unv_32859256\"></span> | <a href=\"hide?id=32859256&amp;goto=front\">hide</a> | <a href=\"item?id=32859256\">261 comments</a> </td>,\n",
       " <td class=\"subtext\">\n",
       " <span class=\"score\" id=\"score_32867584\">484 points</span> by <a class=\"hnuser\" href=\"user?id=geekinchief\">geekinchief</a> <span class=\"age\" title=\"2022-09-16T15:38:11\"><a href=\"item?id=32867584\">1 day ago</a></span> <span id=\"unv_32867584\"></span> | <a href=\"hide?id=32867584&amp;goto=front\">hide</a> | <a href=\"item?id=32867584\">527 comments</a> </td>,\n",
       " <td class=\"subtext\">\n",
       " <span class=\"score\" id=\"score_32867613\">101 points</span> by <a class=\"hnuser\" href=\"user?id=mrjn\">mrjn</a> <span class=\"age\" title=\"2022-09-16T15:39:57\"><a href=\"item?id=32867613\">1 day ago</a></span> <span id=\"unv_32867613\"></span> | <a href=\"hide?id=32867613&amp;goto=front\">hide</a> | <a href=\"item?id=32867613\">37 comments</a> </td>,\n",
       " <td class=\"subtext\">\n",
       " <span class=\"score\" id=\"score_32870463\">127 points</span> by <a class=\"hnuser\" href=\"user?id=jstanley\">jstanley</a> <span class=\"age\" title=\"2022-09-16T18:51:50\"><a href=\"item?id=32870463\">23 hours ago</a></span> <span id=\"unv_32870463\"></span> | <a href=\"hide?id=32870463&amp;goto=front\">hide</a> | <a href=\"item?id=32870463\">57 comments</a> </td>,\n",
       " <td class=\"subtext\">\n",
       " <span class=\"score\" id=\"score_32865497\">377 points</span> by <a class=\"hnuser\" href=\"user?id=EntICOnc\">EntICOnc</a> <span class=\"age\" title=\"2022-09-16T12:58:57\"><a href=\"item?id=32865497\">1 day ago</a></span> <span id=\"unv_32865497\"></span> | <a href=\"hide?id=32865497&amp;goto=front\">hide</a> | <a href=\"item?id=32865497\">138 comments</a> </td>,\n",
       " <td class=\"subtext\">\n",
       " <span class=\"score\" id=\"score_32865229\">233 points</span> by <a class=\"hnuser\" href=\"user?id=AlexeyBrin\">AlexeyBrin</a> <span class=\"age\" title=\"2022-09-16T12:30:30\"><a href=\"item?id=32865229\">1 day ago</a></span> <span id=\"unv_32865229\"></span> | <a href=\"hide?id=32865229&amp;goto=front\">hide</a> | <a href=\"item?id=32865229\">111 comments</a> </td>,\n",
       " <td class=\"subtext\">\n",
       " <span class=\"score\" id=\"score_32868092\">106 points</span> by <a class=\"hnuser\" href=\"user?id=rntn\">rntn</a> <span class=\"age\" title=\"2022-09-16T16:04:43\"><a href=\"item?id=32868092\">1 day ago</a></span> <span id=\"unv_32868092\"></span> | <a href=\"hide?id=32868092&amp;goto=front\">hide</a> | <a href=\"item?id=32868092\">41 comments</a> </td>,\n",
       " <td class=\"subtext\">\n",
       " <span class=\"score\" id=\"score_32860728\">574 points</span> by <a class=\"hnuser\" href=\"user?id=arkadiyt\">arkadiyt</a> <span class=\"age\" title=\"2022-09-16T01:10:19\"><a href=\"item?id=32860728\">1 day ago</a></span> <span id=\"unv_32860728\"></span> | <a href=\"hide?id=32860728&amp;goto=front\">hide</a> | <a href=\"item?id=32860728\">304 comments</a> </td>,\n",
       " <td class=\"subtext\">\n",
       " <span class=\"score\" id=\"score_32864413\">164 points</span> by <a class=\"hnuser\" href=\"user?id=marcodiego\">marcodiego</a> <span class=\"age\" title=\"2022-09-16T10:42:55\"><a href=\"item?id=32864413\">1 day ago</a></span> <span id=\"unv_32864413\"></span> | <a href=\"hide?id=32864413&amp;goto=front\">hide</a> | <a href=\"item?id=32864413\">36 comments</a> </td>,\n",
       " <td class=\"subtext\">\n",
       " <span class=\"score\" id=\"score_32862333\">152 points</span> by <a class=\"hnuser\" href=\"user?id=indigodaddy\">indigodaddy</a> <span class=\"age\" title=\"2022-09-16T05:07:27\"><a href=\"item?id=32862333\">1 day ago</a></span> <span id=\"unv_32862333\"></span> | <a href=\"hide?id=32862333&amp;goto=front\">hide</a> | <a href=\"item?id=32862333\">81 comments</a> </td>,\n",
       " <td class=\"subtext\">\n",
       " <span class=\"score\" id=\"score_32864997\">776 points</span> by <a class=\"hnuser\" href=\"user?id=jaarse\">jaarse</a> <span class=\"age\" title=\"2022-09-16T12:07:05\"><a href=\"item?id=32864997\">1 day ago</a></span> <span id=\"unv_32864997\"></span> | <a href=\"hide?id=32864997&amp;goto=front\">hide</a> | <a href=\"item?id=32864997\">522 comments</a> </td>,\n",
       " <td class=\"subtext\">\n",
       " <span class=\"score\" id=\"score_32870677\">717 points</span> by <a class=\"hnuser\" href=\"user?id=ribosometronome\">ribosometronome</a> <span class=\"age\" title=\"2022-09-16T19:11:39\"><a href=\"item?id=32870677\">23 hours ago</a></span> <span id=\"unv_32870677\"></span> | <a href=\"hide?id=32870677&amp;goto=front\">hide</a> | <a href=\"item?id=32870677\">449 comments</a> </td>,\n",
       " <td class=\"subtext\">\n",
       " <span class=\"score\" id=\"score_32834812\">154 points</span> by <a class=\"hnuser\" href=\"user?id=archielc\">archielc</a> <span class=\"age\" title=\"2022-09-14T09:10:08\"><a href=\"item?id=32834812\">3 days ago</a></span> <span id=\"unv_32834812\"></span> | <a href=\"hide?id=32834812&amp;goto=front\">hide</a> | <a href=\"item?id=32834812\">140 comments</a> </td>,\n",
       " <td class=\"subtext\">\n",
       " <span class=\"score\" id=\"score_32861024\">150 points</span> by <a class=\"hnuser\" href=\"user?id=kens\">kens</a> <span class=\"age\" title=\"2022-09-16T01:46:27\"><a href=\"item?id=32861024\">1 day ago</a></span> <span id=\"unv_32861024\"></span> | <a href=\"hide?id=32861024&amp;goto=front\">hide</a> | <a href=\"item?id=32861024\">48 comments</a> </td>,\n",
       " <td class=\"subtext\">\n",
       " <span class=\"score\" id=\"score_32859188\">111 points</span> by <a class=\"hnuser\" href=\"user?id=panabee\">panabee</a> <span class=\"age\" title=\"2022-09-15T22:20:52\"><a href=\"item?id=32859188\">1 day ago</a></span> <span id=\"unv_32859188\"></span> | <a href=\"hide?id=32859188&amp;goto=front\">hide</a> | <a href=\"item?id=32859188\">52 comments</a> </td>,\n",
       " <td class=\"subtext\">\n",
       " <span class=\"score\" id=\"score_32855476\">203 points</span> by <a class=\"hnuser\" href=\"user?id=phant0mas\">phant0mas</a> <span class=\"age\" title=\"2022-09-15T17:28:55\"><a href=\"item?id=32855476\">2 days ago</a></span> <span id=\"unv_32855476\"></span> | <a href=\"hide?id=32855476&amp;goto=front\">hide</a> | <a href=\"item?id=32855476\">88 comments</a> </td>,\n",
       " <td class=\"subtext\">\n",
       " <span class=\"score\" id=\"score_32868377\">82 points</span> by <a class=\"hnuser\" href=\"user?id=dduugg\">dduugg</a> <span class=\"age\" title=\"2022-09-16T16:21:46\"><a href=\"item?id=32868377\">1 day ago</a></span> <span id=\"unv_32868377\"></span> | <a href=\"hide?id=32868377&amp;goto=front\">hide</a> | <a href=\"item?id=32868377\">66 comments</a> </td>,\n",
       " <td class=\"subtext\">\n",
       " <span class=\"score\" id=\"score_32871077\">80 points</span> by <a class=\"hnuser\" href=\"user?id=sbolt\">sbolt</a> <span class=\"age\" title=\"2022-09-16T19:45:19\"><a href=\"item?id=32871077\">23 hours ago</a></span> <span id=\"unv_32871077\"></span> | <a href=\"hide?id=32871077&amp;goto=front\">hide</a> | <a href=\"item?id=32871077\">18 comments</a> </td>,\n",
       " <td class=\"subtext\">\n",
       " <span class=\"score\" id=\"score_32860778\">164 points</span> by <a class=\"hnuser\" href=\"user?id=gone35\">gone35</a> <span class=\"age\" title=\"2022-09-16T01:17:10\"><a href=\"item?id=32860778\">1 day ago</a></span> <span id=\"unv_32860778\"></span> | <a href=\"hide?id=32860778&amp;goto=front\">hide</a> | <a href=\"item?id=32860778\">30 comments</a> </td>,\n",
       " <td class=\"subtext\">\n",
       " <span class=\"score\" id=\"score_32858903\">87 points</span> by <a class=\"hnuser\" href=\"user?id=smartblondeva\">smartblondeva</a> <span class=\"age\" title=\"2022-09-15T21:48:40\"><a href=\"item?id=32858903\">1 day ago</a></span> <span id=\"unv_32858903\"></span> | <a href=\"hide?id=32858903&amp;goto=front\">hide</a> | <a href=\"item?id=32858903\">72 comments</a> </td>,\n",
       " <td class=\"subtext\">\n",
       " <span class=\"score\" id=\"score_32866319\">106 points</span> by <a class=\"hnuser\" href=\"user?id=DandyDev\">DandyDev</a> <span class=\"age\" title=\"2022-09-16T14:17:03\"><a href=\"item?id=32866319\">1 day ago</a></span> <span id=\"unv_32866319\"></span> | <a href=\"hide?id=32866319&amp;goto=front\">hide</a> | <a href=\"item?id=32866319\">40 comments</a> </td>,\n",
       " <td class=\"subtext\">\n",
       " <span class=\"score\" id=\"score_32867299\">69 points</span> by <a class=\"hnuser\" href=\"user?id=mmastrac\">mmastrac</a> <span class=\"age\" title=\"2022-09-16T15:21:17\"><a href=\"item?id=32867299\">1 day ago</a></span> <span id=\"unv_32867299\"></span> | <a href=\"hide?id=32867299&amp;goto=front\">hide</a> | <a href=\"item?id=32867299\">25 comments</a> </td>,\n",
       " <td class=\"subtext\">\n",
       " <span class=\"score\" id=\"score_32865428\">323 points</span> by <a class=\"hnuser\" href=\"user?id=rohith2506\">rohith2506</a> <span class=\"age\" title=\"2022-09-16T12:51:38\"><a href=\"item?id=32865428\">1 day ago</a></span> <span id=\"unv_32865428\"></span> | <a href=\"hide?id=32865428&amp;goto=front\">hide</a> | <a href=\"item?id=32865428\">571 comments</a> </td>,\n",
       " <td class=\"subtext\">\n",
       " <span class=\"score\" id=\"score_32839754\">68 points</span> by <a class=\"hnuser\" href=\"user?id=wglb\">wglb</a> <span class=\"age\" title=\"2022-09-14T16:46:05\"><a href=\"item?id=32839754\">3 days ago</a></span> <span id=\"unv_32839754\"></span> | <a href=\"hide?id=32839754&amp;goto=front\">hide</a> | <a href=\"item?id=32839754\">25 comments</a> </td>,\n",
       " <td class=\"subtext\">\n",
       " <span class=\"score\" id=\"score_32866093\">209 points</span> by <a class=\"hnuser\" href=\"user?id=jbredeche\">jbredeche</a> <span class=\"age\" title=\"2022-09-16T13:56:52\"><a href=\"item?id=32866093\">1 day ago</a></span> <span id=\"unv_32866093\"></span> | <a href=\"hide?id=32866093&amp;goto=front\">hide</a> | <a href=\"item?id=32866093\">260 comments</a> </td>]"
      ]
     },
     "execution_count": 3,
     "metadata": {},
     "output_type": "execute_result"
    }
   ],
   "source": [
    "#Web Scraping\n",
    "\n",
    "consulta = requests.get('https://news.ycombinator.com/front')\n",
    "soup = BeautifulSoup(consulta.text,'html.parser')\n",
    "buscar = soup.findAll('td',class_='subtext')\n",
    "buscar\n"
   ]
  },
  {
   "cell_type": "code",
   "execution_count": 4,
   "id": "e6a30448",
   "metadata": {},
   "outputs": [],
   "source": [
    "lista = list()\n",
    "\n",
    "for datos in buscar:\n",
    "    data = {\n",
    "        'score': int(datos.find('span', class_='score').text.split()[0]),\n",
    "        'horas': int(datos.find('span', class_='age').a.text.split()[0]),\n",
    "        'comentarios': datos.find_all('a')[3].text,\n",
    "    }\n",
    "    lista.append(data)\n",
    "    "
   ]
  },
  {
   "cell_type": "code",
   "execution_count": 5,
   "id": "b734f303",
   "metadata": {},
   "outputs": [
    {
     "data": {
      "text/html": [
       "<div>\n",
       "<style scoped>\n",
       "    .dataframe tbody tr th:only-of-type {\n",
       "        vertical-align: middle;\n",
       "    }\n",
       "\n",
       "    .dataframe tbody tr th {\n",
       "        vertical-align: top;\n",
       "    }\n",
       "\n",
       "    .dataframe thead th {\n",
       "        text-align: right;\n",
       "    }\n",
       "</style>\n",
       "<table border=\"1\" class=\"dataframe\">\n",
       "  <thead>\n",
       "    <tr style=\"text-align: right;\">\n",
       "      <th></th>\n",
       "      <th>score</th>\n",
       "      <th>horas</th>\n",
       "      <th>comentarios</th>\n",
       "    </tr>\n",
       "  </thead>\n",
       "  <tbody>\n",
       "    <tr>\n",
       "      <th>0</th>\n",
       "      <td>457</td>\n",
       "      <td>1</td>\n",
       "      <td>309 comments</td>\n",
       "    </tr>\n",
       "    <tr>\n",
       "      <th>1</th>\n",
       "      <td>126</td>\n",
       "      <td>1</td>\n",
       "      <td>46 comments</td>\n",
       "    </tr>\n",
       "    <tr>\n",
       "      <th>2</th>\n",
       "      <td>170</td>\n",
       "      <td>1</td>\n",
       "      <td>112 comments</td>\n",
       "    </tr>\n",
       "    <tr>\n",
       "      <th>3</th>\n",
       "      <td>138</td>\n",
       "      <td>22</td>\n",
       "      <td>61 comments</td>\n",
       "    </tr>\n",
       "    <tr>\n",
       "      <th>4</th>\n",
       "      <td>107</td>\n",
       "      <td>1</td>\n",
       "      <td>41 comments</td>\n",
       "    </tr>\n",
       "    <tr>\n",
       "      <th>5</th>\n",
       "      <td>610</td>\n",
       "      <td>1</td>\n",
       "      <td>261 comments</td>\n",
       "    </tr>\n",
       "    <tr>\n",
       "      <th>6</th>\n",
       "      <td>484</td>\n",
       "      <td>1</td>\n",
       "      <td>527 comments</td>\n",
       "    </tr>\n",
       "    <tr>\n",
       "      <th>7</th>\n",
       "      <td>101</td>\n",
       "      <td>1</td>\n",
       "      <td>37 comments</td>\n",
       "    </tr>\n",
       "    <tr>\n",
       "      <th>8</th>\n",
       "      <td>127</td>\n",
       "      <td>23</td>\n",
       "      <td>57 comments</td>\n",
       "    </tr>\n",
       "    <tr>\n",
       "      <th>9</th>\n",
       "      <td>377</td>\n",
       "      <td>1</td>\n",
       "      <td>138 comments</td>\n",
       "    </tr>\n",
       "    <tr>\n",
       "      <th>10</th>\n",
       "      <td>233</td>\n",
       "      <td>1</td>\n",
       "      <td>111 comments</td>\n",
       "    </tr>\n",
       "  </tbody>\n",
       "</table>\n",
       "</div>"
      ],
      "text/plain": [
       "    score  horas   comentarios\n",
       "0     457      1  309 comments\n",
       "1     126      1   46 comments\n",
       "2     170      1  112 comments\n",
       "3     138     22   61 comments\n",
       "4     107      1   41 comments\n",
       "5     610      1  261 comments\n",
       "6     484      1  527 comments\n",
       "7     101      1   37 comments\n",
       "8     127     23   57 comments\n",
       "9     377      1  138 comments\n",
       "10    233      1  111 comments"
      ]
     },
     "execution_count": 5,
     "metadata": {},
     "output_type": "execute_result"
    }
   ],
   "source": [
    "df = pd.DataFrame(lista).head(11)\n",
    "df"
   ]
  },
  {
   "cell_type": "markdown",
   "id": "92fa1c7f",
   "metadata": {},
   "source": [
    "# Ejercicio 2"
   ]
  },
  {
   "cell_type": "code",
   "execution_count": 6,
   "id": "055e5b20",
   "metadata": {},
   "outputs": [
    {
     "data": {
      "text/html": [
       "<div>\n",
       "<style scoped>\n",
       "    .dataframe tbody tr th:only-of-type {\n",
       "        vertical-align: middle;\n",
       "    }\n",
       "\n",
       "    .dataframe tbody tr th {\n",
       "        vertical-align: top;\n",
       "    }\n",
       "\n",
       "    .dataframe thead th {\n",
       "        text-align: right;\n",
       "    }\n",
       "</style>\n",
       "<table border=\"1\" class=\"dataframe\">\n",
       "  <thead>\n",
       "    <tr style=\"text-align: right;\">\n",
       "      <th></th>\n",
       "      <th>score</th>\n",
       "      <th>horas</th>\n",
       "      <th>comentarios</th>\n",
       "    </tr>\n",
       "  </thead>\n",
       "  <tbody>\n",
       "    <tr>\n",
       "      <th>0</th>\n",
       "      <td>457</td>\n",
       "      <td>1</td>\n",
       "      <td>309 comments</td>\n",
       "    </tr>\n",
       "    <tr>\n",
       "      <th>1</th>\n",
       "      <td>126</td>\n",
       "      <td>1</td>\n",
       "      <td>46 comments</td>\n",
       "    </tr>\n",
       "    <tr>\n",
       "      <th>2</th>\n",
       "      <td>170</td>\n",
       "      <td>1</td>\n",
       "      <td>112 comments</td>\n",
       "    </tr>\n",
       "    <tr>\n",
       "      <th>3</th>\n",
       "      <td>138</td>\n",
       "      <td>22</td>\n",
       "      <td>61 comments</td>\n",
       "    </tr>\n",
       "    <tr>\n",
       "      <th>4</th>\n",
       "      <td>107</td>\n",
       "      <td>1</td>\n",
       "      <td>41 comments</td>\n",
       "    </tr>\n",
       "    <tr>\n",
       "      <th>5</th>\n",
       "      <td>610</td>\n",
       "      <td>1</td>\n",
       "      <td>261 comments</td>\n",
       "    </tr>\n",
       "    <tr>\n",
       "      <th>6</th>\n",
       "      <td>484</td>\n",
       "      <td>1</td>\n",
       "      <td>527 comments</td>\n",
       "    </tr>\n",
       "    <tr>\n",
       "      <th>7</th>\n",
       "      <td>101</td>\n",
       "      <td>1</td>\n",
       "      <td>37 comments</td>\n",
       "    </tr>\n",
       "    <tr>\n",
       "      <th>8</th>\n",
       "      <td>127</td>\n",
       "      <td>23</td>\n",
       "      <td>57 comments</td>\n",
       "    </tr>\n",
       "    <tr>\n",
       "      <th>9</th>\n",
       "      <td>377</td>\n",
       "      <td>1</td>\n",
       "      <td>138 comments</td>\n",
       "    </tr>\n",
       "    <tr>\n",
       "      <th>10</th>\n",
       "      <td>233</td>\n",
       "      <td>1</td>\n",
       "      <td>111 comments</td>\n",
       "    </tr>\n",
       "  </tbody>\n",
       "</table>\n",
       "</div>"
      ],
      "text/plain": [
       "    score  horas   comentarios\n",
       "0     457      1  309 comments\n",
       "1     126      1   46 comments\n",
       "2     170      1  112 comments\n",
       "3     138     22   61 comments\n",
       "4     107      1   41 comments\n",
       "5     610      1  261 comments\n",
       "6     484      1  527 comments\n",
       "7     101      1   37 comments\n",
       "8     127     23   57 comments\n",
       "9     377      1  138 comments\n",
       "10    233      1  111 comments"
      ]
     },
     "execution_count": 6,
     "metadata": {},
     "output_type": "execute_result"
    }
   ],
   "source": [
    "df.dropna()"
   ]
  },
  {
   "cell_type": "code",
   "execution_count": 7,
   "id": "979f7a80",
   "metadata": {},
   "outputs": [
    {
     "data": {
      "text/html": [
       "<div>\n",
       "<style scoped>\n",
       "    .dataframe tbody tr th:only-of-type {\n",
       "        vertical-align: middle;\n",
       "    }\n",
       "\n",
       "    .dataframe tbody tr th {\n",
       "        vertical-align: top;\n",
       "    }\n",
       "\n",
       "    .dataframe thead th {\n",
       "        text-align: right;\n",
       "    }\n",
       "</style>\n",
       "<table border=\"1\" class=\"dataframe\">\n",
       "  <thead>\n",
       "    <tr style=\"text-align: right;\">\n",
       "      <th></th>\n",
       "      <th>score</th>\n",
       "      <th>horas</th>\n",
       "      <th>comentarios</th>\n",
       "      <th>Titulo</th>\n",
       "    </tr>\n",
       "  </thead>\n",
       "  <tbody>\n",
       "    <tr>\n",
       "      <th>0</th>\n",
       "      <td>457</td>\n",
       "      <td>1</td>\n",
       "      <td>309 comments</td>\n",
       "      <td>Los 4 chiflados</td>\n",
       "    </tr>\n",
       "    <tr>\n",
       "      <th>1</th>\n",
       "      <td>126</td>\n",
       "      <td>1</td>\n",
       "      <td>46 comments</td>\n",
       "      <td>Los superfantasticos</td>\n",
       "    </tr>\n",
       "    <tr>\n",
       "      <th>2</th>\n",
       "      <td>170</td>\n",
       "      <td>1</td>\n",
       "      <td>112 comments</td>\n",
       "      <td>Mujer maravilla</td>\n",
       "    </tr>\n",
       "    <tr>\n",
       "      <th>3</th>\n",
       "      <td>138</td>\n",
       "      <td>22</td>\n",
       "      <td>61 comments</td>\n",
       "      <td>Comunidad de los anillos</td>\n",
       "    </tr>\n",
       "    <tr>\n",
       "      <th>4</th>\n",
       "      <td>107</td>\n",
       "      <td>1</td>\n",
       "      <td>41 comments</td>\n",
       "      <td>Magnificencia</td>\n",
       "    </tr>\n",
       "    <tr>\n",
       "      <th>5</th>\n",
       "      <td>610</td>\n",
       "      <td>1</td>\n",
       "      <td>261 comments</td>\n",
       "      <td></td>\n",
       "    </tr>\n",
       "    <tr>\n",
       "      <th>6</th>\n",
       "      <td>484</td>\n",
       "      <td>1</td>\n",
       "      <td>527 comments</td>\n",
       "      <td>Mundo de fantasia</td>\n",
       "    </tr>\n",
       "    <tr>\n",
       "      <th>7</th>\n",
       "      <td>101</td>\n",
       "      <td>1</td>\n",
       "      <td>37 comments</td>\n",
       "      <td>Hombre Araña</td>\n",
       "    </tr>\n",
       "    <tr>\n",
       "      <th>8</th>\n",
       "      <td>127</td>\n",
       "      <td>23</td>\n",
       "      <td>57 comments</td>\n",
       "      <td>El perfume</td>\n",
       "    </tr>\n",
       "    <tr>\n",
       "      <th>9</th>\n",
       "      <td>377</td>\n",
       "      <td>1</td>\n",
       "      <td>138 comments</td>\n",
       "      <td>Cambios inaceptables</td>\n",
       "    </tr>\n",
       "    <tr>\n",
       "      <th>10</th>\n",
       "      <td>233</td>\n",
       "      <td>1</td>\n",
       "      <td>111 comments</td>\n",
       "      <td>Confusion</td>\n",
       "    </tr>\n",
       "  </tbody>\n",
       "</table>\n",
       "</div>"
      ],
      "text/plain": [
       "    score  horas   comentarios                    Titulo\n",
       "0     457      1  309 comments           Los 4 chiflados\n",
       "1     126      1   46 comments      Los superfantasticos\n",
       "2     170      1  112 comments           Mujer maravilla\n",
       "3     138     22   61 comments  Comunidad de los anillos\n",
       "4     107      1   41 comments             Magnificencia\n",
       "5     610      1  261 comments                          \n",
       "6     484      1  527 comments         Mundo de fantasia\n",
       "7     101      1   37 comments              Hombre Araña\n",
       "8     127     23   57 comments                El perfume\n",
       "9     377      1  138 comments      Cambios inaceptables\n",
       "10    233      1  111 comments                 Confusion"
      ]
     },
     "execution_count": 7,
     "metadata": {},
     "output_type": "execute_result"
    }
   ],
   "source": [
    "lista = ['Los 4 chiflados','Los superfantasticos','Mujer maravilla','Comunidad de los anillos','Magnificencia','','Mundo de fantasia','Hombre Araña','El perfume','Cambios inaceptables','Confusion']\n",
    "\n",
    "df['Titulo'] = pd.Series(lista)\n",
    "df"
   ]
  },
  {
   "cell_type": "code",
   "execution_count": 7,
   "id": "483b007b",
   "metadata": {},
   "outputs": [
    {
     "name": "stdout",
     "output_type": "stream",
     "text": [
      "Pandas(Index=0, score=457, horas=1, comentarios='309\\xa0comments', Titulo='Los 4 chiflados')\n",
      "Pandas(Index=1, score=126, horas=1, comentarios='46\\xa0comments', Titulo='Los superfantasticos')\n",
      "Pandas(Index=2, score=170, horas=1, comentarios='112\\xa0comments', Titulo='Mujer maravilla')\n",
      "Pandas(Index=3, score=138, horas=22, comentarios='61\\xa0comments', Titulo='Comunidad de los anillos')\n",
      "Pandas(Index=4, score=107, horas=1, comentarios='41\\xa0comments', Titulo='Magnificencia')\n",
      "Pandas(Index=5, score=610, horas=1, comentarios='261\\xa0comments', Titulo='')\n",
      "Pandas(Index=6, score=484, horas=1, comentarios='527\\xa0comments', Titulo='Mundo de fantasia')\n",
      "Pandas(Index=7, score=101, horas=1, comentarios='37\\xa0comments', Titulo='Hombre Araña')\n",
      "Pandas(Index=8, score=127, horas=23, comentarios='57\\xa0comments', Titulo='El perfume')\n",
      "Pandas(Index=9, score=377, horas=1, comentarios='138\\xa0comments', Titulo='Cambios inaceptables')\n",
      "Pandas(Index=10, score=233, horas=1, comentarios='111\\xa0comments', Titulo='Confusion')\n"
     ]
    }
   ],
   "source": [
    "for row in df.itertuples():\n",
    "    print(row)"
   ]
  },
  {
   "cell_type": "markdown",
   "id": "e23c0752",
   "metadata": {},
   "source": [
    "# Ejercicio 3"
   ]
  },
  {
   "cell_type": "code",
   "execution_count": 26,
   "id": "7b173e10",
   "metadata": {},
   "outputs": [
    {
     "name": "stdout",
     "output_type": "stream",
     "text": [
      "(0, 220, 1, '23 comments', 'Los 4 chiflados')\n",
      "(1, 223, 3, '23 comments', 'Los superfantasticos')\n",
      "(2, 170, 1, '112\\xa0comments', 'Mujer maravilla')\n",
      "(3, 138, 22, '61\\xa0comments', 'Comunidad de los anillos')\n",
      "(4, 107, 1, '41\\xa0comments', 'Magnificencia')\n",
      "(5, 610, 1, '261\\xa0comments', '')\n",
      "(6, 484, 1, '527\\xa0comments', 'Mundo de fantasia')\n",
      "(7, 101, 1, '37\\xa0comments', 'Hombre Araña')\n",
      "(8, 127, 23, '57\\xa0comments', 'El perfume')\n",
      "(9, 377, 1, '138\\xa0comments', 'Cambios inaceptables')\n",
      "(10, 233, 1, '111\\xa0comments', 'Confusion')\n",
      "(None, 220, 5, '60 comments', 'Cien años de SOledad')\n",
      "(None, 110, 3, '49 comments', 'MIserables')\n"
     ]
    }
   ],
   "source": [
    "#Crear tabla\n",
    "\n",
    "conexion = sqlite3.connect(\"repasando_bdd.db\")\n",
    "df.to_sql(name=\"prueba\", con=conexion, index = False)\n",
    "df"
   ]
  },
  {
   "cell_type": "code",
   "execution_count": null,
   "id": "d3a46033",
   "metadata": {},
   "outputs": [],
   "source": [
    "# Consultar los datos de la tabla.\n",
    "\n",
    "conexion = sqlite3.connect(\"repasando_bdd.db\")\n",
    "consultar = conexion.execute(\"SELECT * FROM prueba\")\n",
    "\n",
    "for registro in consultar:\n",
    "    print(registro)"
   ]
  },
  {
   "cell_type": "code",
   "execution_count": 10,
   "id": "047e1133",
   "metadata": {},
   "outputs": [],
   "source": [
    "# Ingresar datos a la tabla.\n",
    "\n",
    "conexion = sqlite3.connect(\"repasando_bdd.db\")\n",
    "conexion.execute(\"INSERT INTO prueba(score,horas,comentarios,Titulo) VALUES(?,?,?,?)\",(220,5,\"60 comments\",\"Cien años de SOledad\"))\n",
    "conexion.execute(\"INSERT INTO prueba(score,horas,comentarios,Titulo) VALUES(?,?,?,?)\",(110,3,\"49 comments\",\"MIserables\"))\n",
    "conexion.commit() #Insert, update, delete\n"
   ]
  },
  {
   "cell_type": "code",
   "execution_count": 23,
   "id": "8d41459d",
   "metadata": {},
   "outputs": [
    {
     "name": "stdout",
     "output_type": "stream",
     "text": [
      "Ingrese el Nombre de la obra a consultar: Los superfantasticos\n",
      "Ingrese la score: 223\n",
      "Ingrese las horas: 3\n",
      "Ingrese el numero de comentarios: 23 comments\n",
      "(1, 223, 3, '23 comments', 'Los superfantasticos')\n"
     ]
    }
   ],
   "source": [
    "# Actualizar un registro de la tabla.\n",
    "\n",
    "conexion = sqlite3.connect(\"repasando_bdd.db\")\n",
    "titulo = input(\"Ingrese el Titulo a consultar: \")\n",
    "\n",
    "consultarID = conexion.execute(\"SELECT * FROM prueba WHERE Titulo = ?\",(titulo, ))\n",
    "datos = consultarID.fetchone()\n",
    "\n",
    "if datos != None:\n",
    "    puntuacion = int(input(\"Ingrese la score: \"))\n",
    "    horas = int(input(\"Ingrese las horas: \"))\n",
    "    comentario = input(\"Ingrese la cantidad comentarios: \")\n",
    "    actualizar = conexion.execute(\"UPDATE prueba SET score = ?, horas = ?, comentarios = ? WHERE Titulo = ?\", (puntuacion,horas,comentario,titulo, ))\n",
    "    conexion.commit() # insert, update, delete\n",
    "else:\n",
    "    print(\"No existe obra con el nombre\")\n",
    "\n",
    "consulta = conexion.execute(\"SELECT * FROM prueba WHERE Titulo = ?\",(titulo, ))\n",
    "\n",
    "for registro in consulta:\n",
    "    print(registro)"
   ]
  },
  {
   "cell_type": "code",
   "execution_count": 27,
   "id": "5b93c94a",
   "metadata": {},
   "outputs": [
    {
     "name": "stdout",
     "output_type": "stream",
     "text": [
      "Ingrese el Titulo a eliminar: MIserables\n"
     ]
    }
   ],
   "source": [
    "# Eliminar un registro de la tabla.\n",
    "\n",
    "titulo = input(\"Ingrese el Titulo a eliminar: \")\n",
    "conexion = sqlite3.connect(\"repasando_bdd.db\")\n",
    "conexion.execute(\"DELETE FROM prueba WHERE Titulo = ? \", (titulo, ))\n",
    "conexion.commit() #Insert, update, delete\n"
   ]
  },
  {
   "cell_type": "code",
   "execution_count": 33,
   "id": "e2e58f1b",
   "metadata": {},
   "outputs": [
    {
     "name": "stdout",
     "output_type": "stream",
     "text": [
      "Ingrese el Titulo a consultar: MIserables\n"
     ]
    }
   ],
   "source": [
    "# Consultar un dato de la tabla.\n",
    "\n",
    "titulo = input(\"Ingrese el Titulo a consultar: \")\n",
    "\n",
    "consultar = conexion.execute(\"SELECT * FROM prueba WHERE Titulo = ?\",(titulo,))\n",
    "\n",
    "for registro in consultar:\n",
    "    print(registro)"
   ]
  },
  {
   "cell_type": "code",
   "execution_count": null,
   "id": "591b6466",
   "metadata": {},
   "outputs": [],
   "source": [
    "conexion.close()"
   ]
  },
  {
   "cell_type": "code",
   "execution_count": null,
   "id": "25c8bbac",
   "metadata": {},
   "outputs": [],
   "source": []
  }
 ],
 "metadata": {
  "kernelspec": {
   "display_name": "Python 3 (ipykernel)",
   "language": "python",
   "name": "python3"
  },
  "language_info": {
   "codemirror_mode": {
    "name": "ipython",
    "version": 3
   },
   "file_extension": ".py",
   "mimetype": "text/x-python",
   "name": "python",
   "nbconvert_exporter": "python",
   "pygments_lexer": "ipython3",
   "version": "3.9.12"
  }
 },
 "nbformat": 4,
 "nbformat_minor": 5
}
