{
 "cells": [
  {
   "cell_type": "markdown",
   "id": "fd31df2b",
   "metadata": {},
   "source": [
    "# Prueba"
   ]
  },
  {
   "cell_type": "code",
   "execution_count": null,
   "id": "b53640df",
   "metadata": {},
   "outputs": [],
   "source": [
    "!pip install numpy\n",
    "!pip install pandas\n",
    "!pip install sqlalchemy\n",
    "!pip install pysqlite3\n",
    "!pip install requests\n",
    "!pip install bs4\n",
    "!pip install lxml\n",
    "!pip install unicode"
   ]
  },
  {
   "cell_type": "code",
   "execution_count": 1,
   "id": "222c813b",
   "metadata": {},
   "outputs": [],
   "source": [
    "import numpy as np\n",
    "import pandas as pd\n",
    "from sqlalchemy import create_engine\n",
    "import sqlite3\n",
    "import requests\n",
    "from bs4 import BeautifulSoup\n",
    "import csv\n",
    "from math import *"
   ]
  },
  {
   "cell_type": "code",
   "execution_count": 34,
   "id": "b596148f",
   "metadata": {},
   "outputs": [
    {
     "data": {
      "text/plain": [
       "[<td class=\"subtext\">\n",
       " <span class=\"score\" id=\"score_32558012\">39 points</span> by <a class=\"hnuser\" href=\"user?id=Andrew_nenakhov\">Andrew_nenakhov</a> <span class=\"age\" title=\"2022-08-22T22:19:19\"><a href=\"item?id=32558012\">45 minutes ago</a></span> <span id=\"unv_32558012\"></span> | <a href=\"hide?id=32558012&amp;goto=news\">hide</a> | <a href=\"item?id=32558012\">16 comments</a> </td>,\n",
       " <td class=\"subtext\">\n",
       " <span class=\"score\" id=\"score_32558191\">28 points</span> by <a class=\"hnuser\" href=\"user?id=whyleym\">whyleym</a> <span class=\"age\" title=\"2022-08-22T22:39:26\"><a href=\"item?id=32558191\">25 minutes ago</a></span> <span id=\"unv_32558191\"></span> | <a href=\"hide?id=32558191&amp;goto=news\">hide</a> | <a href=\"item?id=32558191\">6 comments</a> </td>,\n",
       " <td class=\"subtext\">\n",
       " <span class=\"score\" id=\"score_32556523\">105 points</span> by <a class=\"hnuser\" href=\"user?id=bookofjoe\">bookofjoe</a> <span class=\"age\" title=\"2022-08-22T20:08:17\"><a href=\"item?id=32556523\">2 hours ago</a></span> <span id=\"unv_32556523\"></span> | <a href=\"hide?id=32556523&amp;goto=news\">hide</a> | <a href=\"item?id=32556523\">55 comments</a> </td>,\n",
       " <td class=\"subtext\">\n",
       " <span class=\"score\" id=\"score_32553574\">312 points</span> by <a class=\"hnuser\" href=\"user?id=PaulHoule\">PaulHoule</a> <span class=\"age\" title=\"2022-08-22T16:18:24\"><a href=\"item?id=32553574\">6 hours ago</a></span> <span id=\"unv_32553574\"></span> | <a href=\"hide?id=32553574&amp;goto=news\">hide</a> | <a href=\"item?id=32553574\">98 comments</a> </td>,\n",
       " <td class=\"subtext\">\n",
       " <span class=\"score\" id=\"score_32556048\">94 points</span> by <a class=\"hnuser\" href=\"user?id=xept\">xept</a> <span class=\"age\" title=\"2022-08-22T19:27:14\"><a href=\"item?id=32556048\">3 hours ago</a></span> <span id=\"unv_32556048\"></span> | <a href=\"hide?id=32556048&amp;goto=news\">hide</a> | <a href=\"item?id=32556048\">16 comments</a> </td>,\n",
       " <td class=\"subtext\">\n",
       " <span class=\"score\" id=\"score_32551273\">440 points</span> by <a class=\"hnuser\" href=\"user?id=ellenhp\">ellenhp</a> <span class=\"age\" title=\"2022-08-22T13:45:53\"><a href=\"item?id=32551273\">9 hours ago</a></span> <span id=\"unv_32551273\"></span> | <a href=\"hide?id=32551273&amp;goto=news\">hide</a> | <a href=\"item?id=32551273\">68 comments</a> </td>,\n",
       " <td class=\"subtext\">\n",
       " <span class=\"score\" id=\"score_32555028\">486 points</span> by <a class=\"hnuser\" href=\"user?id=flimsythoughts\">flimsythoughts</a> <span class=\"age\" title=\"2022-08-22T18:08:23\"><a href=\"item?id=32555028\">4 hours ago</a></span> <span id=\"unv_32555028\"></span> | <a href=\"hide?id=32555028&amp;goto=news\">hide</a> | <a href=\"item?id=32555028\">281 comments</a> </td>,\n",
       " <td class=\"subtext\">\n",
       " <span class=\"score\" id=\"score_32555561\">78 points</span> by <a class=\"hnuser\" href=\"user?id=giuliomagnifico\">giuliomagnifico</a> <span class=\"age\" title=\"2022-08-22T18:51:03\"><a href=\"item?id=32555561\">4 hours ago</a></span> <span id=\"unv_32555561\"></span> | <a href=\"hide?id=32555561&amp;goto=news\">hide</a> | <a href=\"item?id=32555561\">32 comments</a> </td>,\n",
       " <td class=\"subtext\">\n",
       " <span class=\"score\" id=\"score_32555441\">165 points</span> by <a class=\"hnuser\" href=\"user?id=xbmcuser\">xbmcuser</a> <span class=\"age\" title=\"2022-08-22T18:41:39\"><a href=\"item?id=32555441\">4 hours ago</a></span> <span id=\"unv_32555441\"></span> | <a href=\"hide?id=32555441&amp;goto=news\">hide</a> | <a href=\"item?id=32555441\">115 comments</a> </td>,\n",
       " <td class=\"subtext\">\n",
       " <span class=\"age\" title=\"2022-08-22T21:00:53\"><a href=\"item?id=32557196\">2 hours ago</a></span> | <a href=\"hide?id=32557196&amp;goto=news\">hide</a> </td>,\n",
       " <td class=\"subtext\">\n",
       " <span class=\"score\" id=\"score_32551512\">209 points</span> by <a class=\"hnuser\" href=\"user?id=stefan_\">stefan_</a> <span class=\"age\" title=\"2022-08-22T14:04:15\"><a href=\"item?id=32551512\">9 hours ago</a></span> <span id=\"unv_32551512\"></span> | <a href=\"hide?id=32551512&amp;goto=news\">hide</a> | <a href=\"item?id=32551512\">95 comments</a> </td>,\n",
       " <td class=\"subtext\">\n",
       " <span class=\"score\" id=\"score_32552316\">130 points</span> by <a class=\"hnuser\" href=\"user?id=agomez314\">agomez314</a> <span class=\"age\" title=\"2022-08-22T14:54:02\"><a href=\"item?id=32552316\">8 hours ago</a></span> <span id=\"unv_32552316\"></span> | <a href=\"hide?id=32552316&amp;goto=news\">hide</a> | <a href=\"item?id=32552316\">89 comments</a> </td>,\n",
       " <td class=\"subtext\">\n",
       " <span class=\"score\" id=\"score_32555533\">73 points</span> by <a class=\"hnuser\" href=\"user?id=chrisfrantz\">chrisfrantz</a> <span class=\"age\" title=\"2022-08-22T18:49:17\"><a href=\"item?id=32555533\">4 hours ago</a></span> <span id=\"unv_32555533\"></span> | <a href=\"hide?id=32555533&amp;goto=news\">hide</a> | <a href=\"item?id=32555533\">42 comments</a> </td>,\n",
       " <td class=\"subtext\">\n",
       " <span class=\"score\" id=\"score_32556816\">25 points</span> by <a class=\"hnuser\" href=\"user?id=charliermarsh\">charliermarsh</a> <span class=\"age\" title=\"2022-08-22T20:31:52\"><a href=\"item?id=32556816\">2 hours ago</a></span> <span id=\"unv_32556816\"></span> | <a href=\"hide?id=32556816&amp;goto=news\">hide</a> | <a href=\"item?id=32556816\">2 comments</a> </td>,\n",
       " <td class=\"subtext\">\n",
       " <span class=\"score\" id=\"score_32550717\">401 points</span> by <a class=\"hnuser\" href=\"user?id=todsacerdoti\">todsacerdoti</a> <span class=\"age\" title=\"2022-08-22T13:00:32\"><a href=\"item?id=32550717\">10 hours ago</a></span> <span id=\"unv_32550717\"></span> | <a href=\"hide?id=32550717&amp;goto=news\">hide</a> | <a href=\"item?id=32550717\">382 comments</a> </td>,\n",
       " <td class=\"subtext\">\n",
       " <span class=\"score\" id=\"score_32548085\">82 points</span> by <a class=\"hnuser\" href=\"user?id=rrampage\">rrampage</a> <span class=\"age\" title=\"2022-08-22T06:39:36\"><a href=\"item?id=32548085\">7 hours ago</a></span> <span id=\"unv_32548085\"></span> | <a href=\"hide?id=32548085&amp;goto=news\">hide</a> | <a href=\"item?id=32548085\">116 comments</a> </td>,\n",
       " <td class=\"subtext\">\n",
       " <span class=\"score\" id=\"score_32549713\">25 points</span> by <a class=\"hnuser\" href=\"user?id=Kaibeezy\">Kaibeezy</a> <span class=\"age\" title=\"2022-08-22T10:51:01\"><a href=\"item?id=32549713\">3 hours ago</a></span> <span id=\"unv_32549713\"></span> | <a href=\"hide?id=32549713&amp;goto=news\">hide</a> | <a href=\"item?id=32549713\">10 comments</a> </td>,\n",
       " <td class=\"subtext\">\n",
       " <span class=\"score\" id=\"score_32555895\">129 points</span> by <a class=\"hnuser\" href=\"user?id=meken\">meken</a> <span class=\"age\" title=\"2022-08-22T19:17:31\"><a href=\"item?id=32555895\">3 hours ago</a></span> <span id=\"unv_32555895\"></span> | <a href=\"hide?id=32555895&amp;goto=news\">hide</a> | <a href=\"item?id=32555895\">67 comments</a> </td>,\n",
       " <td class=\"subtext\">\n",
       " <span class=\"score\" id=\"score_32553597\">74 points</span> by <a class=\"hnuser\" href=\"user?id=zdw\">zdw</a> <span class=\"age\" title=\"2022-08-22T16:19:59\"><a href=\"item?id=32553597\">6 hours ago</a></span> <span id=\"unv_32553597\"></span> | <a href=\"hide?id=32553597&amp;goto=news\">hide</a> | <a href=\"item?id=32553597\">90 comments</a> </td>,\n",
       " <td class=\"subtext\">\n",
       " <span class=\"score\" id=\"score_32557672\">22 points</span> by <a class=\"hnuser\" href=\"user?id=youngtaff\">youngtaff</a> <span class=\"age\" title=\"2022-08-22T21:42:21\"><a href=\"item?id=32557672\">1 hour ago</a></span> <span id=\"unv_32557672\"></span> | <a href=\"hide?id=32557672&amp;goto=news\">hide</a> | <a href=\"item?id=32557672\">12 comments</a> </td>,\n",
       " <td class=\"subtext\">\n",
       " <span class=\"score\" id=\"score_32549604\">231 points</span> by <a class=\"hnuser\" href=\"user?id=zimmerfrei\">zimmerfrei</a> <span class=\"age\" title=\"2022-08-22T10:35:38\"><a href=\"item?id=32549604\">12 hours ago</a></span> <span id=\"unv_32549604\"></span> | <a href=\"hide?id=32549604&amp;goto=news\">hide</a> | <a href=\"item?id=32549604\">164 comments</a> </td>,\n",
       " <td class=\"subtext\">\n",
       " <span class=\"score\" id=\"score_32552782\">74 points</span> by <a class=\"hnuser\" href=\"user?id=quyleanh\">quyleanh</a> <span class=\"age\" title=\"2022-08-22T15:24:28\"><a href=\"item?id=32552782\">7 hours ago</a></span> <span id=\"unv_32552782\"></span> | <a href=\"hide?id=32552782&amp;goto=news\">hide</a> | <a href=\"item?id=32552782\">62 comments</a> </td>,\n",
       " <td class=\"subtext\">\n",
       " <span class=\"score\" id=\"score_32556546\">16 points</span> by <a class=\"hnuser\" href=\"user?id=jes\">jes</a> <span class=\"age\" title=\"2022-08-22T20:09:46\"><a href=\"item?id=32556546\">2 hours ago</a></span> <span id=\"unv_32556546\"></span> | <a href=\"hide?id=32556546&amp;goto=news\">hide</a> | <a href=\"item?id=32556546\">3 comments</a> </td>,\n",
       " <td class=\"subtext\">\n",
       " <span class=\"score\" id=\"score_32548905\">275 points</span> by <a class=\"hnuser\" href=\"user?id=sleepy_keita\">sleepy_keita</a> <span class=\"age\" title=\"2022-08-22T08:47:21\"><a href=\"item?id=32548905\">14 hours ago</a></span> <span id=\"unv_32548905\"></span> | <a href=\"hide?id=32548905&amp;goto=news\">hide</a> | <a href=\"item?id=32548905\">82 comments</a> </td>,\n",
       " <td class=\"subtext\">\n",
       " <span class=\"score\" id=\"score_32547901\">105 points</span> by <a class=\"hnuser\" href=\"user?id=herbertl\">herbertl</a> <span class=\"age\" title=\"2022-08-22T06:06:28\"><a href=\"item?id=32547901\">11 hours ago</a></span> <span id=\"unv_32547901\"></span> | <a href=\"hide?id=32547901&amp;goto=news\">hide</a> | <a href=\"item?id=32547901\">63 comments</a> </td>,\n",
       " <td class=\"subtext\">\n",
       " <span class=\"score\" id=\"score_32548671\">293 points</span> by <a class=\"hnuser\" href=\"user?id=detaro\">detaro</a> <span class=\"age\" title=\"2022-08-22T08:12:28\"><a href=\"item?id=32548671\">14 hours ago</a></span> <span id=\"unv_32548671\"></span> | <a href=\"hide?id=32548671&amp;goto=news\">hide</a> | <a href=\"item?id=32548671\">141 comments</a> </td>,\n",
       " <td class=\"subtext\">\n",
       " <span class=\"score\" id=\"score_32547663\">6 points</span> by <a class=\"hnuser\" href=\"user?id=salgernon\">salgernon</a> <span class=\"age\" title=\"2022-08-22T05:23:57\"><a href=\"item?id=32547663\">1 hour ago</a></span> <span id=\"unv_32547663\"></span> | <a href=\"hide?id=32547663&amp;goto=news\">hide</a> | <a href=\"item?id=32547663\">discuss</a> </td>,\n",
       " <td class=\"subtext\">\n",
       " <span class=\"score\" id=\"score_32550670\">129 points</span> by <a class=\"hnuser\" href=\"user?id=Tomte\">Tomte</a> <span class=\"age\" title=\"2022-08-22T12:55:44\"><a href=\"item?id=32550670\">10 hours ago</a></span> <span id=\"unv_32550670\"></span> | <a href=\"hide?id=32550670&amp;goto=news\">hide</a> | <a href=\"item?id=32550670\">41 comments</a> </td>,\n",
       " <td class=\"subtext\">\n",
       " <span class=\"score\" id=\"score_32550267\">144 points</span> by <a class=\"hnuser\" href=\"user?id=Levminer\">Levminer</a> <span class=\"age\" title=\"2022-08-22T12:14:32\"><a href=\"item?id=32550267\">10 hours ago</a></span> <span id=\"unv_32550267\"></span> | <a href=\"hide?id=32550267&amp;goto=news\">hide</a> | <a href=\"item?id=32550267\">61 comments</a> </td>,\n",
       " <td class=\"subtext\">\n",
       " <span class=\"score\" id=\"score_32551862\">102 points</span> by <a class=\"hnuser\" href=\"user?id=throwaway874839\">throwaway874839</a> <span class=\"age\" title=\"2022-08-22T14:26:01\"><a href=\"item?id=32551862\">8 hours ago</a></span> <span id=\"unv_32551862\"></span> | <a href=\"hide?id=32551862&amp;goto=news\">hide</a> | <a href=\"item?id=32551862\">47 comments</a> </td>]"
      ]
     },
     "execution_count": 34,
     "metadata": {},
     "output_type": "execute_result"
    }
   ],
   "source": [
    "consulta = requests.get('https://news.ycombinator.com')\n",
    "soup = BeautifulSoup(consulta.text,'html.parser')\n",
    "buscar = soup.findAll('td',class_='subtext')\n",
    "buscar"
   ]
  },
  {
   "cell_type": "code",
   "execution_count": 35,
   "id": "e6a30448",
   "metadata": {},
   "outputs": [
    {
     "ename": "AttributeError",
     "evalue": "'NoneType' object has no attribute 'text'",
     "output_type": "error",
     "traceback": [
      "\u001b[1;31m---------------------------------------------------------------------------\u001b[0m",
      "\u001b[1;31mAttributeError\u001b[0m                            Traceback (most recent call last)",
      "Input \u001b[1;32mIn [35]\u001b[0m, in \u001b[0;36m<cell line: 3>\u001b[1;34m()\u001b[0m\n\u001b[0;32m      1\u001b[0m lista \u001b[38;5;241m=\u001b[39m \u001b[38;5;28mlist\u001b[39m()\n\u001b[0;32m      3\u001b[0m \u001b[38;5;28;01mfor\u001b[39;00m datos \u001b[38;5;129;01min\u001b[39;00m buscar:\n\u001b[0;32m      4\u001b[0m     data \u001b[38;5;241m=\u001b[39m {\n\u001b[1;32m----> 5\u001b[0m         \u001b[38;5;124m'\u001b[39m\u001b[38;5;124mscore\u001b[39m\u001b[38;5;124m'\u001b[39m: \u001b[38;5;28mint\u001b[39m(\u001b[43mdatos\u001b[49m\u001b[38;5;241;43m.\u001b[39;49m\u001b[43mfind\u001b[49m\u001b[43m(\u001b[49m\u001b[38;5;124;43m'\u001b[39;49m\u001b[38;5;124;43mspan\u001b[39;49m\u001b[38;5;124;43m'\u001b[39;49m\u001b[43m,\u001b[49m\u001b[43m \u001b[49m\u001b[43mclass_\u001b[49m\u001b[38;5;241;43m=\u001b[39;49m\u001b[38;5;124;43m'\u001b[39;49m\u001b[38;5;124;43mscore\u001b[39;49m\u001b[38;5;124;43m'\u001b[39;49m\u001b[43m)\u001b[49m\u001b[38;5;241;43m.\u001b[39;49m\u001b[43mtext\u001b[49m\u001b[38;5;241m.\u001b[39msplit()[\u001b[38;5;241m0\u001b[39m]),\n\u001b[0;32m      6\u001b[0m         \u001b[38;5;124m'\u001b[39m\u001b[38;5;124mhoras\u001b[39m\u001b[38;5;124m'\u001b[39m: \u001b[38;5;28mint\u001b[39m(datos\u001b[38;5;241m.\u001b[39mfind(\u001b[38;5;124m'\u001b[39m\u001b[38;5;124mspan\u001b[39m\u001b[38;5;124m'\u001b[39m, class_\u001b[38;5;241m=\u001b[39m\u001b[38;5;124m'\u001b[39m\u001b[38;5;124mage\u001b[39m\u001b[38;5;124m'\u001b[39m)\u001b[38;5;241m.\u001b[39ma\u001b[38;5;241m.\u001b[39mtext\u001b[38;5;241m.\u001b[39msplit()[\u001b[38;5;241m0\u001b[39m]),\n\u001b[0;32m      7\u001b[0m         \u001b[38;5;124m'\u001b[39m\u001b[38;5;124mcomentarios\u001b[39m\u001b[38;5;124m'\u001b[39m: \u001b[38;5;28mgetattr\u001b[39m(datos\u001b[38;5;241m.\u001b[39mfind_all(\u001b[38;5;124m'\u001b[39m\u001b[38;5;124ma\u001b[39m\u001b[38;5;124m'\u001b[39m)[\u001b[38;5;241m3\u001b[39m], \u001b[38;5;124m'\u001b[39m\u001b[38;5;124mtext\u001b[39m\u001b[38;5;124m'\u001b[39m, \u001b[38;5;28;01mNone\u001b[39;00m),\n\u001b[0;32m      8\u001b[0m     }\n\u001b[0;32m      9\u001b[0m     lista\u001b[38;5;241m.\u001b[39mappend(data)\n",
      "\u001b[1;31mAttributeError\u001b[0m: 'NoneType' object has no attribute 'text'"
     ]
    }
   ],
   "source": [
    "lista = list()\n",
    "\n",
    "for datos in buscar:\n",
    "    data = {\n",
    "        'score': int(datos.find('span', class_='score').text.split()[0]),\n",
    "        'horas': int(datos.find('span', class_='age').a.text.split()[0]),\n",
    "        'comentarios': getattr(datos.find_all('a')[3], 'text', None),\n",
    "    }\n",
    "    lista.append(data)\n",
    "    "
   ]
  },
  {
   "cell_type": "code",
   "execution_count": 37,
   "id": "b734f303",
   "metadata": {},
   "outputs": [
    {
     "data": {
      "text/html": [
       "<div>\n",
       "<style scoped>\n",
       "    .dataframe tbody tr th:only-of-type {\n",
       "        vertical-align: middle;\n",
       "    }\n",
       "\n",
       "    .dataframe tbody tr th {\n",
       "        vertical-align: top;\n",
       "    }\n",
       "\n",
       "    .dataframe thead th {\n",
       "        text-align: right;\n",
       "    }\n",
       "</style>\n",
       "<table border=\"1\" class=\"dataframe\">\n",
       "  <thead>\n",
       "    <tr style=\"text-align: right;\">\n",
       "      <th></th>\n",
       "      <th>score</th>\n",
       "      <th>horas</th>\n",
       "      <th>comentarios</th>\n",
       "    </tr>\n",
       "  </thead>\n",
       "  <tbody>\n",
       "    <tr>\n",
       "      <th>0</th>\n",
       "      <td>39</td>\n",
       "      <td>45</td>\n",
       "      <td>16 comments</td>\n",
       "    </tr>\n",
       "    <tr>\n",
       "      <th>1</th>\n",
       "      <td>28</td>\n",
       "      <td>25</td>\n",
       "      <td>6 comments</td>\n",
       "    </tr>\n",
       "    <tr>\n",
       "      <th>2</th>\n",
       "      <td>105</td>\n",
       "      <td>2</td>\n",
       "      <td>55 comments</td>\n",
       "    </tr>\n",
       "    <tr>\n",
       "      <th>3</th>\n",
       "      <td>312</td>\n",
       "      <td>6</td>\n",
       "      <td>98 comments</td>\n",
       "    </tr>\n",
       "    <tr>\n",
       "      <th>4</th>\n",
       "      <td>94</td>\n",
       "      <td>3</td>\n",
       "      <td>16 comments</td>\n",
       "    </tr>\n",
       "    <tr>\n",
       "      <th>5</th>\n",
       "      <td>440</td>\n",
       "      <td>9</td>\n",
       "      <td>68 comments</td>\n",
       "    </tr>\n",
       "    <tr>\n",
       "      <th>6</th>\n",
       "      <td>486</td>\n",
       "      <td>4</td>\n",
       "      <td>281 comments</td>\n",
       "    </tr>\n",
       "    <tr>\n",
       "      <th>7</th>\n",
       "      <td>78</td>\n",
       "      <td>4</td>\n",
       "      <td>32 comments</td>\n",
       "    </tr>\n",
       "    <tr>\n",
       "      <th>8</th>\n",
       "      <td>165</td>\n",
       "      <td>4</td>\n",
       "      <td>115 comments</td>\n",
       "    </tr>\n",
       "  </tbody>\n",
       "</table>\n",
       "</div>"
      ],
      "text/plain": [
       "   score  horas   comentarios\n",
       "0     39     45   16 comments\n",
       "1     28     25    6 comments\n",
       "2    105      2   55 comments\n",
       "3    312      6   98 comments\n",
       "4     94      3   16 comments\n",
       "5    440      9   68 comments\n",
       "6    486      4  281 comments\n",
       "7     78      4   32 comments\n",
       "8    165      4  115 comments"
      ]
     },
     "execution_count": 37,
     "metadata": {},
     "output_type": "execute_result"
    }
   ],
   "source": [
    "df = pd.DataFrame(lista)\n",
    "df"
   ]
  },
  {
   "cell_type": "markdown",
   "id": "92fa1c7f",
   "metadata": {},
   "source": [
    "# Ejercicio 2"
   ]
  },
  {
   "cell_type": "code",
   "execution_count": 5,
   "id": "055e5b20",
   "metadata": {},
   "outputs": [
    {
     "data": {
      "text/html": [
       "<div>\n",
       "<style scoped>\n",
       "    .dataframe tbody tr th:only-of-type {\n",
       "        vertical-align: middle;\n",
       "    }\n",
       "\n",
       "    .dataframe tbody tr th {\n",
       "        vertical-align: top;\n",
       "    }\n",
       "\n",
       "    .dataframe thead th {\n",
       "        text-align: right;\n",
       "    }\n",
       "</style>\n",
       "<table border=\"1\" class=\"dataframe\">\n",
       "  <thead>\n",
       "    <tr style=\"text-align: right;\">\n",
       "      <th></th>\n",
       "      <th>score</th>\n",
       "      <th>horas</th>\n",
       "      <th>comentarios</th>\n",
       "    </tr>\n",
       "  </thead>\n",
       "  <tbody>\n",
       "    <tr>\n",
       "      <th>0</th>\n",
       "      <td>89</td>\n",
       "      <td>2</td>\n",
       "      <td>41 comments</td>\n",
       "    </tr>\n",
       "    <tr>\n",
       "      <th>1</th>\n",
       "      <td>301</td>\n",
       "      <td>6</td>\n",
       "      <td>92 comments</td>\n",
       "    </tr>\n",
       "    <tr>\n",
       "      <th>2</th>\n",
       "      <td>82</td>\n",
       "      <td>3</td>\n",
       "      <td>12 comments</td>\n",
       "    </tr>\n",
       "    <tr>\n",
       "      <th>3</th>\n",
       "      <td>426</td>\n",
       "      <td>8</td>\n",
       "      <td>65 comments</td>\n",
       "    </tr>\n",
       "    <tr>\n",
       "      <th>4</th>\n",
       "      <td>456</td>\n",
       "      <td>4</td>\n",
       "      <td>272 comments</td>\n",
       "    </tr>\n",
       "    <tr>\n",
       "      <th>5</th>\n",
       "      <td>71</td>\n",
       "      <td>3</td>\n",
       "      <td>30 comments</td>\n",
       "    </tr>\n",
       "    <tr>\n",
       "      <th>6</th>\n",
       "      <td>9</td>\n",
       "      <td>17</td>\n",
       "      <td>discuss</td>\n",
       "    </tr>\n",
       "    <tr>\n",
       "      <th>7</th>\n",
       "      <td>11</td>\n",
       "      <td>54</td>\n",
       "      <td>5 comments</td>\n",
       "    </tr>\n",
       "  </tbody>\n",
       "</table>\n",
       "</div>"
      ],
      "text/plain": [
       "   score  horas   comentarios\n",
       "0     89      2   41 comments\n",
       "1    301      6   92 comments\n",
       "2     82      3   12 comments\n",
       "3    426      8   65 comments\n",
       "4    456      4  272 comments\n",
       "5     71      3   30 comments\n",
       "6      9     17       discuss\n",
       "7     11     54    5 comments"
      ]
     },
     "execution_count": 5,
     "metadata": {},
     "output_type": "execute_result"
    }
   ],
   "source": [
    "df.dropna()"
   ]
  },
  {
   "cell_type": "code",
   "execution_count": 6,
   "id": "979f7a80",
   "metadata": {},
   "outputs": [
    {
     "data": {
      "text/html": [
       "<div>\n",
       "<style scoped>\n",
       "    .dataframe tbody tr th:only-of-type {\n",
       "        vertical-align: middle;\n",
       "    }\n",
       "\n",
       "    .dataframe tbody tr th {\n",
       "        vertical-align: top;\n",
       "    }\n",
       "\n",
       "    .dataframe thead th {\n",
       "        text-align: right;\n",
       "    }\n",
       "</style>\n",
       "<table border=\"1\" class=\"dataframe\">\n",
       "  <thead>\n",
       "    <tr style=\"text-align: right;\">\n",
       "      <th></th>\n",
       "      <th>score</th>\n",
       "      <th>horas</th>\n",
       "      <th>comentarios</th>\n",
       "      <th>Titulo</th>\n",
       "    </tr>\n",
       "  </thead>\n",
       "  <tbody>\n",
       "    <tr>\n",
       "      <th>0</th>\n",
       "      <td>89</td>\n",
       "      <td>2</td>\n",
       "      <td>41 comments</td>\n",
       "      <td>Los 4 chiflados</td>\n",
       "    </tr>\n",
       "    <tr>\n",
       "      <th>1</th>\n",
       "      <td>301</td>\n",
       "      <td>6</td>\n",
       "      <td>92 comments</td>\n",
       "      <td>Los superfantasticos</td>\n",
       "    </tr>\n",
       "    <tr>\n",
       "      <th>2</th>\n",
       "      <td>82</td>\n",
       "      <td>3</td>\n",
       "      <td>12 comments</td>\n",
       "      <td>Mujer maravilla</td>\n",
       "    </tr>\n",
       "    <tr>\n",
       "      <th>3</th>\n",
       "      <td>426</td>\n",
       "      <td>8</td>\n",
       "      <td>65 comments</td>\n",
       "      <td>Comunidad de los anillos</td>\n",
       "    </tr>\n",
       "    <tr>\n",
       "      <th>4</th>\n",
       "      <td>456</td>\n",
       "      <td>4</td>\n",
       "      <td>272 comments</td>\n",
       "      <td>Magnificencia</td>\n",
       "    </tr>\n",
       "    <tr>\n",
       "      <th>5</th>\n",
       "      <td>71</td>\n",
       "      <td>3</td>\n",
       "      <td>30 comments</td>\n",
       "      <td></td>\n",
       "    </tr>\n",
       "    <tr>\n",
       "      <th>6</th>\n",
       "      <td>9</td>\n",
       "      <td>17</td>\n",
       "      <td>discuss</td>\n",
       "      <td>Mundo de fantasia</td>\n",
       "    </tr>\n",
       "    <tr>\n",
       "      <th>7</th>\n",
       "      <td>11</td>\n",
       "      <td>54</td>\n",
       "      <td>5 comments</td>\n",
       "      <td>Hombre Araña</td>\n",
       "    </tr>\n",
       "  </tbody>\n",
       "</table>\n",
       "</div>"
      ],
      "text/plain": [
       "   score  horas   comentarios                    Titulo\n",
       "0     89      2   41 comments           Los 4 chiflados\n",
       "1    301      6   92 comments      Los superfantasticos\n",
       "2     82      3   12 comments           Mujer maravilla\n",
       "3    426      8   65 comments  Comunidad de los anillos\n",
       "4    456      4  272 comments             Magnificencia\n",
       "5     71      3   30 comments                          \n",
       "6      9     17       discuss         Mundo de fantasia\n",
       "7     11     54    5 comments              Hombre Araña"
      ]
     },
     "execution_count": 6,
     "metadata": {},
     "output_type": "execute_result"
    }
   ],
   "source": [
    "lista = ['Los 4 chiflados','Los superfantasticos','Mujer maravilla','Comunidad de los anillos','Magnificencia','','Mundo de fantasia','Hombre Araña','El perfume','Cambios inaceptables','Confusion']\n",
    "\n",
    "df['Titulo'] = pd.Series(lista)\n",
    "df"
   ]
  },
  {
   "cell_type": "markdown",
   "id": "e23c0752",
   "metadata": {},
   "source": [
    "# Ejercicio 3"
   ]
  },
  {
   "cell_type": "code",
   "execution_count": 9,
   "id": "b4120827",
   "metadata": {},
   "outputs": [
    {
     "name": "stdout",
     "output_type": "stream",
     "text": [
      "   score  horas   comentarios                    Titulo\n",
      "0     89      2   41 comments           Los 4 chiflados\n",
      "1    301      6   92 comments      Los superfantasticos\n",
      "2     82      3   12 comments           Mujer maravilla\n",
      "3    426      8   65 comments  Comunidad de los anillos\n",
      "4    456      4  272 comments             Magnificencia\n",
      "5     71      3   30 comments                          \n",
      "6      9     17       discuss         Mundo de fantasia\n",
      "7     11     54    5 comments              Hombre Araña\n"
     ]
    }
   ],
   "source": [
    "bdd = create_engine('sqlite:///:memory:')\n",
    "df.to_sql('tabla',bdd,index=False)\n",
    "leer_datos = pd.read_sql('tabla',con=bdd)\n",
    "print(leer_datos)"
   ]
  },
  {
   "cell_type": "code",
   "execution_count": 14,
   "id": "047e1133",
   "metadata": {},
   "outputs": [
    {
     "name": "stdout",
     "output_type": "stream",
     "text": [
      "    score  horas   comentarios                    Titulo\n",
      "0      89      2   41 comments           Los 4 chiflados\n",
      "1     301      6   92 comments      Los superfantasticos\n",
      "2      82      3   12 comments           Mujer maravilla\n",
      "3     426      8   65 comments  Comunidad de los anillos\n",
      "4     456      4  272 comments             Magnificencia\n",
      "5      71      3   30 comments                          \n",
      "6       9     17       discuss         Mundo de fantasia\n",
      "7      11     54    5 comments              Hombre Araña\n",
      "8     220      5   60 comments              Harry Potter\n",
      "9     110      3   49 comments      Cien Años de Soledad\n",
      "10    220      5   60 comments              Harry Potter\n",
      "11    110      3   49 comments      Cien Años de Soledad\n",
      "12    220      5   60 comments              Harry Potter\n",
      "13    110      3   49 comments      Cien Años de Soledad\n"
     ]
    }
   ],
   "source": [
    "bdd.execute(\"INSERT INTO tabla(score,horas,comentarios,Titulo) VALUES(?,?,?,?)\",(220,5,\"60 comments\",\"Harry Potter\"))\n",
    "bdd.execute(\"INSERT INTO tabla(score,horas,comentarios,Titulo) VALUES(?,?,?,?)\",(110,3,\"49 comments\",\"Cien Años de Soledad\"))\n",
    "leer_datos = pd.read_sql('tabla',con=bdd)\n",
    "print(leer_datos)"
   ]
  },
  {
   "cell_type": "code",
   "execution_count": null,
   "id": "8d41459d",
   "metadata": {},
   "outputs": [],
   "source": []
  },
  {
   "cell_type": "code",
   "execution_count": null,
   "id": "5b93c94a",
   "metadata": {},
   "outputs": [],
   "source": [
    "# 6.Eliminar un registro de la tabla\n",
    "idProducto = int(input(\"Ingrese el ID a eliminar: \"))\n",
    "conexion = sqlite3.connect(\"tabla.db\")\n",
    "conexion.execute(\"DELETE FROM tabla WHERE id = ? \", (idProducto, ))\n",
    "conexion.commit() #Insert, update, delete\n",
    "conexion.close()"
   ]
  },
  {
   "cell_type": "code",
   "execution_count": null,
   "id": "e2e58f1b",
   "metadata": {},
   "outputs": [],
   "source": [
    "# 4.Consultar los datos de la tabla\n",
    "\n",
    "consulta = float(input(\"Ingrese el id: \"))\n",
    "\n",
    "consultar = conexion.execute(\"SELECT * FROM productos WHERE id = ?\",(id,))\n",
    "\n",
    "for registro in consulta:\n",
    "    print(registro)"
   ]
  }
 ],
 "metadata": {
  "kernelspec": {
   "display_name": "Python 3 (ipykernel)",
   "language": "python",
   "name": "python3"
  },
  "language_info": {
   "codemirror_mode": {
    "name": "ipython",
    "version": 3
   },
   "file_extension": ".py",
   "mimetype": "text/x-python",
   "name": "python",
   "nbconvert_exporter": "python",
   "pygments_lexer": "ipython3",
   "version": "3.9.12"
  }
 },
 "nbformat": 4,
 "nbformat_minor": 5
}
