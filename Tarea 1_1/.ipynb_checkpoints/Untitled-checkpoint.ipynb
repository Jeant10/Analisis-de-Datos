{
 "cells": [
  {
   "cell_type": "code",
   "execution_count": 7,
   "id": "97a1c744",
   "metadata": {},
   "outputs": [
    {
     "name": "stdout",
     "output_type": "stream",
     "text": [
      "[1, 2, 3, 4, 5, 6, 7, 8, 9, 10, 11, 12, 13, 14, 15, 16, 17, 18, 19, 20, 21, 22, 23, 24, 25, 26, 27, 28, 29, 30, 31, 32, 33, 34, 35, 36, 37, 38, 39, 40, 41, 42, 43, 44, 45, 46, 47, 48, 49, 50]\n"
     ]
    }
   ],
   "source": [
    "#Almacenar en una lista los valores del 1 al 50, utilizando el bucle while y el método range\n",
    "\n",
    "lista = []\n",
    "i = 1\n",
    "while i in range(1,51):\n",
    "    lista.append(i)\n",
    "    i=i+1\n",
    "print(lista)"
   ]
  },
  {
   "cell_type": "code",
   "execution_count": 78,
   "id": "070f9a1e",
   "metadata": {},
   "outputs": [
    {
     "name": "stdout",
     "output_type": "stream",
     "text": [
      "Ingrese el numero (0 para salir): 9\n",
      "Ingrese el numero (0 para salir): 8\n",
      "Ingrese el numero (0 para salir): 2\n",
      "Ingrese el numero (0 para salir): 9\n",
      "Ingrese el numero (0 para salir): 10\n",
      "Ingrese el numero (0 para salir): 0\n",
      "[10, 9, 9, 8, 2]\n"
     ]
    }
   ],
   "source": [
    "#Ingrese números por teclado, si los números son mayor a cero los almacena en una lista, de lo contrario deja de ingresar datos.\n",
    "#Mostrar los datos ordenados de forma descendente. \n",
    "\n",
    "numeros = []\n",
    "\n",
    "salir = True\n",
    "\n",
    "while(salir):\n",
    "\n",
    "    numero = int(input(\"Ingrese el numero (0 para salir): \"))\n",
    "    if numero > 0:\n",
    "        numeros.append(numero)\n",
    "    else:\n",
    "        salir = False\n",
    "        \n",
    "numeros.sort(reverse = True)  \n",
    "\n",
    "print(numeros)"
   ]
  },
  {
   "cell_type": "code",
   "execution_count": 75,
   "id": "7f2f4cd7",
   "metadata": {},
   "outputs": [
    {
     "name": "stdout",
     "output_type": "stream",
     "text": [
      "Ingrese un indice: 4\n",
      "El valor del indice 4 es: 56\n"
     ]
    }
   ],
   "source": [
    "#Crear la tupla números = (1,2,3,4,5,6,7,8,9,10). \n",
    "#Ingresar un índice por teclado y mostrar el valor de la tupla que corresponde al índice ingresado. \n",
    "#Si el índice no corresponde al rango de la tupla mostrar un mensaje de error. \n",
    "\n",
    "tuplanumeros = (10,24,32,41,56,67,72,80,91,102)\n",
    "\n",
    "index = int(input(\"Ingrese un indice: \"))\n",
    "\n",
    "if(index < len(tuplanumeros)):\n",
    "    valor = tuplanumeros[index]\n",
    "    print(\"El valor del indice\",index,\"es:\", valor)\n",
    "else:\n",
    "    print(\"Error, no existe el indice ingresado\")\n"
   ]
  },
  {
   "cell_type": "code",
   "execution_count": 71,
   "id": "b65d801d",
   "metadata": {},
   "outputs": [
    {
     "name": "stdout",
     "output_type": "stream",
     "text": [
      "El valor mayor es: 35\n",
      "El valor menor es: 2\n"
     ]
    }
   ],
   "source": [
    "#Crear una tupla de números, mostrar el valor mayor y menor que contiene la tupla.\n",
    "\n",
    "tuplanumeros = (7,3,10,35,2,8,5,4)\n",
    "i = 0\n",
    "\n",
    "mayor = 0\n",
    "menor = 0\n",
    "\n",
    "for i in range(0,len(tuplanumeros)):\n",
    "    if tuplanumeros[i] > mayor:\n",
    "        mayor = tuplanumeros[i]\n",
    "        \n",
    "print(\"El valor mayor es:\", mayor)\n",
    "      \n",
    "menor = mayor\n",
    "\n",
    "for i in range(0,len(tuplanumeros)):\n",
    "    if tuplanumeros[i] < menor:\n",
    "        menor = tuplanumeros[i]\n",
    "        \n",
    "print(\"El valor menor es:\", menor)\n"
   ]
  },
  {
   "cell_type": "code",
   "execution_count": 2,
   "id": "0b381d01",
   "metadata": {},
   "outputs": [
    {
     "name": "stdout",
     "output_type": "stream",
     "text": [
      "Ingrese el nombre del contacto: Juan\n",
      "Ingrese su edad: 19\n",
      "Ingrese la direccion: O34\n",
      "Ingrese su telefono: 0954545454\n",
      "Contacto ingresado\n",
      "Deseas ingresar otro contacto ??? (S/N): s\n",
      "Ingrese el nombre del contacto: Pedro\n",
      "Ingrese su edad: 20\n",
      "Ingrese la direccion: E45\n",
      "Ingrese su telefono: 0954545454\n",
      "Contacto ingresado\n",
      "Deseas ingresar otro contacto ??? (S/N): n\n",
      "\n",
      "\n",
      "Juan tiene 19 años, vive en O34 y su numero de telefono es 0954545454\n",
      "Pedro tiene 20 años, vive en E45 y su numero de telefono es 0954545454\n"
     ]
    }
   ],
   "source": [
    "#Guardar en un diccionario los siguientes datos ingresados por teclado nombre, edad, dirección y teléfono. \n",
    "#Mostrar por pantalla el mensaje <nombre> tiene <edad> años, vive en <direccion> y su número de teléfono es <telefono>. \n",
    "#Pedir el ingreso de datos hasta que el usuario manifieste lo contrario.\n",
    "\n",
    "usuarios = {}\n",
    "\n",
    "salir = True\n",
    "\n",
    "while(salir):\n",
    "    \n",
    "    nombre = input(\"Ingrese el nombre del contacto: \")\n",
    "    edad = int(input(\"Ingrese su edad: \"))\n",
    "    direccion = input(\"Ingrese la direccion: \")\n",
    "    telefono = int(input(\"Ingrese su telefono: \"))\n",
    "    \n",
    "    if(nombre not in usuarios):\n",
    "        usuarios[nombre] = [edad,direccion,telefono]\n",
    "        print(\"Contacto ingresado\")\n",
    "    else:\n",
    "        print(\"El contacto ya existe\")\n",
    "        \n",
    "    respuesta = input(\"Deseas ingresar otro contacto ??? (S/N): \")\n",
    "    if(respuesta.upper() != \"S\"):\n",
    "        salir = False\n",
    "    \n",
    "print(\"\\n\")\n",
    "for x, y in usuarios.items():\n",
    "    print(x, \"tiene\", y[0], \"años, vive en\", y[1], \"y su numero de telefono es\",f\"0{y[2]}\")"
   ]
  },
  {
   "cell_type": "code",
   "execution_count": null,
   "id": "0cd7fce8",
   "metadata": {},
   "outputs": [],
   "source": []
  }
 ],
 "metadata": {
  "kernelspec": {
   "display_name": "Python 3 (ipykernel)",
   "language": "python",
   "name": "python3"
  },
  "language_info": {
   "codemirror_mode": {
    "name": "ipython",
    "version": 3
   },
   "file_extension": ".py",
   "mimetype": "text/x-python",
   "name": "python",
   "nbconvert_exporter": "python",
   "pygments_lexer": "ipython3",
   "version": "3.9.12"
  }
 },
 "nbformat": 4,
 "nbformat_minor": 5
}
