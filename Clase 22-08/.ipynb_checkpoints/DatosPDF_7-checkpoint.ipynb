{
 "cells": [
  {
   "cell_type": "markdown",
   "id": "6dd3e40c",
   "metadata": {},
   "source": [
    "## Archivos PDF"
   ]
  },
  {
   "cell_type": "code",
   "execution_count": 2,
   "id": "429c5ced",
   "metadata": {},
   "outputs": [
    {
     "name": "stdout",
     "output_type": "stream",
     "text": [
      "# de páginas 3\n",
      "encriptado ? False\n",
      "{'/Producer': 'iTextSharp™ 5.5.5 ©2000-2014 iText Group NV (AGPL-version)', '/CreationDate': \"D:20200416142307+05'30'\", '/ModDate': \"D:20200416142307+05'30'\"}\n",
      "Creación  D:20200416142307+05'30'\n",
      "Modificación  D:20200416142307+05'30'\n",
      "Producción  iTextSharp™ 5.5.5 ©2000-2014 iText Group NV (AGPL-version)\n"
     ]
    }
   ],
   "source": [
    "#!pip install PyPDF2\n",
    "import PyPDF2 as file_pdf\n",
    "documento = open('EjemploPdf.pdf','rb')\n",
    "pdf = file_pdf.PdfFileReader(documento)\n",
    "print(\"# de páginas\", pdf.numPages)\n",
    "print(\"encriptado ?\", pdf.isEncrypted)\n",
    "info = pdf.documentInfo\n",
    "print(info)\n",
    "print(\"Creación \", info.get('/CreationDate'))\n",
    "print(\"Modificación \", info.get('/ModDate'))\n",
    "print(\"Producción \", info.get('/Producer'))"
   ]
  },
  {
   "cell_type": "code",
   "execution_count": 4,
   "id": "e8bb4e71",
   "metadata": {},
   "outputs": [],
   "source": [
    "# Mostar página específica\n",
    "import pandas as pd\n",
    "pagina = pdf.getPage(1)\n",
    "pagina= pagina.extractText()\n",
    "print(pagina)"
   ]
  },
  {
   "cell_type": "code",
   "execution_count": 5,
   "id": "91720059",
   "metadata": {},
   "outputs": [],
   "source": [
    "# Mostar todas las páginas del documento\n",
    "for i in range(0,pdf.numPages):\n",
    "    page = pdf.getPage(i)\n",
    "    print(page.extractText())"
   ]
  },
  {
   "cell_type": "code",
   "execution_count": null,
   "id": "e77cba89",
   "metadata": {},
   "outputs": [],
   "source": []
  },
  {
   "cell_type": "markdown",
   "id": "9b7afe4e",
   "metadata": {},
   "source": [
    "## Lectura de tablas "
   ]
  },
  {
   "cell_type": "code",
   "execution_count": 88,
   "id": "ebdb2b08",
   "metadata": {},
   "outputs": [],
   "source": [
    "# Lectura de tablas\n",
    "#!pip install tabula-py\n",
    "from tabula.io import read_pdf\n",
    "documento = read_pdf(input_path='EjemploPdf.pdf', pages = 'all')"
   ]
  },
  {
   "cell_type": "code",
   "execution_count": 94,
   "id": "b37a324c",
   "metadata": {},
   "outputs": [],
   "source": [
    "#type(documento)\n",
    "df1 = pd.DataFrame(documento[0])\n",
    "df2 = pd.DataFrame(documento[1])"
   ]
  },
  {
   "cell_type": "code",
   "execution_count": null,
   "id": "c8b85e1f",
   "metadata": {},
   "outputs": [],
   "source": []
  }
 ],
 "metadata": {
  "kernelspec": {
   "display_name": "Python 3 (ipykernel)",
   "language": "python",
   "name": "python3"
  },
  "language_info": {
   "codemirror_mode": {
    "name": "ipython",
    "version": 3
   },
   "file_extension": ".py",
   "mimetype": "text/x-python",
   "name": "python",
   "nbconvert_exporter": "python",
   "pygments_lexer": "ipython3",
   "version": "3.9.12"
  }
 },
 "nbformat": 4,
 "nbformat_minor": 5
}
