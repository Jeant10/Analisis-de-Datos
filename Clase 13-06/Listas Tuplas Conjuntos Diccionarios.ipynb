{
 "cells": [
  {
   "cell_type": "code",
   "execution_count": 1,
   "id": "cf3b1845",
   "metadata": {},
   "outputs": [
    {
     "name": "stdout",
     "output_type": "stream",
     "text": [
      "['v', 'i', 'r', 't', 'u', 'a', 'l']\n"
     ]
    }
   ],
   "source": [
    "#Comprension de listas\n",
    "#Forma original\n",
    "letras = []\n",
    "for letra in 'virtual':\n",
    "    letras.append(letra)\n",
    "print(letras)"
   ]
  },
  {
   "cell_type": "code",
   "execution_count": 2,
   "id": "a771f400",
   "metadata": {},
   "outputs": [
    {
     "name": "stdout",
     "output_type": "stream",
     "text": [
      "['e', 'j', 'e', 'm', 'p', 'l', 'o', '2']\n"
     ]
    }
   ],
   "source": [
    "#Comprension\n",
    "letras2 = [letra for letra in 'ejemplo2']\n",
    "print(letras2)"
   ]
  },
  {
   "cell_type": "code",
   "execution_count": 3,
   "id": "f99b7ac1",
   "metadata": {},
   "outputs": [
    {
     "name": "stdout",
     "output_type": "stream",
     "text": [
      "[0, 1, 4, 9, 16, 25, 36, 49, 64, 81, 100]\n"
     ]
    }
   ],
   "source": [
    "#Crear una lista con las potencias de 2 de los primeros diez numeros\n",
    "potencias = []\n",
    "for num in range(0,11): #hasta donde llego + 1\n",
    "    potencias.append(num**2) #** para potencia\n",
    "print(potencias)"
   ]
  },
  {
   "cell_type": "code",
   "execution_count": 6,
   "id": "6999411c",
   "metadata": {},
   "outputs": [
    {
     "name": "stdout",
     "output_type": "stream",
     "text": [
      "[0, 1, 4, 9, 16, 25, 36, 49, 64, 81, 100]\n"
     ]
    }
   ],
   "source": [
    "#compresion\n",
    "potencias = [i**2 for i in range(0,11)]\n",
    "print(potencias)"
   ]
  },
  {
   "cell_type": "code",
   "execution_count": 7,
   "id": "1530bb34",
   "metadata": {},
   "outputs": [
    {
     "name": "stdout",
     "output_type": "stream",
     "text": [
      "[2, 4, 6, 8, 10, 12]\n"
     ]
    }
   ],
   "source": [
    "#Crear una lista a partir de una lista iniclal\n",
    "elementos1 = [1,2,3,4,5,6]\n",
    "elementos2 = []\n",
    "for i in elementos1:\n",
    "    multiplicar = i*2\n",
    "    elementos2.append(multiplicar)\n",
    "print(elementos2)"
   ]
  },
  {
   "cell_type": "code",
   "execution_count": 9,
   "id": "74150c53",
   "metadata": {},
   "outputs": [
    {
     "name": "stdout",
     "output_type": "stream",
     "text": [
      "[2, 4, 6, 8, 10, 12]\n"
     ]
    }
   ],
   "source": [
    "#Comprension\n",
    "elementos1 = [1,2,3,4,5,6]\n",
    "elementos2 = [i*2 for i in elementos1]\n",
    "print(elementos2)"
   ]
  },
  {
   "cell_type": "code",
   "execution_count": 10,
   "id": "f5345b3b",
   "metadata": {},
   "outputs": [
    {
     "name": "stdout",
     "output_type": "stream",
     "text": [
      "[0, 2, 4, 6, 8, 10]\n"
     ]
    }
   ],
   "source": [
    "#Pares entre 0 y 10\n",
    "pares = []\n",
    "for p in range(0,11):\n",
    "    if p%2 == 0:\n",
    "        pares.append(p)\n",
    "print(pares)"
   ]
  },
  {
   "cell_type": "code",
   "execution_count": 20,
   "id": "bad77051",
   "metadata": {},
   "outputs": [
    {
     "name": "stdout",
     "output_type": "stream",
     "text": [
      "[0, 2, 4, 6, 8, 10]\n"
     ]
    }
   ],
   "source": [
    "#Comprension\n",
    "pares = [p for p in range(0,11) if p%2 == 0]\n",
    "print(pares)"
   ]
  },
  {
   "cell_type": "code",
   "execution_count": 21,
   "id": "4ea13e38",
   "metadata": {},
   "outputs": [
    {
     "name": "stdout",
     "output_type": "stream",
     "text": [
      "0\n",
      "1\n",
      "2\n",
      "3\n",
      "4\n",
      "5\n",
      "6\n",
      "7\n",
      "8\n",
      "9\n"
     ]
    }
   ],
   "source": [
    "for i in range(10):\n",
    "    print(i)"
   ]
  },
  {
   "cell_type": "code",
   "execution_count": 22,
   "id": "9f852c91",
   "metadata": {},
   "outputs": [
    {
     "name": "stdout",
     "output_type": "stream",
     "text": [
      "0\n",
      "2\n",
      "4\n",
      "6\n",
      "8\n"
     ]
    }
   ],
   "source": [
    "for i in range(0,10,2):\n",
    "    print(i)"
   ]
  },
  {
   "cell_type": "code",
   "execution_count": 25,
   "id": "bed26066",
   "metadata": {},
   "outputs": [
    {
     "data": {
      "text/plain": [
       "[2, 3, 4, 5, 6, 7, 8, 9, 15, 16, 17, 18, 19, 20, 21, 22, 23, 24]"
      ]
     },
     "execution_count": 25,
     "metadata": {},
     "output_type": "execute_result"
    }
   ],
   "source": [
    "list(range(2,10))+list(range(15,25))"
   ]
  },
  {
   "cell_type": "code",
   "execution_count": 26,
   "id": "7a56ee9a",
   "metadata": {},
   "outputs": [
    {
     "data": {
      "text/plain": [
       "[0, 1, 2, 3, 4, 5]"
      ]
     },
     "execution_count": 26,
     "metadata": {},
     "output_type": "execute_result"
    }
   ],
   "source": [
    "list(range(len(\"isabel\")))"
   ]
  },
  {
   "cell_type": "code",
   "execution_count": 33,
   "id": "446d8c9b",
   "metadata": {},
   "outputs": [
    {
     "data": {
      "text/plain": [
       "'rosa'"
      ]
     },
     "execution_count": 33,
     "metadata": {},
     "output_type": "execute_result"
    }
   ],
   "source": [
    " #TUPLAS \n",
    "colores = (\"verde\",\"lila\",\"rosa\",\"naranja\")\n",
    "colores[0]\n",
    "colores[-1]\n",
    "colores[-2] #rosa\n",
    "colores[2] #rosa"
   ]
  },
  {
   "cell_type": "code",
   "execution_count": 37,
   "id": "a4fe007d",
   "metadata": {},
   "outputs": [
    {
     "data": {
      "text/plain": [
       "('a', 'd')"
      ]
     },
     "execution_count": 37,
     "metadata": {},
     "output_type": "execute_result"
    }
   ],
   "source": [
    " #TUPLAS \n",
    "letras = 'a', 'b', 'c', 'd', 'e'\n",
    "letras[1:4]\n",
    "letras[:]\n",
    "letras[::3]"
   ]
  },
  {
   "cell_type": "code",
   "execution_count": 39,
   "id": "4b437b33",
   "metadata": {},
   "outputs": [
    {
     "ename": "ValueError",
     "evalue": "too many values to unpack (expected 3)",
     "output_type": "error",
     "traceback": [
      "\u001b[1;31m---------------------------------------------------------------------------\u001b[0m",
      "\u001b[1;31mValueError\u001b[0m                                Traceback (most recent call last)",
      "Input \u001b[1;32mIn [39]\u001b[0m, in \u001b[0;36m<cell line: 2>\u001b[1;34m()\u001b[0m\n\u001b[0;32m      1\u001b[0m \u001b[38;5;66;03m#variables para tuplas\u001b[39;00m\n\u001b[1;32m----> 2\u001b[0m color1, color2, color3 \u001b[38;5;241m=\u001b[39m colores\n\u001b[0;32m      3\u001b[0m \u001b[38;5;28mprint\u001b[39m(color1)\n\u001b[0;32m      4\u001b[0m \u001b[38;5;28mprint\u001b[39m(color2)\n",
      "\u001b[1;31mValueError\u001b[0m: too many values to unpack (expected 3)"
     ]
    }
   ],
   "source": [
    "#variables para tuplas\n",
    "color1, color2, color3 ,color4 = colores\n",
    "print(color1)\n",
    "print(color2)\n",
    "print(color3)\n",
    "print(color4)"
   ]
  },
  {
   "cell_type": "code",
   "execution_count": 41,
   "id": "05f3fb37",
   "metadata": {},
   "outputs": [
    {
     "data": {
      "text/plain": [
       "(10, 'tupla', ['a', 'e', 'i'], 6.7)"
      ]
     },
     "execution_count": 41,
     "metadata": {},
     "output_type": "execute_result"
    }
   ],
   "source": [
    "#listas dentro de las tuplas\n",
    "tuplasListas = (10,'tupla', ['a', 'e', 'i'], 6.7)\n",
    "tuplasListas"
   ]
  },
  {
   "cell_type": "code",
   "execution_count": 42,
   "id": "12ae0994",
   "metadata": {},
   "outputs": [
    {
     "data": {
      "text/plain": [
       "(10, 'tupla', ['a', 'e', 'i', 'o'], 6.7)"
      ]
     },
     "execution_count": 42,
     "metadata": {},
     "output_type": "execute_result"
    }
   ],
   "source": [
    "tuplasListas[2].append('o')\n",
    "tuplasListas"
   ]
  },
  {
   "cell_type": "code",
   "execution_count": 43,
   "id": "c9b3d04f",
   "metadata": {},
   "outputs": [
    {
     "data": {
      "text/plain": [
       "{2, 3, 9, 12, 15}"
      ]
     },
     "execution_count": 43,
     "metadata": {},
     "output_type": "execute_result"
    }
   ],
   "source": [
    "#Conjuntos\n",
    "valores = {9,12,2,9,15,12,3} #datos ingresados\n",
    "valores"
   ]
  },
  {
   "cell_type": "code",
   "execution_count": 44,
   "id": "5f49a885",
   "metadata": {},
   "outputs": [
    {
     "data": {
      "text/plain": [
       "{' ', 'R', 'a', 'c', 'd', 'e', 'i', 'j', 'n', 'o', 's', 't', 'u', 'v'}"
      ]
     },
     "execution_count": 44,
     "metadata": {},
     "output_type": "execute_result"
    }
   ],
   "source": [
    "caracteres = set('Revisando conjuntos')\n",
    "caracteres"
   ]
  },
  {
   "cell_type": "code",
   "execution_count": 45,
   "id": "cbccb93b",
   "metadata": {},
   "outputs": [
    {
     "data": {
      "text/plain": [
       "{2, 8, 12, 39}"
      ]
     },
     "execution_count": 45,
     "metadata": {},
     "output_type": "execute_result"
    }
   ],
   "source": [
    "setListas = set([12,2,39,8,12,2])\n",
    "setListas"
   ]
  },
  {
   "cell_type": "code",
   "execution_count": 49,
   "id": "92ddc508",
   "metadata": {},
   "outputs": [],
   "source": [
    "sinDatos = set()"
   ]
  },
  {
   "cell_type": "code",
   "execution_count": 50,
   "id": "ef498bca",
   "metadata": {},
   "outputs": [
    {
     "data": {
      "text/plain": [
       "{2, 3, 9, 12, 15, 20}"
      ]
     },
     "execution_count": 50,
     "metadata": {},
     "output_type": "execute_result"
    }
   ],
   "source": [
    "valores = {9,12,2,9,15,12,3}\n",
    "valores.add(20)\n",
    "valores"
   ]
  },
  {
   "cell_type": "code",
   "execution_count": 51,
   "id": "4f90aa6c",
   "metadata": {},
   "outputs": [
    {
     "data": {
      "text/plain": [
       "{1, 2, 3, 9, 12, 15, 20}"
      ]
     },
     "execution_count": 51,
     "metadata": {},
     "output_type": "execute_result"
    }
   ],
   "source": [
    "valores.add(1)\n",
    "valores"
   ]
  },
  {
   "cell_type": "code",
   "execution_count": 52,
   "id": "7253ea18",
   "metadata": {},
   "outputs": [
    {
     "data": {
      "text/plain": [
       "{1, 2, 3, 4, 9, 12, 13, 15, 19, 20, 26}"
      ]
     },
     "execution_count": 52,
     "metadata": {},
     "output_type": "execute_result"
    }
   ],
   "source": [
    "valores.update([4,13,26,19])\n",
    "valores"
   ]
  },
  {
   "cell_type": "code",
   "execution_count": 53,
   "id": "b9b26d49",
   "metadata": {},
   "outputs": [
    {
     "data": {
      "text/plain": [
       "{1, 2, 3, 4, 9, 12, 13, 15, 19, 26}"
      ]
     },
     "execution_count": 53,
     "metadata": {},
     "output_type": "execute_result"
    }
   ],
   "source": [
    "valores.remove(20)\n",
    "valores"
   ]
  },
  {
   "cell_type": "code",
   "execution_count": 54,
   "id": "85b4d701",
   "metadata": {},
   "outputs": [
    {
     "data": {
      "text/plain": [
       "{1, 2, 4, 9, 12, 13, 15, 19, 26}"
      ]
     },
     "execution_count": 54,
     "metadata": {},
     "output_type": "execute_result"
    }
   ],
   "source": [
    "valores.remove(3)\n",
    "valores"
   ]
  },
  {
   "cell_type": "code",
   "execution_count": 58,
   "id": "299d44cc",
   "metadata": {},
   "outputs": [
    {
     "data": {
      "text/plain": [
       "{1, 2, 9, 12, 13, 15, 19, 26}"
      ]
     },
     "execution_count": 58,
     "metadata": {},
     "output_type": "execute_result"
    }
   ],
   "source": [
    "valores.discard(5)\n",
    "valores"
   ]
  },
  {
   "cell_type": "code",
   "execution_count": 63,
   "id": "cb612b5c",
   "metadata": {},
   "outputs": [
    {
     "data": {
      "text/plain": [
       "{15, 19, 26}"
      ]
     },
     "execution_count": 63,
     "metadata": {},
     "output_type": "execute_result"
    }
   ],
   "source": [
    "valores.pop() #elimina el primer elemento de izquierda\n",
    "valores"
   ]
  },
  {
   "cell_type": "code",
   "execution_count": 64,
   "id": "30e0351a",
   "metadata": {},
   "outputs": [
    {
     "data": {
      "text/plain": [
       "set()"
      ]
     },
     "execution_count": 64,
     "metadata": {},
     "output_type": "execute_result"
    }
   ],
   "source": [
    "valores.clear()\n",
    "valores"
   ]
  },
  {
   "cell_type": "code",
   "execution_count": 65,
   "id": "cc4abf57",
   "metadata": {},
   "outputs": [
    {
     "data": {
      "text/plain": [
       "5"
      ]
     },
     "execution_count": 65,
     "metadata": {},
     "output_type": "execute_result"
    }
   ],
   "source": [
    "#Diccionarios\n",
    "numeros = {'a':1, 'b':5, 'c':9} \n",
    "numeros['b']"
   ]
  },
  {
   "cell_type": "code",
   "execution_count": 66,
   "id": "a5529315",
   "metadata": {},
   "outputs": [
    {
     "data": {
      "text/plain": [
       "4"
      ]
     },
     "execution_count": 66,
     "metadata": {},
     "output_type": "execute_result"
    }
   ],
   "source": [
    "numeros2 = dict(uno=1, dos=2, tres=3, cuatro=4)\n",
    "numeros2['cuatro']"
   ]
  },
  {
   "cell_type": "code",
   "execution_count": 74,
   "id": "77438771",
   "metadata": {},
   "outputs": [
    {
     "data": {
      "text/plain": [
       "{'Isabel': ['Hola', 36, 48], 'Alan': ['Chao', 58, 52], 'Dilan': 'bye'}"
      ]
     },
     "execution_count": 74,
     "metadata": {},
     "output_type": "execute_result"
    }
   ],
   "source": [
    "numeros3= {\"Isabel\":['Hola',36,48], \"Alan\":['Chao',58,52], \"Dilan\":'bye'}\n",
    "numeros3"
   ]
  },
  {
   "cell_type": "code",
   "execution_count": 75,
   "id": "bc3d9ec2",
   "metadata": {},
   "outputs": [
    {
     "data": {
      "text/plain": [
       "['Hola', 36, 48]"
      ]
     },
     "execution_count": 75,
     "metadata": {},
     "output_type": "execute_result"
    }
   ],
   "source": [
    "numeros3.get(\"Isabel\")"
   ]
  },
  {
   "cell_type": "code",
   "execution_count": 77,
   "id": "8c32c5c1",
   "metadata": {},
   "outputs": [
    {
     "name": "stdout",
     "output_type": "stream",
     "text": [
      "Isabel\n",
      "Alan\n",
      "Dilan\n"
     ]
    }
   ],
   "source": [
    "for i in numeros3.keys(): #claves de diccionario\n",
    "    print(i)"
   ]
  },
  {
   "cell_type": "code",
   "execution_count": 78,
   "id": "d4b75986",
   "metadata": {},
   "outputs": [
    {
     "name": "stdout",
     "output_type": "stream",
     "text": [
      "['Hola', 36, 48]\n",
      "['Chao', 58, 52]\n",
      "bye\n"
     ]
    }
   ],
   "source": [
    "for i in numeros3.values(): #valores de diccionario\n",
    "    print(i)"
   ]
  },
  {
   "cell_type": "code",
   "execution_count": 79,
   "id": "a1f75fbc",
   "metadata": {},
   "outputs": [
    {
     "name": "stdout",
     "output_type": "stream",
     "text": [
      "('Isabel', ['Hola', 36, 48])\n",
      "('Alan', ['Chao', 58, 52])\n",
      "('Dilan', 'bye')\n"
     ]
    }
   ],
   "source": [
    "for i in numeros3.items(): #clave-valor de diccionario\n",
    "    print(i)"
   ]
  },
  {
   "cell_type": "code",
   "execution_count": 87,
   "id": "276628a9",
   "metadata": {},
   "outputs": [
    {
     "name": "stdout",
     "output_type": "stream",
     "text": [
      "Ingresa una cadena: hola, todos\n",
      "hola, todos\n",
      "['h', 'o', 'l', 'a', ',', ' ', 't', 'd', 's']\n"
     ]
    }
   ],
   "source": [
    "#Ingresar por teclado una cadena cualquiera. Almacenar en una lista el contenido de la cadena,de modo que los caracteres de la cadena no se repitan\n",
    "\n",
    "cadena = input(\"Ingresa una cadena: \")\n",
    "print(cadena)\n",
    "letras = []\n",
    "for i in cadena:\n",
    "    if(i not in letras):\n",
    "        letras.append(i)\n",
    "\n",
    "        \n",
    "print(letras)"
   ]
  },
  {
   "cell_type": "code",
   "execution_count": 96,
   "id": "4f0f50fb",
   "metadata": {},
   "outputs": [
    {
     "name": "stdout",
     "output_type": "stream",
     "text": [
      "Ingresa un numero entero 5\n",
      "Existen 3 repeticiones del numero 5\n"
     ]
    }
   ],
   "source": [
    "#Dada una tupla de números. Ingresar un valor por teclado y verificar cuantas veces se repite el valor dentro de la tupla\n",
    "numero = (7,5,4,2,1,6,65,3,5,5,2,6,6)\n",
    "valor = int(input(\"Ingresa un numero entero \"))\n",
    "contador = 0\n",
    "\n",
    "for i in numero:\n",
    "    if valor == i:\n",
    "        contador = contador + 1\n",
    "        \n",
    "print(\"Existen\", contador, \"repeticiones del numero\", valor)"
   ]
  },
  {
   "cell_type": "code",
   "execution_count": 98,
   "id": "06d1927d",
   "metadata": {},
   "outputs": [
    {
     "name": "stdout",
     "output_type": "stream",
     "text": [
      "Ingrese el nombre del contacto: Isabel\n",
      "Ingrese el numero de telefono: 0954534344\n",
      "Contacto ingresado\n",
      "Deseas ingresar otro contacto ??? (S/N)S\n",
      "Ingrese el nombre del contacto: Alan\n",
      "Ingrese el numero de telefono: 0943434343\n",
      "Contacto ingresado\n",
      "Deseas ingresar otro contacto ??? (S/N)Q\n",
      "Ingrese el nombre del contacto: Sebastian\n",
      "Ingrese el numero de telefono: 0954545455\n",
      "Contacto ingresado\n",
      "Deseas ingresar otro contacto ??? (S/N)S\n",
      "Ingrese el nombre del contacto: Gustavo\n",
      "Ingrese el numero de telefono: 0943434343\n",
      "Contacto ingresado\n",
      "Deseas ingresar otro contacto ??? (S/N)N\n",
      "{'Isabel': 954534344, 'Alan': 943434343, 'Sebastian': 954545455, 'Gustavo': 943434343}\n"
     ]
    }
   ],
   "source": [
    "#Crear un diccionario donde la clave corresponde al nombre del usuario y el valor es el #celular.Pedir el ingreso de contactos, mientras el usuario no indique lo contrario.No se debe permitir ingresar nombres repetidos.\n",
    "\n",
    "datosAgenda = {}\n",
    "salir = True\n",
    "\n",
    "while(salir):\n",
    "    #pedir datos\n",
    "    nombre = input(\"Ingrese el nombre del contacto: \")\n",
    "    fono = int(input(\"Ingrese el numero de telefono: \"))\n",
    "    #Comporbar si exite un contacto con el nombre ingresado\n",
    "    if(nombre not in datosAgenda):\n",
    "        datosAgenda[nombre] = fono\n",
    "        print(\"Contacto ingresado\")\n",
    "    else:\n",
    "        print(\"El contacto ya existe\")\n",
    "    #Ingreso de mas datos??\n",
    "    respuesta = input(\"Deseas ingresar otro contacto ??? (S/N)\")\n",
    "    if(respuesta == \"N\"):\n",
    "        salir = False\n",
    "        \n",
    "print(datosAgenda)"
   ]
  },
  {
   "cell_type": "code",
   "execution_count": 99,
   "id": "eb579ce7",
   "metadata": {},
   "outputs": [
    {
     "name": "stdout",
     "output_type": "stream",
     "text": [
      "Que frutas compraras?mango\n",
      "Cuantos kilos deseas? 2\n",
      "2.0 kilos de  Mango cuestan  7.1 dolares\n"
     ]
    }
   ],
   "source": [
    "#Almacenar en un diccionario el nombre de la fruta y su precio.Ingresar por teclado el nombre de la fruta y el número de kilos. Mostrar por pantalla el precio correspondiente de la fruta. Si la fruta no está en el diccionario mostrar un mensaje informativo.\n",
    "\n",
    "frutas = {'Mango': 3.55, 'Manzana': 2.25, 'Sandia':5.35, 'Peras':1.85}\n",
    "fruta = input(\"Que frutas compraras?\").title()\n",
    "kg = float(input(\"Cuantos kilos deseas? \"))\n",
    "if fruta in frutas:\n",
    "    print(kg, \"kilos de \", fruta, \"cuestan \", frutas[fruta]*kg, \"dolares\")\n",
    "else:\n",
    "    print(\"Lo lamento, la fruta \", fruta, \"no esta disponible\")\n"
   ]
  },
  {
   "cell_type": "code",
   "execution_count": null,
   "id": "fa75dca7",
   "metadata": {},
   "outputs": [],
   "source": []
  }
 ],
 "metadata": {
  "kernelspec": {
   "display_name": "Python 3 (ipykernel)",
   "language": "python",
   "name": "python3"
  },
  "language_info": {
   "codemirror_mode": {
    "name": "ipython",
    "version": 3
   },
   "file_extension": ".py",
   "mimetype": "text/x-python",
   "name": "python",
   "nbconvert_exporter": "python",
   "pygments_lexer": "ipython3",
   "version": "3.9.12"
  }
 },
 "nbformat": 4,
 "nbformat_minor": 5
}
