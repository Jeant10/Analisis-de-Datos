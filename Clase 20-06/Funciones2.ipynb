{
 "cells": [
  {
   "cell_type": "code",
   "execution_count": 4,
   "id": "89cd4a56",
   "metadata": {},
   "outputs": [
    {
     "data": {
      "text/plain": [
       "[1, 3, 4, 8, 6, 9, 6, 4, 2]"
      ]
     },
     "execution_count": 4,
     "metadata": {},
     "output_type": "execute_result"
    }
   ],
   "source": [
    "#Cuarto enunciado\n",
    "\n",
    "import Funciones1 as fun #.py\n",
    "\n",
    "numeroLista = [1,3,4,8,6,7,6,4,2]\n",
    "fun.modificar_multiplo(numeroLista)"
   ]
  },
  {
   "cell_type": "code",
   "execution_count": 5,
   "id": "5169733e",
   "metadata": {},
   "outputs": [
    {
     "data": {
      "text/plain": [
       "[1, 3, 4, 8, 6, 9, 6, 4, 2]"
      ]
     },
     "execution_count": 5,
     "metadata": {},
     "output_type": "execute_result"
    }
   ],
   "source": [
    "from Funciones1 import *\n",
    "numeroLista = [1,3,4,8,6,7,6,4,2]\n",
    "modificar_multiplo(numeroLista)"
   ]
  },
  {
   "cell_type": "code",
   "execution_count": 10,
   "id": "73c5854c",
   "metadata": {
    "scrolled": false
   },
   "outputs": [
    {
     "name": "stdout",
     "output_type": "stream",
     "text": [
      "Ingrese un numero < 500 (Para salir ingrese -1): 4\n",
      "Ingrese un numero < 500 (Para salir ingrese -1): 7\n",
      "Ingrese un numero < 500 (Para salir ingrese -1): 3\n",
      "Ingrese un numero < 500 (Para salir ingrese -1): -1\n",
      "Lista original -->  [4, 7, 3]\n",
      "Multiplos de 7 -->  [4, 10, 3]\n",
      "Modificar impares -->  [4, 6, 3]\n"
     ]
    }
   ],
   "source": [
    "from Funciones1 import *\n",
    "\n",
    "lista = crear_lista()\n",
    "\n",
    "\n",
    "print(\"Lista original --> \", lista)\n",
    "print(\"Multiplos de 7 --> \", modificar_multiplo(lista))\n",
    "print(\"Modificar impares --> \", modificar_pos_impares(lista))\n",
    "\n"
   ]
  },
  {
   "cell_type": "code",
   "execution_count": null,
   "id": "d6cf0860",
   "metadata": {},
   "outputs": [],
   "source": []
  }
 ],
 "metadata": {
  "kernelspec": {
   "display_name": "Python 3 (ipykernel)",
   "language": "python",
   "name": "python3"
  },
  "language_info": {
   "codemirror_mode": {
    "name": "ipython",
    "version": 3
   },
   "file_extension": ".py",
   "mimetype": "text/x-python",
   "name": "python",
   "nbconvert_exporter": "python",
   "pygments_lexer": "ipython3",
   "version": "3.9.12"
  }
 },
 "nbformat": 4,
 "nbformat_minor": 5
}
