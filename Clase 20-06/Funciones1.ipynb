{
 "cells": [
  {
   "cell_type": "code",
   "execution_count": 4,
   "id": "149ac9df",
   "metadata": {},
   "outputs": [
    {
     "name": "stdout",
     "output_type": "stream",
     "text": [
      "[1, 7, 6, -2, 5, 2, 3, -1]\n"
     ]
    }
   ],
   "source": [
    "#Taller 3\n",
    "#Primer enunciado\n",
    "\n",
    "def modificar_pos_impares(lista):\n",
    "    for i in range(1,len(lista),2):\n",
    "        lista[i] = lista[i] - lista[i-1]\n",
    "    return lista\n",
    "\n",
    "numerolista = [1,8,6,4,5,7,3,2]\n",
    "\n",
    "#print(modificar_pos_impares(numerolista))"
   ]
  },
  {
   "cell_type": "code",
   "execution_count": 7,
   "id": "1f3f13ce",
   "metadata": {},
   "outputs": [
    {
     "name": "stdout",
     "output_type": "stream",
     "text": [
      "[1, 16, 6, 51, 5, 9, 3, 2]\n"
     ]
    }
   ],
   "source": [
    "#Segundo enunciado\n",
    "\n",
    "def modificar_multiplo(lista):\n",
    "    for i in range(1,len(lista)):\n",
    "        if lista[i] % 7 == 0:\n",
    "            lista[i] = lista[i] + lista[len(lista)-1]\n",
    "    return lista\n",
    "\n",
    "nuevalista = [1,14,6,49,5,7,3,2]\n",
    "\n",
    "#print(modificar_multiplo(nuevalista))"
   ]
  },
  {
   "cell_type": "code",
   "execution_count": 8,
   "id": "5c935753",
   "metadata": {},
   "outputs": [
    {
     "name": "stdout",
     "output_type": "stream",
     "text": [
      "Ingrese un numero < 500 (Para salir ingrese -1): 400\n",
      "Ingrese un numero < 500 (Para salir ingrese -1): 2\n",
      "Ingrese un numero < 500 (Para salir ingrese -1): 480\n",
      "Ingrese un numero < 500 (Para salir ingrese -1): 5\n",
      "Ingrese un numero < 500 (Para salir ingrese -1): 580\n",
      "Ingrese un numero < 500 (Para salir ingrese -1): \n",
      "Ingrese un numero < 500 (Para salir ingrese -1): -5\n",
      "[400, 2, 480, 5]\n"
     ]
    }
   ],
   "source": [
    "#Tercer enunciado\n",
    "\n",
    "def crear_lista():\n",
    "    continuar = True\n",
    "    lista = []\n",
    "    while(continuar):\n",
    "        num = int(input(\"Ingrese un numero < 500 (Para salir ingrese -1): \"))\n",
    "        if(num < 0):\n",
    "            continuar = False\n",
    "        elif num < 500:\n",
    "            lista.append(num)\n",
    "        else:\n",
    "            print(\"Error el numero debe ser < 500 !!!\")\n",
    "    return lista\n",
    "\n",
    "#print(crear_lista())"
   ]
  },
  {
   "cell_type": "code",
   "execution_count": null,
   "id": "4872f7b7",
   "metadata": {},
   "outputs": [],
   "source": [
    "#Cuarto enunciado\n"
   ]
  }
 ],
 "metadata": {
  "kernelspec": {
   "display_name": "Python 3 (ipykernel)",
   "language": "python",
   "name": "python3"
  },
  "language_info": {
   "codemirror_mode": {
    "name": "ipython",
    "version": 3
   },
   "file_extension": ".py",
   "mimetype": "text/x-python",
   "name": "python",
   "nbconvert_exporter": "python",
   "pygments_lexer": "ipython3",
   "version": "3.9.12"
  }
 },
 "nbformat": 4,
 "nbformat_minor": 5
}
