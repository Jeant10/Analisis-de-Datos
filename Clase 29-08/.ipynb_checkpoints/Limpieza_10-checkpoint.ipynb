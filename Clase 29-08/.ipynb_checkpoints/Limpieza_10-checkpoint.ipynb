{
 "cells": [
  {
   "cell_type": "code",
   "execution_count": 1,
   "id": "77642c12",
   "metadata": {},
   "outputs": [],
   "source": [
    "import pandas as pd\n",
    "import numpy as np\n",
    "import matplotlib.pyplot as plt\n",
    "import seaborn as sns"
   ]
  },
  {
   "cell_type": "markdown",
   "id": "7806ba5b",
   "metadata": {},
   "source": [
    "### 1. Obtener y analizar datos"
   ]
  },
  {
   "cell_type": "code",
   "execution_count": 3,
   "id": "1f1a3c76",
   "metadata": {},
   "outputs": [],
   "source": [
    "def leer_datos(ruta):\n",
    "    df = pd.read_csv(ruta,sep=',')   \n",
    "    return df"
   ]
  },
  {
   "cell_type": "code",
   "execution_count": 4,
   "id": "792b65c8",
   "metadata": {},
   "outputs": [
    {
     "name": "stdout",
     "output_type": "stream",
     "text": [
      "<class 'pandas.core.frame.DataFrame'>\n",
      "RangeIndex: 891 entries, 0 to 890\n",
      "Data columns (total 12 columns):\n",
      " #   Column       Non-Null Count  Dtype  \n",
      "---  ------       --------------  -----  \n",
      " 0   PassengerId  891 non-null    int64  \n",
      " 1   Survived     891 non-null    int64  \n",
      " 2   Pclass       891 non-null    int64  \n",
      " 3   Name         891 non-null    object \n",
      " 4   Sex          891 non-null    object \n",
      " 5   Age          714 non-null    float64\n",
      " 6   SibSp        891 non-null    int64  \n",
      " 7   Parch        891 non-null    int64  \n",
      " 8   Ticket       891 non-null    object \n",
      " 9   Fare         891 non-null    float64\n",
      " 10  Cabin        204 non-null    object \n",
      " 11  Embarked     889 non-null    object \n",
      "dtypes: float64(2), int64(5), object(5)\n",
      "memory usage: 83.7+ KB\n",
      "None\n",
      "   PassengerId  Survived  Pclass  \\\n",
      "0            1         0       3   \n",
      "1            2         1       1   \n",
      "2            3         1       3   \n",
      "\n",
      "                                                Name     Sex   Age  SibSp  \\\n",
      "0                            Braund, Mr. Owen Harris    male  22.0      1   \n",
      "1  Cumings, Mrs. John Bradley (Florence Briggs Th...  female  38.0      1   \n",
      "2                             Heikkinen, Miss. Laina  female  26.0      0   \n",
      "\n",
      "   Parch            Ticket     Fare Cabin Embarked  \n",
      "0      0         A/5 21171   7.2500   NaN        S  \n",
      "1      0          PC 17599  71.2833   C85        C  \n",
      "2      0  STON/O2. 3101282   7.9250   NaN        S  \n"
     ]
    }
   ],
   "source": [
    "entrenamiento = leer_datos(\"train_Titanic.csv\")\n",
    "print(entrenamiento.info())\n",
    "print(entrenamiento.head(3))"
   ]
  },
  {
   "cell_type": "code",
   "execution_count": null,
   "id": "8acd1357",
   "metadata": {},
   "outputs": [],
   "source": [
    "\"\"\"Analizo valores, en este caso tenemos varios datos nullos\"\"\"\n",
    "entrenamiento.isna().sum().sort_values()"
   ]
  },
  {
   "cell_type": "code",
   "execution_count": null,
   "id": "556fb4b3",
   "metadata": {},
   "outputs": [],
   "source": [
    "\"\"\"los espacios en blanco representan los valores faltantes/nulos\"\"\"\n",
    "sns.heatmap(entrenamiento.isna())"
   ]
  },
  {
   "cell_type": "code",
   "execution_count": null,
   "id": "603d9cae",
   "metadata": {},
   "outputs": [],
   "source": [
    "\"\"\"NO no sobreviven\"\"\"\n",
    "sns.countplot(x='Survived', data=entrenamiento)"
   ]
  },
  {
   "cell_type": "code",
   "execution_count": null,
   "id": "13456326",
   "metadata": {},
   "outputs": [],
   "source": [
    "sns.countplot(x='Survived', data=entrenamiento, hue=\"Sex\")"
   ]
  },
  {
   "cell_type": "code",
   "execution_count": null,
   "id": "0a97894c",
   "metadata": {},
   "outputs": [],
   "source": [
    "sns.countplot(x='Survived', data=entrenamiento, hue=\"Pclass\")"
   ]
  },
  {
   "cell_type": "code",
   "execution_count": null,
   "id": "752b7377",
   "metadata": {},
   "outputs": [],
   "source": [
    "\"\"\"vemos q la mayor parte esta entre los 20 y 40\"\"\"\n",
    "sns.distplot(entrenamiento[\"Age\"].dropna(), kde=False)\n",
    "\"\"\"kde elimina la parte de linea curva q muestra la normal\n",
    "puedo especificar el # de columnas con bins\"\"\"\n",
    "# sns.distplot(entrenamiento[\"Age\"].dropna(), kde=False, bins=30)"
   ]
  },
  {
   "cell_type": "code",
   "execution_count": null,
   "id": "90cb596a",
   "metadata": {},
   "outputs": [],
   "source": [
    "# numero de familiares de c/pasajero\n",
    "entrenamiento['SibSp'].plot.hist(bins=20)\n",
    "\"\"\"0 representa la gente qu no tenia familiares, 1 la gente con 200 familiares\"\"\""
   ]
  },
  {
   "cell_type": "markdown",
   "id": "03725f48",
   "metadata": {},
   "source": [
    "### 2. Limpieza de datos"
   ]
  },
  {
   "cell_type": "code",
   "execution_count": null,
   "id": "b906297e",
   "metadata": {},
   "outputs": [],
   "source": [
    "sns.heatmap(entrenamiento.isnull())"
   ]
  },
  {
   "cell_type": "code",
   "execution_count": null,
   "id": "1ec445ae",
   "metadata": {},
   "outputs": [],
   "source": [
    "# vamos a modificar el valor nullo por el valor medio\n",
    "# calcular la edad media x cada una de las categorias (1ra,2da,y 3ra clase)\n",
    "\"\"\"la linea que divide la caja representa el valor medio\n",
    "38 clase 1, 30 clase 2, 25 clase 3\"\"\"\n",
    "sns.boxplot(x=\"Pclass\", y=\"Age\", data=entrenamiento)"
   ]
  },
  {
   "cell_type": "code",
   "execution_count": null,
   "id": "fcc9a32c",
   "metadata": {},
   "outputs": [],
   "source": [
    "#rellenar valore nulos con la media de los valores\n",
    "def calcular_edad_media(columnas):\n",
    "    edad= columnas[0]\n",
    "    clase=columnas[1]\n",
    "    if pd.isnull(edad):\n",
    "        if clase == 1:\n",
    "            return 38\n",
    "        elif clase == 2:\n",
    "            return 30\n",
    "        else:\n",
    "            return 25\n",
    "    else:\n",
    "        return edad\n",
    "    \n",
    "# Invoco a la función calcular_edad_media \n",
    "entrenamiento[\"Age\"] = entrenamiento[[\"Age\",\"Pclass\"]].apply(calcular_edad_media, axis=1)\n",
    "entrenamiento.head(3)"
   ]
  },
  {
   "cell_type": "code",
   "execution_count": null,
   "id": "6f4016d6",
   "metadata": {},
   "outputs": [],
   "source": [
    "# Borramos la columna Cabin\n",
    "entrenamiento.drop(\"Cabin\",axis=1,inplace=True)"
   ]
  },
  {
   "cell_type": "code",
   "execution_count": null,
   "id": "13b41093",
   "metadata": {},
   "outputs": [],
   "source": [
    "# Visualizamos los datos actuales\n",
    "sns.heatmap(entrenamiento.isnull())"
   ]
  },
  {
   "cell_type": "code",
   "execution_count": null,
   "id": "589aa9a2",
   "metadata": {},
   "outputs": [],
   "source": [
    "#queda asi el dataset, lo q interesa es dejar las columnas numericas\n",
    "# por tanto podemos eliminar columnas alfanumericas Nombre y Ticket\n",
    "entrenamiento.head()"
   ]
  },
  {
   "cell_type": "code",
   "execution_count": null,
   "id": "9a545330",
   "metadata": {},
   "outputs": [],
   "source": [
    "entrenamiento.drop([\"Name\",\"Ticket\",\"PassengerId\"],axis=1,inplace=True)\n",
    "entrenamiento.head(3)"
   ]
  },
  {
   "cell_type": "code",
   "execution_count": null,
   "id": "1069d776",
   "metadata": {},
   "outputs": [],
   "source": []
  },
  {
   "cell_type": "code",
   "execution_count": null,
   "id": "40374d77",
   "metadata": {},
   "outputs": [],
   "source": [
    "\"\"\"sexo es alfanumerica sin embargo podria ser importante,\n",
    "por tanto la convertimos en numerica con getdummiers hombre = 1 , mujer = 0\n",
    "lo que era 1 columas ahora son dos donde o es 1 o es 0\"\"\"\n",
    "pd.get_dummies(entrenamiento[\"Sex\"])"
   ]
  },
  {
   "cell_type": "code",
   "execution_count": null,
   "id": "9c7f1a00",
   "metadata": {},
   "outputs": [],
   "source": [
    "\"\"\"basta con mostrar una columna\"\"\"\n",
    "sexo = pd.get_dummies(entrenamiento[\"Sex\"], drop_first=True)\n",
    "sexo.head(3)"
   ]
  },
  {
   "cell_type": "code",
   "execution_count": null,
   "id": "cc35479f",
   "metadata": {},
   "outputs": [],
   "source": [
    "#se añade al dataset y borro la que ya no hace falta\n",
    "entrenamiento = pd.concat([entrenamiento,sexo],axis=1)\n",
    "entrenamiento.head(3)"
   ]
  },
  {
   "cell_type": "code",
   "execution_count": null,
   "id": "bc06fbf5",
   "metadata": {},
   "outputs": [],
   "source": [
    "entrenamiento.drop(\"Sex\",axis=1,inplace=True)\n",
    "entrenamiento.head(3)"
   ]
  },
  {
   "cell_type": "code",
   "execution_count": null,
   "id": "9a403bcb",
   "metadata": {},
   "outputs": [],
   "source": [
    "#Cambiamos los valores alfanumericos en numericos\n",
    "puerto= pd.get_dummies(entrenamiento[\"Embarked\"])\n",
    "puerto.head(3)"
   ]
  },
  {
   "cell_type": "code",
   "execution_count": null,
   "id": "ae4048b3",
   "metadata": {},
   "outputs": [],
   "source": [
    "# es suficiente quedarse con 2 columnas, \n",
    "#si dos son 0 0 qioeres decir que es de al categoria que falta\n",
    "puerto= pd.get_dummies(entrenamiento[\"Embarked\"],drop_first=True)\n",
    "puerto.head(3)"
   ]
  },
  {
   "cell_type": "code",
   "execution_count": null,
   "id": "1cd2e5c6",
   "metadata": {},
   "outputs": [],
   "source": [
    "entrenamiento = pd.concat([entrenamiento,puerto],axis=1)\n",
    "entrenamiento.head(3)"
   ]
  },
  {
   "cell_type": "code",
   "execution_count": null,
   "id": "818e987d",
   "metadata": {},
   "outputs": [],
   "source": [
    "# Elimino Embarked\t\n",
    "entrenamiento.drop(\"Embarked\",axis=1,inplace=True)\n",
    "entrenamiento.head(3)"
   ]
  },
  {
   "cell_type": "code",
   "execution_count": null,
   "id": "dadbe711",
   "metadata": {},
   "outputs": [],
   "source": [
    "entrenamiento=entrenamiento.rename(columns={\"male\":\"Sex\"})\n",
    "entrenamiento.head(3)"
   ]
  },
  {
   "cell_type": "code",
   "execution_count": null,
   "id": "7cb9fbc9",
   "metadata": {},
   "outputs": [],
   "source": [
    "# CONCLUSIÓn el modelo es aceptable.."
   ]
  },
  {
   "cell_type": "code",
   "execution_count": null,
   "id": "48b09f0b",
   "metadata": {},
   "outputs": [],
   "source": [
    "import pickle"
   ]
  },
  {
   "cell_type": "code",
   "execution_count": null,
   "id": "52e37f98",
   "metadata": {},
   "outputs": [],
   "source": [
    "with open(\"modelo_entrenado.pickle\", \"wb\") as file:\n",
    "    pickle.dump(modelo, file)"
   ]
  },
  {
   "cell_type": "code",
   "execution_count": null,
   "id": "1dd8e1e9",
   "metadata": {},
   "outputs": [],
   "source": [
    "with open(\"modelo_entrenado.pickle\", \"rb\") as file:\n",
    "    modelo2 = pickle.load(file)"
   ]
  },
  {
   "cell_type": "code",
   "execution_count": null,
   "id": "bfb394ce",
   "metadata": {},
   "outputs": [],
   "source": [
    "y_pred = modelo2.predict(x_test)\n",
    "print(classification_report(y_test, y_pred))"
   ]
  },
  {
   "cell_type": "code",
   "execution_count": null,
   "id": "21988b85",
   "metadata": {},
   "outputs": [],
   "source": [
    "confusion_matrix(y_test, y_pred)"
   ]
  }
 ],
 "metadata": {
  "kernelspec": {
   "display_name": "Python 3",
   "language": "python",
   "name": "python3"
  },
  "language_info": {
   "codemirror_mode": {
    "name": "ipython",
    "version": 3
   },
   "file_extension": ".py",
   "mimetype": "text/x-python",
   "name": "python",
   "nbconvert_exporter": "python",
   "pygments_lexer": "ipython3",
   "version": "3.7.11"
  }
 },
 "nbformat": 4,
 "nbformat_minor": 5
}
