{
 "cells": [
  {
   "cell_type": "markdown",
   "id": "2077947d",
   "metadata": {},
   "source": [
    "## Vizualización"
   ]
  },
  {
   "cell_type": "code",
   "execution_count": null,
   "id": "83b26014",
   "metadata": {},
   "outputs": [],
   "source": [
    "import pandas as pd\n",
    "import numpy as np"
   ]
  },
  {
   "cell_type": "code",
   "execution_count": null,
   "id": "1f359df8",
   "metadata": {},
   "outputs": [],
   "source": [
    "df = pd.DataFrame(np.random.randint(100, size=(20,4)), columns=[\"a\",\"b\",\"c\",\"d\"])"
   ]
  },
  {
   "cell_type": "code",
   "execution_count": null,
   "id": "8231c667",
   "metadata": {},
   "outputs": [],
   "source": [
    "df[\"a\"].hist() \n",
    "# Histogramas"
   ]
  },
  {
   "cell_type": "code",
   "execution_count": null,
   "id": "aa7df60b",
   "metadata": {},
   "outputs": [],
   "source": [
    "df.plot.bar()\n",
    "# Representacion de datos categoricos"
   ]
  },
  {
   "cell_type": "code",
   "execution_count": null,
   "id": "074b9a1f",
   "metadata": {},
   "outputs": [],
   "source": [
    "df.plot.bar(stacked=True)\n",
    "# Representacion de datos categoricos"
   ]
  },
  {
   "cell_type": "code",
   "execution_count": null,
   "id": "29504965",
   "metadata": {},
   "outputs": [],
   "source": [
    "df.plot.scatter(x=\"a\", y=\"b\") \n",
    "# Gráficos de dispersión"
   ]
  },
  {
   "cell_type": "code",
   "execution_count": null,
   "id": "7b689dfd",
   "metadata": {},
   "outputs": [],
   "source": [
    "df.plot.scatter(x=\"a\", y=\"b\", c=\"c\",cmap=\"coolwarm\")\n",
    "# Gráficos de dispersión en base a escala de color"
   ]
  },
  {
   "cell_type": "code",
   "execution_count": null,
   "id": "b49cc632",
   "metadata": {},
   "outputs": [],
   "source": [
    "df.plot.box()\n",
    "# Diagrama de caja"
   ]
  },
  {
   "cell_type": "code",
   "execution_count": null,
   "id": "b05b7f4c",
   "metadata": {},
   "outputs": [],
   "source": [
    "df.plot.kde()\n",
    "# Diagrama de densidad"
   ]
  },
  {
   "cell_type": "code",
   "execution_count": null,
   "id": "cfc123fb",
   "metadata": {},
   "outputs": [],
   "source": []
  },
  {
   "cell_type": "code",
   "execution_count": null,
   "id": "0d3cc241",
   "metadata": {},
   "outputs": [],
   "source": []
  },
  {
   "cell_type": "code",
   "execution_count": null,
   "id": "c7e10ccf",
   "metadata": {},
   "outputs": [],
   "source": [
    "#!pip istall matplotlib\n",
    "import matplotlib.pyplot as plt"
   ]
  },
  {
   "cell_type": "code",
   "execution_count": null,
   "id": "ef7429f2",
   "metadata": {},
   "outputs": [],
   "source": [
    "x = np.linspace(2,9,10)\n",
    "y = x**2"
   ]
  },
  {
   "cell_type": "code",
   "execution_count": null,
   "id": "f5700763",
   "metadata": {},
   "outputs": [],
   "source": [
    "plt.plot(x,y,\"blue\", linewidth=10, alpha=0.3)\n",
    "plt.title('Ejemplo de gráficos', size=14)\n",
    "plt.xlabel(\"Eje de la X\")\n",
    "plt.ylabel(\"Eje de la Y\")"
   ]
  },
  {
   "cell_type": "code",
   "execution_count": null,
   "id": "bb29790d",
   "metadata": {},
   "outputs": [],
   "source": [
    "\n",
    "figura, graficos= plt.subplots(nrows=2, ncols=2, figsize = (10, 5))\n",
    "figura.suptitle('Ejemplo de gráficos', size=14)\n",
    "\n",
    "graficos[0][0].plot(x,y,\"blue\", linewidth=10, alpha=0.3)\n",
    "graficos[0][1].plot(x,y,\"red\", linestyle=\"-.\") \n",
    "graficos[1][0].plot(x,y,\"black\", marker=\"s\", markersize=5) \n",
    "graficos[1][1].plot(x,y,\"green\")\n",
    "\n",
    "graficos[0][0].set_title(\"Azul\")\n",
    "graficos[0][1].set_title(\"Rojo\")\n",
    "graficos[1][0].set_title(\"Negro\")\n",
    "graficos[1][1].set_title(\"Verde\")\n"
   ]
  },
  {
   "cell_type": "code",
   "execution_count": null,
   "id": "f1496010",
   "metadata": {},
   "outputs": [],
   "source": [
    "import matplotlib.pyplot as plt\n",
    "import numpy as np\n",
    "\n",
    "figure = plt.figure(figsize = (10, 5))\n",
    "\n",
    "colores = [\"blue\",\"green\",\"red\",\"cyan\",\"magenta\",\"yellow\",\"purple\"]\n",
    "\n",
    "for i in range(1,5): #numero de graficas 4\n",
    "    x = np.linspace(2,9,10)\n",
    "    y = x**2\n",
    "    figure.tight_layout()#defino el acomodo de la graficas\n",
    "    ax = plt.subplot(2,2,i) # acomodo de 2 filas 2 columnas\n",
    "    ax.plot(x,y,color=colores[i])# grafico ax   \n",
    "    ax.set_title(\"Gráfica \" + str(i)) \n",
    "    ax.set_xlabel(\"Eje de las X\")\n",
    "    ax.set_ylabel(\"Eje de las Y\")\n",
    "    \n",
    "    "
   ]
  },
  {
   "cell_type": "markdown",
   "id": "a177e3ca",
   "metadata": {},
   "source": [
    "## Ejemplo con Databse en linea "
   ]
  },
  {
   "cell_type": "code",
   "execution_count": null,
   "id": "132b00f0",
   "metadata": {},
   "outputs": [],
   "source": [
    "#!pip istall seaborn\n",
    "import seaborn as sns\n",
    "propinas = sns.load_dataset(\"tips\")"
   ]
  },
  {
   "cell_type": "code",
   "execution_count": null,
   "id": "72ff8289",
   "metadata": {},
   "outputs": [],
   "source": [
    "propinas"
   ]
  },
  {
   "cell_type": "code",
   "execution_count": null,
   "id": "c66f40ed",
   "metadata": {},
   "outputs": [],
   "source": [
    "sns.lmplot(data=propinas,x=\"total_bill\", y=\"tip\")"
   ]
  },
  {
   "cell_type": "code",
   "execution_count": null,
   "id": "ca147afd",
   "metadata": {},
   "outputs": [],
   "source": [
    "sns.lmplot(data=propinas,x=\"total_bill\", y=\"tip\", hue=\"sex\")"
   ]
  },
  {
   "cell_type": "code",
   "execution_count": null,
   "id": "c6e20d91",
   "metadata": {},
   "outputs": [],
   "source": [
    "sns.lmplot(data=propinas,x=\"total_bill\", y=\"tip\", hue=\"sex\", markers=[\"s\",\"v\"], scatter_kws={\"s\":90})"
   ]
  },
  {
   "cell_type": "code",
   "execution_count": null,
   "id": "72885579",
   "metadata": {},
   "outputs": [],
   "source": [
    "sns.lmplot(data=propinas,x=\"total_bill\", y=\"tip\", hue=\"day\")"
   ]
  },
  {
   "cell_type": "code",
   "execution_count": null,
   "id": "fdd63891",
   "metadata": {},
   "outputs": [],
   "source": [
    "sns.lmplot(data=propinas,x=\"total_bill\", y=\"tip\", col=\"day\")"
   ]
  },
  {
   "cell_type": "code",
   "execution_count": null,
   "id": "9727959e",
   "metadata": {},
   "outputs": [],
   "source": [
    "sns.lmplot(data=propinas,x=\"total_bill\", y=\"tip\", col=\"day\",hue=\"sex\")"
   ]
  },
  {
   "cell_type": "code",
   "execution_count": null,
   "id": "9664c386",
   "metadata": {},
   "outputs": [],
   "source": [
    "colores=[\"purple\",\"yellow\"]\n",
    "sns.countplot(data=propinas,x=\"sex\", palette= colores)"
   ]
  },
  {
   "cell_type": "code",
   "execution_count": null,
   "id": "d24ca1b4",
   "metadata": {},
   "outputs": [],
   "source": []
  }
 ],
 "metadata": {
  "kernelspec": {
   "display_name": "Python 3",
   "language": "python",
   "name": "python3"
  },
  "language_info": {
   "codemirror_mode": {
    "name": "ipython",
    "version": 3
   },
   "file_extension": ".py",
   "mimetype": "text/x-python",
   "name": "python",
   "nbconvert_exporter": "python",
   "pygments_lexer": "ipython3",
   "version": "3.9.7"
  }
 },
 "nbformat": 4,
 "nbformat_minor": 5
}
