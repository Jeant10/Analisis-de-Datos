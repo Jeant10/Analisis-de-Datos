{
 "cells": [
  {
   "cell_type": "code",
   "execution_count": 1,
   "id": "b9e80038",
   "metadata": {},
   "outputs": [],
   "source": [
    "import pandas as pd\n",
    "import numpy as np\n",
    "import matplotlib.pyplot as plt\n",
    "import matplotlib.ticker as ticker # para vosualización de intervalos\n",
    "import seaborn as sns"
   ]
  },
  {
   "cell_type": "code",
   "execution_count": 2,
   "id": "59a91372",
   "metadata": {},
   "outputs": [],
   "source": [
    "#pwd # para saber en q directorio estamos\n",
    "#cd .. # retrocedo un folder\n",
    "#cd Documents # ingreso a Documents\n",
    "#ls # muestro el contenido del folder"
   ]
  },
  {
   "cell_type": "markdown",
   "id": "7edefdca",
   "metadata": {},
   "source": [
    "### 1. Obtención de datos"
   ]
  },
  {
   "cell_type": "code",
   "execution_count": 3,
   "id": "a8e824cb",
   "metadata": {},
   "outputs": [],
   "source": [
    "casas = pd.read_csv(\"USA_Housing.csv\") #creo el DataFrame"
   ]
  },
  {
   "cell_type": "code",
   "execution_count": 4,
   "id": "1612a44b",
   "metadata": {},
   "outputs": [
    {
     "data": {
      "text/html": [
       "<div>\n",
       "<style scoped>\n",
       "    .dataframe tbody tr th:only-of-type {\n",
       "        vertical-align: middle;\n",
       "    }\n",
       "\n",
       "    .dataframe tbody tr th {\n",
       "        vertical-align: top;\n",
       "    }\n",
       "\n",
       "    .dataframe thead th {\n",
       "        text-align: right;\n",
       "    }\n",
       "</style>\n",
       "<table border=\"1\" class=\"dataframe\">\n",
       "  <thead>\n",
       "    <tr style=\"text-align: right;\">\n",
       "      <th></th>\n",
       "      <th>Avg. Area Income</th>\n",
       "      <th>Avg. Area House Age</th>\n",
       "      <th>Avg. Area Number of Rooms</th>\n",
       "      <th>Avg. Area Number of Bedrooms</th>\n",
       "      <th>Area Population</th>\n",
       "      <th>Price</th>\n",
       "      <th>Address</th>\n",
       "    </tr>\n",
       "  </thead>\n",
       "  <tbody>\n",
       "    <tr>\n",
       "      <th>0</th>\n",
       "      <td>79545.458574</td>\n",
       "      <td>5.682861</td>\n",
       "      <td>7.009188</td>\n",
       "      <td>4.09</td>\n",
       "      <td>23086.800503</td>\n",
       "      <td>1.059034e+06</td>\n",
       "      <td>208 Michael Ferry Apt. 674\\nLaurabury, NE 3701...</td>\n",
       "    </tr>\n",
       "    <tr>\n",
       "      <th>1</th>\n",
       "      <td>79248.642455</td>\n",
       "      <td>6.002900</td>\n",
       "      <td>6.730821</td>\n",
       "      <td>3.09</td>\n",
       "      <td>40173.072174</td>\n",
       "      <td>1.505891e+06</td>\n",
       "      <td>188 Johnson Views Suite 079\\nLake Kathleen, CA...</td>\n",
       "    </tr>\n",
       "    <tr>\n",
       "      <th>2</th>\n",
       "      <td>61287.067179</td>\n",
       "      <td>5.865890</td>\n",
       "      <td>8.512727</td>\n",
       "      <td>5.13</td>\n",
       "      <td>36882.159400</td>\n",
       "      <td>1.058988e+06</td>\n",
       "      <td>9127 Elizabeth Stravenue\\nDanieltown, WI 06482...</td>\n",
       "    </tr>\n",
       "  </tbody>\n",
       "</table>\n",
       "</div>"
      ],
      "text/plain": [
       "   Avg. Area Income  Avg. Area House Age  Avg. Area Number of Rooms  \\\n",
       "0      79545.458574             5.682861                   7.009188   \n",
       "1      79248.642455             6.002900                   6.730821   \n",
       "2      61287.067179             5.865890                   8.512727   \n",
       "\n",
       "   Avg. Area Number of Bedrooms  Area Population         Price  \\\n",
       "0                          4.09     23086.800503  1.059034e+06   \n",
       "1                          3.09     40173.072174  1.505891e+06   \n",
       "2                          5.13     36882.159400  1.058988e+06   \n",
       "\n",
       "                                             Address  \n",
       "0  208 Michael Ferry Apt. 674\\nLaurabury, NE 3701...  \n",
       "1  188 Johnson Views Suite 079\\nLake Kathleen, CA...  \n",
       "2  9127 Elizabeth Stravenue\\nDanieltown, WI 06482...  "
      ]
     },
     "execution_count": 4,
     "metadata": {},
     "output_type": "execute_result"
    }
   ],
   "source": [
    "casas.head(3) # muestro los 5ros elementos por defecto "
   ]
  },
  {
   "cell_type": "code",
   "execution_count": 5,
   "id": "587d6ac4",
   "metadata": {},
   "outputs": [
    {
     "name": "stdout",
     "output_type": "stream",
     "text": [
      "<class 'pandas.core.frame.DataFrame'>\n",
      "RangeIndex: 5000 entries, 0 to 4999\n",
      "Data columns (total 7 columns):\n",
      " #   Column                        Non-Null Count  Dtype  \n",
      "---  ------                        --------------  -----  \n",
      " 0   Avg. Area Income              5000 non-null   float64\n",
      " 1   Avg. Area House Age           5000 non-null   float64\n",
      " 2   Avg. Area Number of Rooms     5000 non-null   float64\n",
      " 3   Avg. Area Number of Bedrooms  5000 non-null   float64\n",
      " 4   Area Population               5000 non-null   float64\n",
      " 5   Price                         5000 non-null   float64\n",
      " 6   Address                       5000 non-null   object \n",
      "dtypes: float64(6), object(1)\n",
      "memory usage: 273.6+ KB\n"
     ]
    }
   ],
   "source": [
    "casas.info()\n",
    "#casas['Price'] # devuelve una columna "
   ]
  },
  {
   "cell_type": "code",
   "execution_count": null,
   "id": "705e37ea",
   "metadata": {},
   "outputs": [],
   "source": [
    "casas.describe()"
   ]
  },
  {
   "cell_type": "code",
   "execution_count": null,
   "id": "07f9a550",
   "metadata": {},
   "outputs": [],
   "source": [
    "#Distribución del precio\n",
    "#sns.displot(casas['Price']) #cuadraditos\n",
    "\"\"\"con casas.describe()  vimos que el precio medio es 1.232073, el maximo 2,5 y el minimo en 1,6\n",
    "la curva correcponde a distribucion normal--> La distribución tiene la forma de una campana\n",
    "y la mayor parte del área de esta campana se encuentra donde la media (mediana y moda).\n",
    "El área debajo de la campana es de 1, y se divide por 0.5 a la izquierda y 0.5 a la derecha de la media.\"\"\"\n",
    "\n",
    "sns.distplot(casas['Price'])"
   ]
  },
  {
   "cell_type": "markdown",
   "id": "4c3e2047",
   "metadata": {},
   "source": [
    "### 2. Limpieza de datos\n"
   ]
  },
  {
   "cell_type": "code",
   "execution_count": null,
   "id": "a06e95b5",
   "metadata": {},
   "outputs": [],
   "source": [
    "\"\"\" Veo la correlacion entre las columnas lo que mas influye en el precio es 0,64\n",
    "se toma en cuenta el minimo, maximo \"\"\"\n",
    "sns.heatmap(casas.corr(), annot=True)"
   ]
  },
  {
   "cell_type": "code",
   "execution_count": null,
   "id": "a850a71f",
   "metadata": {},
   "outputs": [],
   "source": [
    "# Dimensiones del dataset\n",
    "casas.shape"
   ]
  },
  {
   "cell_type": "code",
   "execution_count": null,
   "id": "4f8b3fdc",
   "metadata": {},
   "outputs": [],
   "source": [
    "# Número de datos ausentes por variable\n",
    "\"\"\"Los valores ausentes son muy importantes a la hora de crear modelos, \n",
    "la mayoría de algoritmos no aceptan observaciones incompletas o bien se \n",
    "ven muy influenciados por ellas. Aunque la imputación de valores ausentes \n",
    "es parte del preprocesado y, por lo tanto, debe de aprenderse únicamente \n",
    "con los datos de entrenamiento, su identificación se tiene que realizar \n",
    "antes de separar los datos para asegurar que se establecen todas las \n",
    "estrategias de imputación necesarias.\"\"\"\n",
    "casas.isna().sum().sort_values()"
   ]
  },
  {
   "cell_type": "code",
   "execution_count": null,
   "id": "cf4bbc5f",
   "metadata": {},
   "outputs": [],
   "source": [
    "# Gráfico de distribución para cada variable numérica\n",
    "# para conocer las características definitivas\n",
    "\"\"\"Explicar que se excluye la etiqueta \"\"\"\n",
    "\n",
    "fig, axes = plt.subplots(nrows=3, ncols=2, figsize=(10, 10))\n",
    "axes = axes.flat\n",
    "columnas_numeric = casas.select_dtypes(include=['float64', 'int']).columns\n",
    "columnas_numeric = columnas_numeric.drop('Price')\n",
    "\n",
    "for i, colum in enumerate(columnas_numeric):\n",
    "    sns.histplot(\n",
    "        data    = casas,\n",
    "        x       = colum,\n",
    "        stat    = \"count\",\n",
    "        kde     = True,\n",
    "        color   = (list(plt.rcParams['axes.prop_cycle'])*2)[i][\"color\"],\n",
    "        line_kws= {'linewidth': 2},\n",
    "        alpha   = 0.3,\n",
    "        ax      = axes[i]\n",
    "    )\n",
    "    axes[i].set_title(colum, fontsize = 7, fontweight = \"bold\")\n",
    "    axes[i].tick_params(labelsize = 5)\n",
    "    axes[i].set_xlabel(\"\")\n",
    "    \n",
    "# Se eliminan los axes vacíos\n",
    "for i in [5]:\n",
    "    fig.delaxes(axes[i])    \n",
    "    \n",
    "fig.tight_layout()\n",
    "plt.subplots_adjust(top = 0.9)\n",
    "fig.suptitle('Distribución variables numéricas', fontsize = 10, fontweight = \"bold\");"
   ]
  },
  {
   "cell_type": "code",
   "execution_count": null,
   "id": "11e78f21",
   "metadata": {},
   "outputs": [],
   "source": [
    "# como parte de la limpieza de datos es modificarlos de modo q se pueda acceder a ellos\n",
    "casas.columns "
   ]
  },
  {
   "cell_type": "code",
   "execution_count": null,
   "id": "d1de8b10",
   "metadata": {},
   "outputs": [],
   "source": [
    "# Valores observados de Bedrooms\n",
    "#casas.Avg. Area Number of Bedrooms.value_counts() \n",
    "\"\"\"no es posible necesito renombrar\"\"\""
   ]
  },
  {
   "cell_type": "code",
   "execution_count": null,
   "id": "7bfe27c3",
   "metadata": {},
   "outputs": [],
   "source": [
    "casas=casas.rename(columns={'Avg. Area Income':'Income', 'Avg. Area House Age':'HouseAge', 'Avg. Area Number of Rooms':'Rooms',\n",
    "       'Avg. Area Number of Bedrooms':'Bedrooms', 'Area Population':'Population'})"
   ]
  },
  {
   "cell_type": "code",
   "execution_count": null,
   "id": "07a7c655",
   "metadata": {},
   "outputs": [],
   "source": [
    "# Se convierte la variable Bedrooms tipo string\n",
    "casas.Bedrooms = casas.Bedrooms.astype(\"str\")\n",
    "\"\"\"luego realizar un modelo que incluya este dato\"\"\""
   ]
  },
  {
   "cell_type": "code",
   "execution_count": null,
   "id": "08d36c95",
   "metadata": {},
   "outputs": [],
   "source": [
    "casas.select_dtypes(include=['float64', 'int']).describe()"
   ]
  },
  {
   "cell_type": "code",
   "execution_count": null,
   "id": "7bb3d093",
   "metadata": {},
   "outputs": [],
   "source": [
    "\"\"\"Como el objetivo del estudio es predecir el precio de las viviendas, \n",
    "el análisis de cada variable se hace también en relación a la variable respuesta precio.\n",
    "Analizando los datos de esta forma, se pueden empezar a extraer ideas sobre qué\n",
    "variables están más relacionadas con el precio y de qué forma.\"\"\"\n",
    "\n",
    "# Gráfico de distribución para cada variable numérica\n",
    "# ==============================================================================\n",
    "# Ajustar número de subplots en función del número de columnas\n",
    "fig, axes = plt.subplots(nrows=2, ncols=2, figsize=(10, 10))\n",
    "axes = axes.flat\n",
    "columnas_numeric = casas.select_dtypes(include=['float64', 'int']).columns\n",
    "columnas_numeric = columnas_numeric.drop('Price')\n",
    "\n",
    "for i, colum in enumerate(columnas_numeric):\n",
    "    sns.regplot(\n",
    "        x           = casas[colum],\n",
    "        y           = casas['Price'],\n",
    "        color       = \"gray\",\n",
    "        marker      = '.',\n",
    "        scatter_kws = {\"alpha\":0.4},\n",
    "        line_kws    = {\"color\":\"r\",\"alpha\":0.7},\n",
    "        ax          = axes[i]\n",
    "    )\n",
    "    axes[i].set_title(f\"precio vs {colum}\", fontsize = 7, fontweight = \"bold\")\n",
    "    axes[i].yaxis.set_major_formatter(ticker.EngFormatter())\n",
    "    axes[i].xaxis.set_major_formatter(ticker.EngFormatter())\n",
    "    axes[i].tick_params(labelsize = 4)\n",
    "    axes[i].set_xlabel(\"\")\n",
    "    axes[i].set_ylabel(\"\")\n",
    "\n",
    "    \n",
    "fig.tight_layout()\n",
    "plt.subplots_adjust(top=0.9)\n",
    "fig.suptitle('Correlación con precio', fontsize = 10, fontweight = \"bold\");\n"
   ]
  },
  {
   "cell_type": "code",
   "execution_count": null,
   "id": "53985dea",
   "metadata": {},
   "outputs": [],
   "source": [
    "# Variables cualitativas (tipo object)\n",
    "casas.select_dtypes(include=['object']).describe()"
   ]
  },
  {
   "cell_type": "code",
   "execution_count": null,
   "id": "cebae50c",
   "metadata": {},
   "outputs": [],
   "source": [
    "casas.head(3)"
   ]
  },
  {
   "cell_type": "code",
   "execution_count": null,
   "id": "530b22d2",
   "metadata": {},
   "outputs": [],
   "source": [
    "cols = [col for col in casas if col != casas.columns[-4]] + [casas.columns[-4]] \n",
    "casas = casas[cols]\n",
    "casas.head(3)"
   ]
  },
  {
   "cell_type": "code",
   "execution_count": null,
   "id": "b1b39d68",
   "metadata": {},
   "outputs": [],
   "source": [
    "# Acomodar la data tambien es una opcion\n",
    "\n",
    "# Cambiar el orden de las columnas\n",
    "cols = [col for col in casas if col != casas.columns[-2]] + [casas.columns[-2]] \n",
    "casas = casas[cols]\n",
    "casas.head()"
   ]
  },
  {
   "cell_type": "code",
   "execution_count": null,
   "id": "26b1e48a",
   "metadata": {},
   "outputs": [],
   "source": []
  },
  {
   "cell_type": "code",
   "execution_count": null,
   "id": "11d99ce1",
   "metadata": {},
   "outputs": [],
   "source": []
  }
 ],
 "metadata": {
  "kernelspec": {
   "display_name": "Python 3",
   "language": "python",
   "name": "python3"
  },
  "language_info": {
   "codemirror_mode": {
    "name": "ipython",
    "version": 3
   },
   "file_extension": ".py",
   "mimetype": "text/x-python",
   "name": "python",
   "nbconvert_exporter": "python",
   "pygments_lexer": "ipython3",
   "version": "3.7.11"
  }
 },
 "nbformat": 4,
 "nbformat_minor": 5
}
