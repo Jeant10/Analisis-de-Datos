{
 "cells": [
  {
   "cell_type": "code",
   "execution_count": null,
   "id": "ec446755",
   "metadata": {},
   "outputs": [],
   "source": [
    "!pip install sqlalchemy"
   ]
  },
  {
   "cell_type": "code",
   "execution_count": 1,
   "id": "01e06a5b",
   "metadata": {},
   "outputs": [],
   "source": [
    "import pandas as pd\n",
    "from sqlalchemy import create_engine\n",
    "import sqlite3"
   ]
  },
  {
   "cell_type": "code",
   "execution_count": null,
   "id": "f716cb9b",
   "metadata": {},
   "outputs": [],
   "source": [
    "diccionario = {'A':[2,4,5,6],'B':[4,3,5,6],'C':[7,3,4,6]}\n",
    "df_dict = pd.DataFrame(diccionario)"
   ]
  },
  {
   "cell_type": "code",
   "execution_count": null,
   "id": "f7d2d2d5",
   "metadata": {},
   "outputs": [],
   "source": [
    "# Crea en memoria un motor de BDD para grabar el df en la tabla\n",
    "bdd = create_engine('sqlite:///:memory:') # ocultar dato quitar echo\n",
    "df_dict.to_sql('tabla',bdd, index = False)\n",
    "\n"
   ]
  },
  {
   "cell_type": "code",
   "execution_count": null,
   "id": "2b14013d",
   "metadata": {},
   "outputs": [],
   "source": [
    "# Lee los datos almacenados temporalmente\n",
    "datos_bdd = pd.read_sql('tabla', con=bdd)\n",
    "datos_bdd"
   ]
  },
  {
   "cell_type": "code",
   "execution_count": null,
   "id": "c76583a9",
   "metadata": {},
   "outputs": [],
   "source": [
    "# Consultas SQL\n",
    "# bdd.execute(\"SELECT * FROM tabla\").fetchall() # trae los registros\n",
    "bdd.execute(\"SELECT * FROM tabla WHERE B = 6 and A = 2\").fetchall()"
   ]
  },
  {
   "cell_type": "markdown",
   "id": "05ab1213",
   "metadata": {},
   "source": [
    "# Sqlite3"
   ]
  },
  {
   "cell_type": "code",
   "execution_count": null,
   "id": "4bb187fb",
   "metadata": {},
   "outputs": [],
   "source": [
    "!pip install pysqlite3"
   ]
  },
  {
   "cell_type": "code",
   "execution_count": 1,
   "id": "aeb04030",
   "metadata": {},
   "outputs": [],
   "source": [
    "import pandas as pd\n",
    "from sqlalchemy import create_engine"
   ]
  },
  {
   "cell_type": "code",
   "execution_count": 2,
   "id": "69acb24b",
   "metadata": {},
   "outputs": [],
   "source": [
    "import sqlite3\n",
    "con = sqlite3.connect(\"database.db\")\n"
   ]
  },
  {
   "cell_type": "code",
   "execution_count": 3,
   "id": "b936deff",
   "metadata": {},
   "outputs": [
    {
     "data": {
      "text/html": [
       "<div>\n",
       "<style scoped>\n",
       "    .dataframe tbody tr th:only-of-type {\n",
       "        vertical-align: middle;\n",
       "    }\n",
       "\n",
       "    .dataframe tbody tr th {\n",
       "        vertical-align: top;\n",
       "    }\n",
       "\n",
       "    .dataframe thead th {\n",
       "        text-align: right;\n",
       "    }\n",
       "</style>\n",
       "<table border=\"1\" class=\"dataframe\">\n",
       "  <thead>\n",
       "    <tr style=\"text-align: right;\">\n",
       "      <th></th>\n",
       "      <th>index</th>\n",
       "      <th>apples</th>\n",
       "      <th>oranges</th>\n",
       "    </tr>\n",
       "  </thead>\n",
       "  <tbody>\n",
       "    <tr>\n",
       "      <th>0</th>\n",
       "      <td>Rosita</td>\n",
       "      <td>5</td>\n",
       "      <td>5</td>\n",
       "    </tr>\n",
       "    <tr>\n",
       "      <th>1</th>\n",
       "      <td>Hugo</td>\n",
       "      <td>6</td>\n",
       "      <td>7</td>\n",
       "    </tr>\n",
       "    <tr>\n",
       "      <th>2</th>\n",
       "      <td>Paco</td>\n",
       "      <td>8</td>\n",
       "      <td>4</td>\n",
       "    </tr>\n",
       "    <tr>\n",
       "      <th>3</th>\n",
       "      <td>Luis</td>\n",
       "      <td>3</td>\n",
       "      <td>9</td>\n",
       "    </tr>\n",
       "  </tbody>\n",
       "</table>\n",
       "</div>"
      ],
      "text/plain": [
       "    index  apples  oranges\n",
       "0  Rosita       5        5\n",
       "1    Hugo       6        7\n",
       "2    Paco       8        4\n",
       "3    Luis       3        9"
      ]
     },
     "execution_count": 3,
     "metadata": {},
     "output_type": "execute_result"
    }
   ],
   "source": [
    "consulta = pd.read_sql_query(\"SELECT * FROM compras\", con)\n",
    "consulta"
   ]
  },
  {
   "cell_type": "code",
   "execution_count": 4,
   "id": "43457f45",
   "metadata": {},
   "outputs": [
    {
     "data": {
      "text/html": [
       "<div>\n",
       "<style scoped>\n",
       "    .dataframe tbody tr th:only-of-type {\n",
       "        vertical-align: middle;\n",
       "    }\n",
       "\n",
       "    .dataframe tbody tr th {\n",
       "        vertical-align: top;\n",
       "    }\n",
       "\n",
       "    .dataframe thead th {\n",
       "        text-align: right;\n",
       "    }\n",
       "</style>\n",
       "<table border=\"1\" class=\"dataframe\">\n",
       "  <thead>\n",
       "    <tr style=\"text-align: right;\">\n",
       "      <th></th>\n",
       "      <th>apples</th>\n",
       "      <th>oranges</th>\n",
       "    </tr>\n",
       "    <tr>\n",
       "      <th>index</th>\n",
       "      <th></th>\n",
       "      <th></th>\n",
       "    </tr>\n",
       "  </thead>\n",
       "  <tbody>\n",
       "    <tr>\n",
       "      <th>Rosita</th>\n",
       "      <td>5</td>\n",
       "      <td>5</td>\n",
       "    </tr>\n",
       "    <tr>\n",
       "      <th>Hugo</th>\n",
       "      <td>6</td>\n",
       "      <td>7</td>\n",
       "    </tr>\n",
       "    <tr>\n",
       "      <th>Paco</th>\n",
       "      <td>8</td>\n",
       "      <td>4</td>\n",
       "    </tr>\n",
       "    <tr>\n",
       "      <th>Luis</th>\n",
       "      <td>3</td>\n",
       "      <td>9</td>\n",
       "    </tr>\n",
       "  </tbody>\n",
       "</table>\n",
       "</div>"
      ],
      "text/plain": [
       "        apples  oranges\n",
       "index                  \n",
       "Rosita       5        5\n",
       "Hugo         6        7\n",
       "Paco         8        4\n",
       "Luis         3        9"
      ]
     },
     "execution_count": 4,
     "metadata": {},
     "output_type": "execute_result"
    }
   ],
   "source": [
    "# definir el indice\n",
    "consultaIndex = consulta.set_index('index')\n",
    "consultaIndex"
   ]
  },
  {
   "cell_type": "markdown",
   "id": "0d112caa",
   "metadata": {},
   "source": [
    "# Crear BDD"
   ]
  },
  {
   "cell_type": "code",
   "execution_count": 4,
   "id": "e09ea1da",
   "metadata": {},
   "outputs": [
    {
     "name": "stdout",
     "output_type": "stream",
     "text": [
      "Se ha creado la tabla productos!!\n",
      "Se ha creado la tabla catalogo!!\n"
     ]
    }
   ],
   "source": [
    "conexion = sqlite3.connect(\"repasando_bdd.db\")\n",
    "\n",
    "try:\n",
    "    conexion.execute(\"\"\"CREATE TABLE productos(\n",
    "                    id_producto integer primary key autoincrement,\n",
    "                    descripcion text,\n",
    "                    cantidad integer,\n",
    "                    precio real\n",
    "                    )\"\"\")\n",
    "    print(\"Se ha creado la tabla productos!!\")\n",
    "    \n",
    "except sqlite3.OperationalError:\n",
    "    print(\"Conflicto en crear la tabla productos\")\n",
    "    \n",
    "    \n",
    "try:\n",
    "    conexion.execute(\"\"\"CREATE TABLE catalogo(\n",
    "                    codigo text primary key,\n",
    "                    idProducto,\n",
    "                    detalle text,\n",
    "                    foreign key(idProducto) references productos(id_producto)\n",
    "                    )\"\"\")\n",
    "    print(\"Se ha creado la tabla catalogo!!\")\n",
    "    \n",
    "except sqlite3.OperationalError:\n",
    "    print(\"Conflicto en crear la tabla catalogo\")\n",
    "    \n",
    "conexion.close()"
   ]
  },
  {
   "cell_type": "code",
   "execution_count": 6,
   "id": "757a2a43",
   "metadata": {},
   "outputs": [],
   "source": [
    "conexion = sqlite3.connect(\"repasando_bdd.db\")\n",
    "conexion.execute(\"INSERT INTO productos(descripcion,cantidad,precio) VALUES(?,?,?)\", (\"chompas\",5,68.55))\n",
    "conexion.execute(\"INSERT INTO productos(descripcion,cantidad,precio) VALUES(?,?,?)\", (\"pantalones\",15,18.75))\n",
    "conexion.commit() # insert, update, delete\n",
    "conexion.close()\n"
   ]
  },
  {
   "cell_type": "code",
   "execution_count": 7,
   "id": "e1339230",
   "metadata": {},
   "outputs": [
    {
     "name": "stdout",
     "output_type": "stream",
     "text": [
      "(1, 'chompas', 5, 68.55)\n",
      "(2, 'pantalones', 15, 18.75)\n"
     ]
    }
   ],
   "source": [
    "conexion = sqlite3.connect(\"repasando_bdd.db\")\n",
    "consulta = conexion.execute(\"SELECT * FROM productos\")\n",
    "\n",
    "for registro in consulta:\n",
    "    print(registro)\n",
    "    \n",
    "# conexion.close()"
   ]
  },
  {
   "cell_type": "code",
   "execution_count": 8,
   "id": "f289512b",
   "metadata": {},
   "outputs": [
    {
     "name": "stdout",
     "output_type": "stream",
     "text": [
      "Ingrese el ID del producto a consultar: 2\n",
      "('pantalones', 15)\n"
     ]
    }
   ],
   "source": [
    "idProducto = int(input(\"Ingrese el ID del producto a consultar: \"))\n",
    "consultarID = conexion.execute(\"SELECT descripcion, cantidad FROM productos WHERE id_producto = ?\",(idProducto, ))\n",
    "datos = consultarID.fetchone()\n",
    "if datos != None:\n",
    "    print(datos)\n",
    "else:\n",
    "    print(\"No existe productos con el ID\")"
   ]
  },
  {
   "cell_type": "code",
   "execution_count": null,
   "id": "5ff0771c",
   "metadata": {},
   "outputs": [],
   "source": [
    "\"\"\"\n",
    "conexion.execute(\"UPDATE productos SET desripcion = 'nuevo_dato' WHERE id_producto = 2\")\n",
    "conexion.execute(\"DELETE FROM productos WHERE id_producto = 2\")\n",
    "\"\"\"\n"
   ]
  },
  {
   "cell_type": "markdown",
   "id": "a31b74f1",
   "metadata": {},
   "source": [
    "# Taller 3"
   ]
  },
  {
   "cell_type": "code",
   "execution_count": 5,
   "id": "e5f7345c",
   "metadata": {},
   "outputs": [
    {
     "name": "stdout",
     "output_type": "stream",
     "text": [
      "Conflicto en crear la tabla proveedores\n",
      "No hay datos que mostrar en la Tabla proveedores\n"
     ]
    }
   ],
   "source": [
    "# 1. Si no hay datos en la tabla, mostrar el mensaje “No hay datos que mostrar en la Tabla XXX”\n",
    "\n",
    "conexion = sqlite3.connect(\"repasando_bdd.db\")\n",
    "\n",
    "try:\n",
    "    conexion.execute(\"\"\"CREATE TABLE proveedores(\n",
    "                    id_proveedor integer primary key autoincrement,\n",
    "                    direccion text,\n",
    "                    celular text,\n",
    "                    nombre text\n",
    "                    )\"\"\")\n",
    "    print(\"Se ha creado la tabla proveedores!!\")\n",
    "    \n",
    "except sqlite3.OperationalError:\n",
    "    \n",
    "    print(\"Conflicto en crear la tabla proveedores\")\n",
    "    \n",
    "\n",
    "consultarTabla = conexion.execute(\"SELECT * FROM proveedores\" )\n",
    "\n",
    "datosTabla = consultarTabla.fetchone()\n",
    "\n",
    "if datosTabla != None:\n",
    "    \n",
    "    print(datosTabla)\n",
    "    \n",
    "else:\n",
    "    print(\"No hay datos que mostrar en la Tabla proveedores\")\n",
    "    \n"
   ]
  },
  {
   "cell_type": "code",
   "execution_count": 6,
   "id": "9e931997",
   "metadata": {},
   "outputs": [
    {
     "name": "stdout",
     "output_type": "stream",
     "text": [
      "(1, 'medias', 55, 3.55)\n",
      "(2, 'ropa interior', 43, 5.67)\n",
      "(3, 'gorras', 14, 10.43)\n",
      "(4, 'camiseta', 66, 6.66)\n",
      "(5, 'jean', 24, 43.21)\n",
      "(6, 'chompa', 4, 50.23)\n",
      "(7, 'cadena', 100, 13.33)\n",
      "(8, 'zapatos', 78, 99.98)\n",
      "(9, 'botas', 44, 78.89)\n",
      "(10, 'pantaloneta', 33, 87.67)\n"
     ]
    }
   ],
   "source": [
    "# 2. Insertar 10 registros a la tabla\n",
    "\n",
    "conexion.execute(\"INSERT INTO productos(descripcion,cantidad,precio) VALUES(?,?,?)\",(\"medias\",55,3.55) )\n",
    "conexion.execute(\"INSERT INTO productos(descripcion,cantidad,precio) VALUES(?,?,?)\",(\"ropa interior\",43,5.67) )\n",
    "conexion.execute(\"INSERT INTO productos(descripcion,cantidad,precio) VALUES(?,?,?)\",(\"gorras\",14,10.43) )\n",
    "conexion.execute(\"INSERT INTO productos(descripcion,cantidad,precio) VALUES(?,?,?)\",(\"camiseta\",66,6.66) )\n",
    "conexion.execute(\"INSERT INTO productos(descripcion,cantidad,precio) VALUES(?,?,?)\",(\"jean\",24,43.21) )\n",
    "conexion.execute(\"INSERT INTO productos(descripcion,cantidad,precio) VALUES(?,?,?)\",(\"chompa\",4,50.23) )\n",
    "conexion.execute(\"INSERT INTO productos(descripcion,cantidad,precio) VALUES(?,?,?)\",(\"cadena\",100,13.33) )\n",
    "conexion.execute(\"INSERT INTO productos(descripcion,cantidad,precio) VALUES(?,?,?)\",(\"zapatos\",78,99.98) )\n",
    "conexion.execute(\"INSERT INTO productos(descripcion,cantidad,precio) VALUES(?,?,?)\",(\"botas\",44,78.89) )\n",
    "conexion.execute(\"INSERT INTO productos(descripcion,cantidad,precio) VALUES(?,?,?)\",(\"pantaloneta\",33,87.67) )\n",
    "\n",
    "\n",
    "conexion.commit() # insert, update, delete\n",
    "\n",
    "consulta = conexion.execute(\"SELECT * FROM productos\")\n",
    "\n",
    "for registro in consulta:\n",
    "    print(registro)\n"
   ]
  },
  {
   "cell_type": "code",
   "execution_count": 7,
   "id": "d5ef6e8c",
   "metadata": {},
   "outputs": [
    {
     "name": "stdout",
     "output_type": "stream",
     "text": [
      "('PD405', 1, 'nuevo')\n",
      "('PD406', 2, 'nuevo')\n",
      "('PD407', 3, 'nuevo')\n",
      "('PD408', 4, 'nuevo')\n",
      "('PD409', 5, 'nuevo')\n",
      "('PD410', 6, 'nuevo')\n",
      "('PD411', 7, 'nuevo')\n",
      "('PD412', 8, 'nuevo')\n",
      "('PD413', 9, 'nuevo')\n",
      "('PD414', 10, 'nuevo')\n",
      "('PD415', 11, 'nuevo')\n",
      "('PD416', 12, 'nuevo')\n"
     ]
    }
   ],
   "source": [
    "# 3. Insertar 12 registros en la tabla catalogo\n",
    "\n",
    "\n",
    "conexion.execute(\"INSERT INTO catalogo(codigo,idProducto, detalle) VALUES(?,?,?)\",(\"PD405\",1,\"nuevo\") )\n",
    "conexion.execute(\"INSERT INTO catalogo(codigo,idProducto, detalle) VALUES(?,?,?)\",(\"PD406\",2,\"nuevo\") )\n",
    "conexion.execute(\"INSERT INTO catalogo(codigo,idProducto, detalle) VALUES(?,?,?)\",(\"PD407\",3,\"nuevo\") )\n",
    "conexion.execute(\"INSERT INTO catalogo(codigo,idProducto, detalle) VALUES(?,?,?)\",(\"PD408\",4,\"nuevo\") )\n",
    "conexion.execute(\"INSERT INTO catalogo(codigo,idProducto, detalle) VALUES(?,?,?)\",(\"PD409\",5,\"nuevo\") )\n",
    "conexion.execute(\"INSERT INTO catalogo(codigo,idProducto, detalle) VALUES(?,?,?)\",(\"PD410\",6,\"nuevo\") )\n",
    "conexion.execute(\"INSERT INTO catalogo(codigo,idProducto, detalle) VALUES(?,?,?)\",(\"PD411\",7,\"nuevo\") )\n",
    "conexion.execute(\"INSERT INTO catalogo(codigo,idProducto, detalle) VALUES(?,?,?)\",(\"PD412\",8,\"nuevo\") )\n",
    "conexion.execute(\"INSERT INTO catalogo(codigo,idProducto, detalle) VALUES(?,?,?)\",(\"PD413\",9,\"nuevo\") )\n",
    "conexion.execute(\"INSERT INTO catalogo(codigo,idProducto, detalle) VALUES(?,?,?)\",(\"PD414\",10,\"nuevo\") )\n",
    "conexion.execute(\"INSERT INTO catalogo(codigo,idProducto, detalle) VALUES(?,?,?)\",(\"PD415\",11,\"nuevo\") )\n",
    "conexion.execute(\"INSERT INTO catalogo(codigo,idProducto, detalle) VALUES(?,?,?)\",(\"PD416\",12,\"nuevo\") )\n",
    "\n",
    "\n",
    "conexion.commit() # insert, update, delete\n",
    "\n",
    "consulta = conexion.execute(\"SELECT * FROM catalogo\")\n",
    "\n",
    "for registro in consulta:\n",
    "    print(registro)"
   ]
  },
  {
   "cell_type": "code",
   "execution_count": 8,
   "id": "86a673e4",
   "metadata": {},
   "outputs": [
    {
     "name": "stdout",
     "output_type": "stream",
     "text": [
      "Ingrese un precio: 42\n",
      "('jean', 43.21)\n",
      "('chompa', 50.23)\n",
      "('zapatos', 99.98)\n",
      "('botas', 78.89)\n",
      "('pantaloneta', 87.67)\n"
     ]
    }
   ],
   "source": [
    "# 4. Consultar los datos del producto cuyo precio sea mayor al ingresado por teclado\n",
    "\n",
    "precio = float(input(\"Ingrese un precio: \"))\n",
    "\n",
    "consultarPrecios = conexion.execute(\"SELECT descripcion, precio FROM productos WHERE precio > ?\",(precio,))\n",
    "\n",
    "for dato in consultarPrecios:\n",
    "    if dato != None:\n",
    "        print(dato)\n",
    "    else:\n",
    "        print(\"No existen precios mayores al que ingreso\")\n",
    "        "
   ]
  },
  {
   "cell_type": "code",
   "execution_count": 9,
   "id": "2eed1932",
   "metadata": {},
   "outputs": [
    {
     "name": "stdout",
     "output_type": "stream",
     "text": [
      "Ingrese el ID del producto a consultar: 2\n",
      "(2, 'ropa interior', 43, 5.67)\n",
      "Ingrese el nombre del producto: Shorts\n",
      "Ingrese la cantidad del producto: 2\n",
      "Ingrese el precio del producto: 20\n",
      "(2, 'Shorts', 2, 20.0)\n"
     ]
    }
   ],
   "source": [
    "# 5. Actualizar un registro de la tabla productos\n",
    "\n",
    "idProducto = int(input(\"Ingrese el ID del producto a consultar: \"))\n",
    "\n",
    "consultarID = conexion.execute(\"SELECT * FROM productos WHERE id_producto = ?\",(idProducto, ))\n",
    "datos = consultarID.fetchone()\n",
    "\n",
    "if datos != None:\n",
    "    \n",
    "    print(datos)\n",
    "    \n",
    "    descripcion = input(\"Ingrese el nombre del producto: \")\n",
    "    cantidad = int(input(\"Ingrese la cantidad del producto: \"))\n",
    "    precio = float(input(\"Ingrese el precio del producto: \"))\n",
    "    \n",
    "    actualizar_Producto = conexion.execute(\"UPDATE productos SET descripcion = ?, cantidad = ?, precio = ?  WHERE id_producto = ?\", (descripcion,cantidad,precio,idProducto ))\n",
    "    conexion.commit() # insert, update, delete\n",
    "    \n",
    "else:\n",
    "    print(\"No existe productos con el ID\")\n",
    "    \n",
    "    \n",
    "consulta = conexion.execute(\"SELECT * FROM productos WHERE id_producto = ?\", (idProducto, ))\n",
    "\n",
    "\n",
    "for registro in consulta:\n",
    "    print(registro)\n"
   ]
  },
  {
   "cell_type": "code",
   "execution_count": 15,
   "id": "047da550",
   "metadata": {},
   "outputs": [
    {
     "name": "stdout",
     "output_type": "stream",
     "text": [
      "Ingrese el codigo del registro a eliminar: PD406\n",
      "('PD407', 3, 'nuevo')\n",
      "('PD408', 4, 'nuevo')\n",
      "('PD409', 5, 'nuevo')\n",
      "('PD410', 6, 'nuevo')\n",
      "('PD411', 7, 'nuevo')\n",
      "('PD412', 8, 'nuevo')\n",
      "('PD413', 9, 'nuevo')\n",
      "('PD414', 10, 'nuevo')\n",
      "('PD415', 11, 'nuevo')\n",
      "('PD416', 12, 'nuevo')\n"
     ]
    }
   ],
   "source": [
    "# 6. Eliminar un registro de la tabla catalogo\n",
    "\n",
    "codigo= input(\"Ingrese el codigo del registro a eliminar: \")\n",
    "\n",
    "conexion.execute(\"DELETE FROM catalogo WHERE codigo = ?\",(codigo, ))\n",
    "conexion.commit() #Insert, update, delete\n",
    "\n",
    "consultar = conexion.execute(\"SELECT * FROM catalogo\")\n",
    "\n",
    "for registro in consultar:\n",
    "    print(registro)\n",
    "    "
   ]
  },
  {
   "cell_type": "code",
   "execution_count": 11,
   "id": "00ed9618",
   "metadata": {},
   "outputs": [
    {
     "name": "stdout",
     "output_type": "stream",
     "text": [
      "(2, 'Shorts', 2, 20.0, 'PD406', 2, 'nuevo')\n",
      "(3, 'gorras', 14, 10.43, 'PD407', 3, 'nuevo')\n",
      "(4, 'camiseta', 66, 6.66, 'PD408', 4, 'nuevo')\n",
      "(5, 'jean', 24, 43.21, 'PD409', 5, 'nuevo')\n",
      "(6, 'chompa', 4, 50.23, 'PD410', 6, 'nuevo')\n",
      "(7, 'cadena', 100, 13.33, 'PD411', 7, 'nuevo')\n",
      "(8, 'zapatos', 78, 99.98, 'PD412', 8, 'nuevo')\n",
      "(9, 'botas', 44, 78.89, 'PD413', 9, 'nuevo')\n",
      "(10, 'pantaloneta', 33, 87.67, 'PD414', 10, 'nuevo')\n"
     ]
    }
   ],
   "source": [
    "# 7. Mostrar a partir de la tabla productos todos los datos de ambas tablas de la BDD\n",
    "\n",
    "conexion = sqlite3.connect(\"repasando_bdd.db\")\n",
    "consultarnueva = conexion.execute(\"SELECT * FROM productos,catalogo WHERE id_producto = idProducto\")\n",
    "\n",
    "for registro in consultarnueva:\n",
    "    print(registro)\n",
    "    "
   ]
  },
  {
   "cell_type": "code",
   "execution_count": 12,
   "id": "c9c78e6d",
   "metadata": {},
   "outputs": [
    {
     "name": "stdout",
     "output_type": "stream",
     "text": [
      "Ingrese el id del producto a consultar 2\n",
      "('Shorts', 20.0, 'nuevo')\n"
     ]
    }
   ],
   "source": [
    "# 8.Mostrar a partir de la tabla productos los campos “ precio y detalle” donde id_producto sea igual al valor ingresado por teclado\n",
    "\n",
    "\n",
    "idProducto = int(input(\"Ingrese el id del producto a consultar \"))\n",
    "\n",
    "\n",
    "consultarId = conexion.execute(\"SELECT descripcion, precio, detalle FROM productos,catalogo WHERE id_producto = idProducto AND id_producto = ?\", (idProducto, ))\n",
    "datos = consultarId.fetchone()\n",
    "\n",
    "\n",
    "if datos != None:\n",
    "    print(datos)\n",
    "else:\n",
    "    print(\"No existe el producto con el Id\")\n"
   ]
  },
  {
   "cell_type": "code",
   "execution_count": 13,
   "id": "110a188e",
   "metadata": {},
   "outputs": [
    {
     "name": "stdout",
     "output_type": "stream",
     "text": [
      "(10, 'pantaloneta', 33, 87.67)\n",
      "(9, 'botas', 44, 78.89)\n",
      "(8, 'zapatos', 78, 99.98)\n",
      "(7, 'cadena', 100, 13.33)\n",
      "(6, 'chompa', 4, 50.23)\n"
     ]
    }
   ],
   "source": [
    "# 9.Mostrar los 5 últimos registros de la tabla producto\n",
    "\n",
    "\n",
    "consultarultimos = conexion.execute(\"SELECT * FROM productos ORDER BY id_producto DESC limit 5\")\n",
    "\n",
    "for registro in consultarultimos:\n",
    "    print(registro)\n"
   ]
  },
  {
   "cell_type": "code",
   "execution_count": 14,
   "id": "dd95e4c8",
   "metadata": {},
   "outputs": [
    {
     "name": "stdout",
     "output_type": "stream",
     "text": [
      "('PD406', 2, 'nuevo')\n",
      "('PD407', 3, 'nuevo')\n",
      "('PD408', 4, 'nuevo')\n",
      "('PD409', 5, 'nuevo')\n",
      "('PD410', 6, 'nuevo')\n",
      "('PD411', 7, 'nuevo')\n",
      "('PD412', 8, 'nuevo')\n"
     ]
    }
   ],
   "source": [
    "# 10.Mostrar los 7 primeros registros de la tabla catalogo\n",
    "\n",
    "consultarprimeros = conexion.execute(\"SELECT * FROM catalogo limit 7\")\n",
    "\n",
    "for registro in consultarprimeros:\n",
    "    print(registro)\n"
   ]
  },
  {
   "cell_type": "code",
   "execution_count": null,
   "id": "e9068efd",
   "metadata": {},
   "outputs": [],
   "source": [
    "conexion.close() "
   ]
  }
 ],
 "metadata": {
  "kernelspec": {
   "display_name": "Python 3 (ipykernel)",
   "language": "python",
   "name": "python3"
  },
  "language_info": {
   "codemirror_mode": {
    "name": "ipython",
    "version": 3
   },
   "file_extension": ".py",
   "mimetype": "text/x-python",
   "name": "python",
   "nbconvert_exporter": "python",
   "pygments_lexer": "ipython3",
   "version": "3.9.12"
  }
 },
 "nbformat": 4,
 "nbformat_minor": 5
}
