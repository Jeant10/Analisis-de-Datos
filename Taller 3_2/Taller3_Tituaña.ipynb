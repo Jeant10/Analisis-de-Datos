{
 "cells": [
  {
   "cell_type": "markdown",
   "id": "c7bd5a92",
   "metadata": {},
   "source": [
    "# TALLER 3"
   ]
  },
  {
   "cell_type": "code",
   "execution_count": 43,
   "id": "a6a6e414",
   "metadata": {},
   "outputs": [
    {
     "ename": "IntegrityError",
     "evalue": "UNIQUE constraint failed: catalogo.codigo",
     "output_type": "error",
     "traceback": [
      "\u001b[1;31m---------------------------------------------------------------------------\u001b[0m",
      "\u001b[1;31mIntegrityError\u001b[0m                            Traceback (most recent call last)",
      "Input \u001b[1;32mIn [43]\u001b[0m, in \u001b[0;36m<cell line: 5>\u001b[1;34m()\u001b[0m\n\u001b[0;32m      3\u001b[0m conexion \u001b[38;5;241m=\u001b[39m sqlite3\u001b[38;5;241m.\u001b[39mconnect(\u001b[38;5;124m\"\u001b[39m\u001b[38;5;124mrepasando_bdd.db\u001b[39m\u001b[38;5;124m\"\u001b[39m)\n\u001b[0;32m      4\u001b[0m conexion\u001b[38;5;241m.\u001b[39mexecute(\u001b[38;5;124m\"\u001b[39m\u001b[38;5;124mINSERT INTO catalogo(codigo,idProducto,detalle) VALUES(?,?,?)\u001b[39m\u001b[38;5;124m\"\u001b[39m,(\u001b[38;5;124m\"\u001b[39m\u001b[38;5;124mPD404\u001b[39m\u001b[38;5;124m\"\u001b[39m,\u001b[38;5;241m2\u001b[39m,\u001b[38;5;124m\"\u001b[39m\u001b[38;5;124mModa\u001b[39m\u001b[38;5;124m\"\u001b[39m))\n\u001b[1;32m----> 5\u001b[0m \u001b[43mconexion\u001b[49m\u001b[38;5;241;43m.\u001b[39;49m\u001b[43mexecute\u001b[49m\u001b[43m(\u001b[49m\u001b[38;5;124;43m\"\u001b[39;49m\u001b[38;5;124;43mINSERT INTO catalogo(codigo,idProducto,detalle) VALUES(?,?,?)\u001b[39;49m\u001b[38;5;124;43m\"\u001b[39;49m\u001b[43m,\u001b[49m\u001b[43m(\u001b[49m\u001b[38;5;124;43m\"\u001b[39;49m\u001b[38;5;124;43mPD405\u001b[39;49m\u001b[38;5;124;43m\"\u001b[39;49m\u001b[43m,\u001b[49m\u001b[38;5;241;43m1\u001b[39;49m\u001b[43m,\u001b[49m\u001b[38;5;124;43m\"\u001b[39;49m\u001b[38;5;124;43mZapatos\u001b[39;49m\u001b[38;5;124;43m\"\u001b[39;49m\u001b[43m)\u001b[49m\u001b[43m)\u001b[49m\n\u001b[0;32m      6\u001b[0m conexion\u001b[38;5;241m.\u001b[39mcommit() \u001b[38;5;66;03m#Insert, update, delete\u001b[39;00m\n\u001b[0;32m      7\u001b[0m conexion\u001b[38;5;241m.\u001b[39mclose()\n",
      "\u001b[1;31mIntegrityError\u001b[0m: UNIQUE constraint failed: catalogo.codigo"
     ]
    }
   ],
   "source": [
    "\"\"\"6. Eliminar un registro de la tabla catalogo\"\"\"\n",
    "\n",
    "conexion = sqlite3.connect(\"repasando_bdd.db\")\n",
    "conexion.execute(\"INSERT INTO catalogo(codigo,idProducto,detalle) VALUES(?,?,?)\",(\"PD404\",2,\"Moda\"))\n",
    "conexion.execute(\"INSERT INTO catalogo(codigo,idProducto,detalle) VALUES(?,?,?)\",(\"PD405\",1,\"Zapatos\"))\n",
    "conexion.commit() #Insert, update, delete\n",
    "conexion.close()\n"
   ]
  },
  {
   "cell_type": "code",
   "execution_count": 42,
   "id": "2775970f",
   "metadata": {},
   "outputs": [
    {
     "ename": "OperationalError",
     "evalue": "database is locked",
     "output_type": "error",
     "traceback": [
      "\u001b[1;31m---------------------------------------------------------------------------\u001b[0m",
      "\u001b[1;31mOperationalError\u001b[0m                          Traceback (most recent call last)",
      "Input \u001b[1;32mIn [42]\u001b[0m, in \u001b[0;36m<cell line: 3>\u001b[1;34m()\u001b[0m\n\u001b[0;32m      1\u001b[0m conexion \u001b[38;5;241m=\u001b[39m sqlite3\u001b[38;5;241m.\u001b[39mconnect(\u001b[38;5;124m\"\u001b[39m\u001b[38;5;124mrepasando_bdd.db\u001b[39m\u001b[38;5;124m\"\u001b[39m)\n\u001b[0;32m      2\u001b[0m conexion\u001b[38;5;241m.\u001b[39mexecute(\u001b[38;5;124m\"\u001b[39m\u001b[38;5;124mDELETE FROM catalogo WHERE codigo = \u001b[39m\u001b[38;5;124m'\u001b[39m\u001b[38;5;124mPD405\u001b[39m\u001b[38;5;124m'\u001b[39m\u001b[38;5;124m\"\u001b[39m)\n\u001b[1;32m----> 3\u001b[0m \u001b[43mconexion\u001b[49m\u001b[38;5;241;43m.\u001b[39;49m\u001b[43mcommit\u001b[49m\u001b[43m(\u001b[49m\u001b[43m)\u001b[49m \u001b[38;5;66;03m#Insert, update, delete\u001b[39;00m\n\u001b[0;32m      4\u001b[0m conexion\u001b[38;5;241m.\u001b[39mclose()\n",
      "\u001b[1;31mOperationalError\u001b[0m: database is locked"
     ]
    }
   ],
   "source": [
    "conexion = sqlite3.connect(\"repasando_bdd.db\")\n",
    "conexion.execute(\"DELETE FROM catalogo WHERE codigo = 'PD405'\")\n",
    "conexion.commit() #Insert, update, delete\n",
    "conexion.close()"
   ]
  },
  {
   "cell_type": "code",
   "execution_count": null,
   "id": "832052f6",
   "metadata": {},
   "outputs": [],
   "source": [
    "conexion = sqlite3.connect(\"repasando_bdd.db\")\n",
    "consultar = conexion.execute(\"SELECT * FROM catalogo\")\n",
    "\n",
    "for registro in consultar:\n",
    "    print(registro)\n",
    "    id\n",
    "conexion.close()  \n"
   ]
  },
  {
   "cell_type": "code",
   "execution_count": 19,
   "id": "ae7bf947",
   "metadata": {},
   "outputs": [
    {
     "name": "stdout",
     "output_type": "stream",
     "text": [
      "(1, 'chompas', 5, 68.55, 'PD405', 1, 'Zapatos')\n"
     ]
    }
   ],
   "source": [
    "\"\"\"7. Mostrar apartir de la tabla productos todos los datos de ambas tablas de la BDD\"\"\"\n",
    "conexion = sqlite3.connect(\"repasando_bdd.db\")\n",
    "consultarnueva = conexion.execute(\"SELECT * FROM productos,catalogo WHERE id_producto = idProducto\")\n",
    "for registro in consultarnueva:\n",
    "    print(registro)\n",
    "conexion.close()  "
   ]
  },
  {
   "cell_type": "code",
   "execution_count": 47,
   "id": "80b0b751",
   "metadata": {},
   "outputs": [
    {
     "name": "stdout",
     "output_type": "stream",
     "text": [
      "Ingrese el id del producto a consultar 1\n",
      "('chompas', 68.55, 'Zapatos')\n"
     ]
    }
   ],
   "source": [
    "\"\"\"\n",
    "#8. Mostrar apartir de la tabla productos los campos “descripción, precio y detalle”\n",
    "donde id_producto sea igual al valor ingresado por teclado.\n",
    "\"\"\"\n",
    "conexion = sqlite3.connect(\"repasando_bdd.db\")\n",
    "idProducto = int(input(\"Ingrese el id del producto a consultar \"))\n",
    "consultarId = conexion.execute(\"SELECT descripcion, precio, detalle FROM productos,catalogo WHERE id_producto = idProducto AND id_producto = ?\", (idProducto, ))\n",
    "datos = consultarId.fetchone()\n",
    "\n",
    "if datos != None:\n",
    "    print(datos)\n",
    "else:\n",
    "    print(\"No existe el producto con el Id\")\n",
    "\n",
    "conexion.close()  "
   ]
  },
  {
   "cell_type": "code",
   "execution_count": 45,
   "id": "e1332bc1",
   "metadata": {},
   "outputs": [
    {
     "name": "stdout",
     "output_type": "stream",
     "text": [
      "(2, 'pantalones', 5, 18.75)\n",
      "(1, 'chompas', 5, 68.55)\n"
     ]
    }
   ],
   "source": [
    "\"\"\"9.Mostrar los 5 últimos registros de la tabla producto.\"\"\"\n",
    "\n",
    "conexion = sqlite3.connect(\"repasando_bdd.db\")\n",
    "consultarultimos = conexion.execute(\"SELECT * FROM productos ORDER BY id_producto DESC limit 5\")\n",
    "for registro in consultarultimos:\n",
    "    print(registro)\n",
    "    id\n",
    "conexion.close()  "
   ]
  },
  {
   "cell_type": "code",
   "execution_count": 46,
   "id": "cba92fd1",
   "metadata": {},
   "outputs": [
    {
     "name": "stdout",
     "output_type": "stream",
     "text": [
      "('PD405', 1, 'Zapatos')\n"
     ]
    }
   ],
   "source": [
    "\"\"\"10. Mostrar los 7 primeros registros de la tabla catalogo\"\"\"\n",
    "\n",
    "conexion = sqlite3.connect(\"repasando_bdd.db\")\n",
    "consultarprimeros = conexion.execute(\"SELECT * FROM catalogo limit 7\")\n",
    "for registro in consultarprimeros:\n",
    "    print(registro)\n",
    "    id\n",
    "conexion.close()  "
   ]
  },
  {
   "cell_type": "code",
   "execution_count": null,
   "id": "d6624098",
   "metadata": {},
   "outputs": [],
   "source": []
  }
 ],
 "metadata": {
  "kernelspec": {
   "display_name": "Python 3 (ipykernel)",
   "language": "python",
   "name": "python3"
  },
  "language_info": {
   "codemirror_mode": {
    "name": "ipython",
    "version": 3
   },
   "file_extension": ".py",
   "mimetype": "text/x-python",
   "name": "python",
   "nbconvert_exporter": "python",
   "pygments_lexer": "ipython3",
   "version": "3.9.12"
  }
 },
 "nbformat": 4,
 "nbformat_minor": 5
}
