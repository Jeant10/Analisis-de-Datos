{
 "cells": [
  {
   "cell_type": "code",
   "execution_count": 30,
   "id": "0a7a9088",
   "metadata": {},
   "outputs": [
    {
     "name": "stdout",
     "output_type": "stream",
     "text": [
      "Requirement already satisfied: sqlalchemy in c:\\users\\jeant\\anaconda3\\lib\\site-packages (1.4.32)\n",
      "Requirement already satisfied: greenlet!=0.4.17 in c:\\users\\jeant\\anaconda3\\lib\\site-packages (from sqlalchemy) (1.1.1)\n",
      "Requirement already satisfied: pandas in c:\\users\\jeant\\anaconda3\\lib\\site-packages (1.4.2)\n",
      "Requirement already satisfied: numpy>=1.18.5 in c:\\users\\jeant\\anaconda3\\lib\\site-packages (from pandas) (1.21.5)\n",
      "Requirement already satisfied: python-dateutil>=2.8.1 in c:\\users\\jeant\\anaconda3\\lib\\site-packages (from pandas) (2.8.2)\n",
      "Requirement already satisfied: pytz>=2020.1 in c:\\users\\jeant\\anaconda3\\lib\\site-packages (from pandas) (2021.3)\n",
      "Requirement already satisfied: six>=1.5 in c:\\users\\jeant\\anaconda3\\lib\\site-packages (from python-dateutil>=2.8.1->pandas) (1.16.0)\n"
     ]
    }
   ],
   "source": [
    "!pip install sqlalchemy\n",
    "!pip install pandas"
   ]
  },
  {
   "cell_type": "code",
   "execution_count": 56,
   "id": "d53908b8",
   "metadata": {},
   "outputs": [],
   "source": [
    "import pandas as pd\n",
    "from sqlalchemy import create_engine"
   ]
  },
  {
   "cell_type": "code",
   "execution_count": 37,
   "id": "db48eb57",
   "metadata": {},
   "outputs": [
    {
     "name": "stdout",
     "output_type": "stream",
     "text": [
      "   A  B  C\n",
      "0  2  4  7\n",
      "1  4  3  3\n",
      "2  5  5  4\n",
      "3  6  6  6\n"
     ]
    }
   ],
   "source": [
    "diccionario = {'A':[2,4,5,6],'B':[4,3,5,6],'C':[7,3,4,6]}\n",
    "df_dict = pd.DataFrame(diccionario)\n",
    "print(df_dict)"
   ]
  },
  {
   "cell_type": "code",
   "execution_count": 38,
   "id": "46d03a8e",
   "metadata": {},
   "outputs": [
    {
     "data": {
      "text/plain": [
       "4"
      ]
     },
     "execution_count": 38,
     "metadata": {},
     "output_type": "execute_result"
    }
   ],
   "source": [
    "bdd = create_engine('sqlite:///:memory:')\n",
    "df_dict.to_sql('tabla',bdd,index=False)\n"
   ]
  },
  {
   "cell_type": "code",
   "execution_count": 39,
   "id": "032bffec",
   "metadata": {},
   "outputs": [
    {
     "name": "stdout",
     "output_type": "stream",
     "text": [
      "   A  B  C\n",
      "0  2  4  7\n",
      "1  4  3  3\n",
      "2  5  5  4\n",
      "3  6  6  6\n"
     ]
    }
   ],
   "source": [
    "leer_datos = pd.read_sql('tabla',con=bdd)\n",
    "print(leer_datos)"
   ]
  },
  {
   "cell_type": "code",
   "execution_count": 42,
   "id": "93e565b1",
   "metadata": {},
   "outputs": [
    {
     "data": {
      "text/plain": [
       "[(2, 4, 7), (4, 3, 3), (5, 5, 4), (6, 6, 6)]"
      ]
     },
     "execution_count": 42,
     "metadata": {},
     "output_type": "execute_result"
    }
   ],
   "source": [
    "bdd.execute(\"SELECT * FROM TABLA\").fetchall()"
   ]
  },
  {
   "cell_type": "code",
   "execution_count": 44,
   "id": "b7a52f20",
   "metadata": {},
   "outputs": [
    {
     "data": {
      "text/plain": [
       "[(2, 4, 7)]"
      ]
     },
     "execution_count": 44,
     "metadata": {},
     "output_type": "execute_result"
    }
   ],
   "source": [
    "bdd.execute(\"SELECT * FROM TABLA WHERE A = 2\").fetchall()"
   ]
  },
  {
   "cell_type": "markdown",
   "id": "ca05a117",
   "metadata": {},
   "source": [
    "# Sqlite3"
   ]
  },
  {
   "cell_type": "code",
   "execution_count": 48,
   "id": "9264d433",
   "metadata": {},
   "outputs": [
    {
     "name": "stdout",
     "output_type": "stream",
     "text": [
      "Collecting pysqlite3\n",
      "  Using cached pysqlite3-0.4.7.tar.gz (40 kB)\n",
      "Building wheels for collected packages: pysqlite3\n",
      "  Building wheel for pysqlite3 (setup.py): started\n",
      "  Building wheel for pysqlite3 (setup.py): finished with status 'done'\n",
      "  Running setup.py clean for pysqlite3\n",
      "Failed to build pysqlite3\n",
      "Installing collected packages: pysqlite3\n",
      "    Running setup.py install for pysqlite3: started\n",
      "    Running setup.py install for pysqlite3: finished with status 'done'\n",
      "Successfully installed pysqlite3\n"
     ]
    },
    {
     "name": "stderr",
     "output_type": "stream",
     "text": [
      "  WARNING: Legacy build of wheel for 'pysqlite3' created no files.\n",
      "  Command arguments: 'C:\\Users\\jeant\\anaconda3\\python.exe' -u -c 'import io, os, sys, setuptools, tokenize; sys.argv[0] = '\"'\"'C:\\\\Users\\\\jeant\\\\AppData\\\\Local\\\\Temp\\\\pip-install-i8ixyh91\\\\pysqlite3_befbeec9328e4b2ab92eaf28a1c09d0c\\\\setup.py'\"'\"'; __file__='\"'\"'C:\\\\Users\\\\jeant\\\\AppData\\\\Local\\\\Temp\\\\pip-install-i8ixyh91\\\\pysqlite3_befbeec9328e4b2ab92eaf28a1c09d0c\\\\setup.py'\"'\"';f = getattr(tokenize, '\"'\"'open'\"'\"', open)(__file__) if os.path.exists(__file__) else io.StringIO('\"'\"'from setuptools import setup; setup()'\"'\"');code = f.read().replace('\"'\"'\\r\\n'\"'\"', '\"'\"'\\n'\"'\"');f.close();exec(compile(code, __file__, '\"'\"'exec'\"'\"'))' bdist_wheel -d 'C:\\Users\\jeant\\AppData\\Local\\Temp\\pip-wheel-335xq6c5'\n",
      "  Command output: [use --verbose to show]\n"
     ]
    }
   ],
   "source": [
    "!pip install pysqlite3"
   ]
  },
  {
   "cell_type": "code",
   "execution_count": 54,
   "id": "2232d628",
   "metadata": {},
   "outputs": [],
   "source": [
    "import sqlite3"
   ]
  },
  {
   "cell_type": "code",
   "execution_count": 60,
   "id": "05208100",
   "metadata": {},
   "outputs": [
    {
     "data": {
      "text/html": [
       "<div>\n",
       "<style scoped>\n",
       "    .dataframe tbody tr th:only-of-type {\n",
       "        vertical-align: middle;\n",
       "    }\n",
       "\n",
       "    .dataframe tbody tr th {\n",
       "        vertical-align: top;\n",
       "    }\n",
       "\n",
       "    .dataframe thead th {\n",
       "        text-align: right;\n",
       "    }\n",
       "</style>\n",
       "<table border=\"1\" class=\"dataframe\">\n",
       "  <thead>\n",
       "    <tr style=\"text-align: right;\">\n",
       "      <th></th>\n",
       "      <th>index</th>\n",
       "      <th>apples</th>\n",
       "      <th>oranges</th>\n",
       "    </tr>\n",
       "  </thead>\n",
       "  <tbody>\n",
       "    <tr>\n",
       "      <th>0</th>\n",
       "      <td>Rosita</td>\n",
       "      <td>5</td>\n",
       "      <td>5</td>\n",
       "    </tr>\n",
       "    <tr>\n",
       "      <th>1</th>\n",
       "      <td>Hugo</td>\n",
       "      <td>6</td>\n",
       "      <td>7</td>\n",
       "    </tr>\n",
       "    <tr>\n",
       "      <th>2</th>\n",
       "      <td>Paco</td>\n",
       "      <td>8</td>\n",
       "      <td>4</td>\n",
       "    </tr>\n",
       "    <tr>\n",
       "      <th>3</th>\n",
       "      <td>Luis</td>\n",
       "      <td>3</td>\n",
       "      <td>9</td>\n",
       "    </tr>\n",
       "  </tbody>\n",
       "</table>\n",
       "</div>"
      ],
      "text/plain": [
       "    index  apples  oranges\n",
       "0  Rosita       5        5\n",
       "1    Hugo       6        7\n",
       "2    Paco       8        4\n",
       "3    Luis       3        9"
      ]
     },
     "execution_count": 60,
     "metadata": {},
     "output_type": "execute_result"
    }
   ],
   "source": [
    "con = sqlite3.connect(\"database.db\")\n",
    "consulta = pd.read_sql_query(\"SELECT * FROM compras\", con)\n",
    "consulta"
   ]
  },
  {
   "cell_type": "code",
   "execution_count": 59,
   "id": "282a547b",
   "metadata": {},
   "outputs": [
    {
     "data": {
      "text/html": [
       "<div>\n",
       "<style scoped>\n",
       "    .dataframe tbody tr th:only-of-type {\n",
       "        vertical-align: middle;\n",
       "    }\n",
       "\n",
       "    .dataframe tbody tr th {\n",
       "        vertical-align: top;\n",
       "    }\n",
       "\n",
       "    .dataframe thead th {\n",
       "        text-align: right;\n",
       "    }\n",
       "</style>\n",
       "<table border=\"1\" class=\"dataframe\">\n",
       "  <thead>\n",
       "    <tr style=\"text-align: right;\">\n",
       "      <th></th>\n",
       "      <th>apples</th>\n",
       "      <th>oranges</th>\n",
       "    </tr>\n",
       "    <tr>\n",
       "      <th>index</th>\n",
       "      <th></th>\n",
       "      <th></th>\n",
       "    </tr>\n",
       "  </thead>\n",
       "  <tbody>\n",
       "    <tr>\n",
       "      <th>Rosita</th>\n",
       "      <td>5</td>\n",
       "      <td>5</td>\n",
       "    </tr>\n",
       "    <tr>\n",
       "      <th>Hugo</th>\n",
       "      <td>6</td>\n",
       "      <td>7</td>\n",
       "    </tr>\n",
       "    <tr>\n",
       "      <th>Paco</th>\n",
       "      <td>8</td>\n",
       "      <td>4</td>\n",
       "    </tr>\n",
       "    <tr>\n",
       "      <th>Luis</th>\n",
       "      <td>3</td>\n",
       "      <td>9</td>\n",
       "    </tr>\n",
       "  </tbody>\n",
       "</table>\n",
       "</div>"
      ],
      "text/plain": [
       "        apples  oranges\n",
       "index                  \n",
       "Rosita       5        5\n",
       "Hugo         6        7\n",
       "Paco         8        4\n",
       "Luis         3        9"
      ]
     },
     "execution_count": 59,
     "metadata": {},
     "output_type": "execute_result"
    }
   ],
   "source": [
    "definirIndex = consulta.set_index('index')\n",
    "definirIndex"
   ]
  },
  {
   "cell_type": "markdown",
   "id": "a49c0044",
   "metadata": {},
   "source": [
    "# Crear BDD\n"
   ]
  },
  {
   "cell_type": "code",
   "execution_count": 61,
   "id": "2227fbb7",
   "metadata": {},
   "outputs": [
    {
     "name": "stdout",
     "output_type": "stream",
     "text": [
      "Se ha creado la tabla productos!!\n",
      "Se ha creado la tabla catalogo!!\n"
     ]
    }
   ],
   "source": [
    "conexion = sqlite3.connect(\"repasando_bdd.db\")\n",
    "\n",
    "try:\n",
    "    conexion.execute(\"\"\"CREATE TABLE productos(\n",
    "                    id_producto integer primary key autoincrement,\n",
    "                    descripcion text,\n",
    "                    cantidad integer,\n",
    "                    precio real\n",
    "                    )\"\"\")\n",
    "    print(\"Se ha creado la tabla productos!!\")\n",
    "except sqlite.OperationError:\n",
    "    print(\"Conflicto en crear la tabla producto\")\n",
    "\n",
    "try:\n",
    "    conexion.execute(\"\"\"CREATE TABLE catalogo(\n",
    "                    codigo text primary key,\n",
    "                    idProducto,\n",
    "                    detalle text,\n",
    "                    foreign key(idProducto) references productos(id_producto)\n",
    "                    )\"\"\")\n",
    "    print(\"Se ha creado la tabla catalogo!!\")\n",
    "except sqlite.OperationError:\n",
    "    print(\"Conflicto en crear la tabla catalogo\")"
   ]
  },
  {
   "cell_type": "code",
   "execution_count": null,
   "id": "2783cff9",
   "metadata": {},
   "outputs": [],
   "source": []
  },
  {
   "cell_type": "code",
   "execution_count": 64,
   "id": "a8ec54ff",
   "metadata": {},
   "outputs": [],
   "source": [
    "conexion = sqlite3.connect(\"repasando_bdd.db\")\n",
    "conexion.execute(\"INSERT INTO productos(descripcion,cantidad,precio) VALUES(?,?,?)\",(\"chompas\",5,68.55))\n",
    "conexion.execute(\"INSERT INTO productos(descripcion,cantidad,precio) VALUES(?,?,?)\",(\"pantalones\",5,18.75))\n",
    "conexion.commit() #Insert, update, delete\n",
    "conexion.close()"
   ]
  },
  {
   "cell_type": "code",
   "execution_count": 65,
   "id": "399641dc",
   "metadata": {},
   "outputs": [
    {
     "name": "stdout",
     "output_type": "stream",
     "text": [
      "(1, 'chompas', 5, 68.55)\n",
      "(2, 'pantalones', 5, 18.75)\n"
     ]
    }
   ],
   "source": [
    "conexion = sqlite3.connect(\"repasando_bdd.db\")\n",
    "consultar = conexion.execute(\"SELECT * FROM productos\")\n",
    "\n",
    "for registro in consultar:\n",
    "    print(registro)\n",
    "#conexion.close()  "
   ]
  },
  {
   "cell_type": "code",
   "execution_count": 68,
   "id": "66866ac9",
   "metadata": {},
   "outputs": [
    {
     "name": "stdout",
     "output_type": "stream",
     "text": [
      "Ingrese el id del producto a consultar 2\n",
      "(2, 'pantalones', 5, 18.75)\n"
     ]
    }
   ],
   "source": [
    "idProducto = int(input(\"Ingrese el id del producto a consultar \"))\n",
    "consultarId = conexion.execute(\"SELECT * FROM productos WHERE id_producto = ?\", (idProducto, ))\n",
    "datos = consultarId.fetchone()\n",
    "\n",
    "if datos != None:\n",
    "    print(datos)\n",
    "else:\n",
    "    print(\"No existe el producto con el Id\")\n",
    "    "
   ]
  },
  {
   "cell_type": "code",
   "execution_count": null,
   "id": "ff9fc24d",
   "metadata": {},
   "outputs": [],
   "source": [
    "conexion.execute(\"UPDATE productos SET descripcion = 'nuevo_dato' WHERE id_producto = 2\")\n",
    "conexion.execute(\"DELETE productos WHERE id_producto = 2\")"
   ]
  },
  {
   "cell_type": "code",
   "execution_count": null,
   "id": "a66169d7",
   "metadata": {},
   "outputs": [],
   "source": []
  }
 ],
 "metadata": {
  "kernelspec": {
   "display_name": "Python 3 (ipykernel)",
   "language": "python",
   "name": "python3"
  },
  "language_info": {
   "codemirror_mode": {
    "name": "ipython",
    "version": 3
   },
   "file_extension": ".py",
   "mimetype": "text/x-python",
   "name": "python",
   "nbconvert_exporter": "python",
   "pygments_lexer": "ipython3",
   "version": "3.9.12"
  }
 },
 "nbformat": 4,
 "nbformat_minor": 5
}
